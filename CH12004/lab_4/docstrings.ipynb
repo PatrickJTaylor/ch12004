{
 "cells": [
  {
   "cell_type": "markdown",
   "id": "342972ee-7446-4094-a746-7b05cc193a1d",
   "metadata": {},
   "source": [
    "# Docstrings"
   ]
  },
  {
   "cell_type": "markdown",
   "id": "c684e266-c549-4f52-800b-d7064f218ad5",
   "metadata": {},
   "source": [
    "You may recall our previous discussion about [writing readable code](../lab_2/writing_readable_code.ipynb) and the importance of **documentation**. Functions provide us with a new means of documenting our code via **docstrings**. These are essentially block comments that we add to function definitions to explain exactly what that function does, the arguments expected from the user etc. To use a concrete example, let's say I've written a function to calculate the kinetic energy of a particle as:\n",
    "\n",
    "$$T = \\frac{1}{2}mv^{2}.$$"
   ]
  },
  {
   "cell_type": "code",
   "execution_count": 1,
   "id": "3e0da0c5-6f41-4639-a8c6-3eabf47a61a7",
   "metadata": {},
   "outputs": [],
   "source": [
    "def kinetic_energy(m, v):\n",
    "    return (1 / 2) * m * v ** 2"
   ]
  },
  {
   "cell_type": "markdown",
   "id": "989bec0b-cee4-4772-9f3b-50d40c2d6f28",
   "metadata": {},
   "source": [
    "Even though this is simple enough that a docstring may not seem strictly necessary, it is good practice to write docstrings for **all functions**. To add a docstring, we use **triple quotes** `\"\"\"`:"
   ]
  },
  {
   "cell_type": "code",
   "execution_count": 2,
   "id": "fcb2058a-8d1c-4389-8ec8-fcbd421947e6",
   "metadata": {},
   "outputs": [],
   "source": [
    "def kinetic_energy(m, v):\n",
    "    \"\"\"\n",
    "    Calculate the kinetic energy as 1/2mv^2.\n",
    "\n",
    "    Args:\n",
    "        m (float): The mass of the particle.\n",
    "        v (float): The velocity of the particle.\n",
    "\n",
    "    Returns:\n",
    "        (float): The kinetic energy of the particle.\n",
    "    \"\"\"\n",
    "    return (1 / 2) * m * v ** 2"
   ]
  },
  {
   "cell_type": "markdown",
   "id": "d99dcb72-c9b8-4c5a-b771-4dfed0ff4e4e",
   "metadata": {},
   "source": [
    "Our docstring can be split into several sections. At the top we have a brief description of what the function does: a general summary.\n",
    "\n",
    "Next we have an `Args` section, which details each of the arguments we expected to be passed to the function and what `type` each one should be.\n",
    "\n",
    "Finally we have a `Returns` section, which tells us what the function should return and the type of this result.\n",
    "\n",
    "The exact format of this example docstring follows the [Google style](https://sphinxcontrib-napoleon.readthedocs.io/en/latest/example_google.html), but there are various other standards for formatting docstrings too.\n",
    "\n",
    "If you are working with a function that has been properly documented, you can access the docstring in a few different ways. Firstly, and most obviously, you can just look at the source code itself. We can do this easily here as we have literally just defined `kinetic_energy` ourselves, but if someone else had written it, this would not be as quick and easy an option.\n",
    "\n",
    "Option two is to access the `__doc__` attribute:"
   ]
  },
  {
   "cell_type": "code",
   "execution_count": 4,
   "id": "8f70a0ef-e974-427b-85b9-5c9a4a08571d",
   "metadata": {},
   "outputs": [
    {
     "name": "stdout",
     "output_type": "stream",
     "text": [
      "\n",
      "    Calculate the kinetic energy as 1/2mv^2.\n",
      "\n",
      "    Args:\n",
      "        m (float): The mass of the particle.\n",
      "        v (float): The velocity of the particle.\n",
      "\n",
      "    Returns:\n",
      "        (float): The kinetic energy of the particle.\n",
      "    \n"
     ]
    }
   ],
   "source": [
    "print(kinetic_energy.__doc__)"
   ]
  },
  {
   "cell_type": "markdown",
   "id": "3f671a4e-2973-402f-b1c3-03d0699c4c2a",
   "metadata": {},
   "source": [
    "Python will define a `__doc__` attribute for every function that has been properly documented, we can `print` this to access the docstring.\n",
    "\n",
    "Option three is only available in Jupyter notebooks, but is generally the quickest and easiest if available:"
   ]
  },
  {
   "cell_type": "code",
   "execution_count": 5,
   "id": "ddfc4499-8b94-47f3-b978-b48a5c14eb7a",
   "metadata": {},
   "outputs": [
    {
     "data": {
      "text/plain": [
       "\u001b[0;31mSignature:\u001b[0m \u001b[0mkinetic_energy\u001b[0m\u001b[0;34m(\u001b[0m\u001b[0mm\u001b[0m\u001b[0;34m,\u001b[0m \u001b[0mv\u001b[0m\u001b[0;34m)\u001b[0m\u001b[0;34m\u001b[0m\u001b[0;34m\u001b[0m\u001b[0m\n",
       "\u001b[0;31mDocstring:\u001b[0m\n",
       "Calculate the kinetic energy as 1/2mv^2.\n",
       "\n",
       "Args:\n",
       "    m (float): The mass of the particle.\n",
       "    v (float): The velocity of the particle.\n",
       "\n",
       "Returns:\n",
       "    (float): The kinetic energy of the particle.\n",
       "\u001b[0;31mFile:\u001b[0m      /var/folders/sn/3pz6tq_50xs6xv_mln0gccdc0000gq/T/ipykernel_14852/2981651585.py\n",
       "\u001b[0;31mType:\u001b[0m      function"
      ]
     },
     "metadata": {},
     "output_type": "display_data"
    }
   ],
   "source": [
    "kinetic_energy?"
   ]
  },
  {
   "cell_type": "markdown",
   "id": "7cefc3e2-dc6a-4c8b-8713-e2807fc44545",
   "metadata": {},
   "source": [
    "We have just demonstrated how to access the docstring associated with our own `kinetic_energy` function, but the same methods work for **any** function, even built-in functions:"
   ]
  },
  {
   "cell_type": "code",
   "execution_count": 7,
   "id": "ffb70d91-56ce-47dc-8c94-cddefe70aaa2",
   "metadata": {},
   "outputs": [
    {
     "name": "stdout",
     "output_type": "stream",
     "text": [
      "Return the number of items in a container.\n"
     ]
    }
   ],
   "source": [
    "print(len.__doc__)"
   ]
  },
  {
   "cell_type": "code",
   "execution_count": 8,
   "id": "4caac807-5db5-4bcc-b302-bbf1dc7789a7",
   "metadata": {},
   "outputs": [
    {
     "data": {
      "text/plain": [
       "\u001b[0;31mSignature:\u001b[0m \u001b[0mlen\u001b[0m\u001b[0;34m(\u001b[0m\u001b[0mobj\u001b[0m\u001b[0;34m,\u001b[0m \u001b[0;34m/\u001b[0m\u001b[0;34m)\u001b[0m\u001b[0;34m\u001b[0m\u001b[0;34m\u001b[0m\u001b[0m\n",
       "\u001b[0;31mDocstring:\u001b[0m Return the number of items in a container.\n",
       "\u001b[0;31mType:\u001b[0m      builtin_function_or_method"
      ]
     },
     "metadata": {},
     "output_type": "display_data"
    }
   ],
   "source": [
    "len?"
   ]
  },
  {
   "cell_type": "markdown",
   "id": "ce025ed5-27ce-4cb9-ba6e-e4f86b984c95",
   "metadata": {},
   "source": [
    "For all the same reasons as we previously discussed for comments and Markdown cells, it is good practice to make heavy use of docstrings. In fact, you should really write a docstring for **every function you write**, it takes $2$ minutes and could save you a lot of trouble down the line."
   ]
  },
  {
   "cell_type": "markdown",
   "id": "c580176d-ace9-4758-8ef3-c4cc8b611d9f",
   "metadata": {},
   "source": [
    "## Exercise"
   ]
  },
  {
   "cell_type": "markdown",
   "id": "0e1d4007-6232-47a1-980a-78d9f4bd0313",
   "metadata": {},
   "source": [
    "**1.** Define your own functions (with **docstrings**) to calculate the following quantities:\n",
    "\n",
    "a) The **De Broglie wavelength**:\n",
    "\n",
    "$$\\lambda = \\frac{h}{p},$$\n",
    "\n",
    "where $h$ is Planck's constant and $p$ is the momentum. You can access $h$ via `scipy.constants.h`, or alternatively you may pass it directly as an **argument**.\n",
    "\n",
    "Test your function for $p = 1.01 \\times 10^{-31}\\,$kgms$^{-1}$.\n",
    "\n",
    "b) The **change in the Gibbs free energy**:\n",
    "\n",
    "$$\\Delta G = -RT\\ln K,$$\n",
    "\n",
    "where $R$ is the gas constant, $T$ is the temperature and $K$ is the equilibrium constant.\n",
    "\n",
    "Test your function for $T = 500\\,$K and $K = 1.15$.\n",
    "\n",
    "c) The **mean activity** according to the Debye-Huckel limiting law:\n",
    "\n",
    "$$\\gamma_{\\pm} = \\exp\\left[-|z_{+}z_{-}|A\\sqrt{I}\\right],$$\n",
    "\n",
    "where $z_{+}$ and $z_{-}$ are the charges on the cations and anions respectively, $I$ is the ionic strength and $A$ is a constant that depends upon the solvent and the temperature.\n",
    "\n",
    "Test your function for $z_{+} = 1$, $z_{-} = 2$, $A = 1.179\\,$M$^{\\frac{1}{2}}$ and $I = 0.018\\,$M.\n",
    "\n",
    "**Answers:**\n",
    "```{toggle}\n",
    "$$\\lambda = 6.56 \\times 10^{-3}\\,\\mathrm{m}$$\n",
    "\n",
    "$$\\Delta G = -5.81 \\times 10^{-1}\\,\\mathrm{kJmol}^{-1}$$\n",
    "\n",
    "$$\\gamma_{\\pm} = 0.729 $$\n",
    "```\n",
    "\n",
    "**2.**\n",
    "\n",
    "a) The **thermal De Broglie wavelength** describes the average De Broglie wavelength of particles in an ideal gas at a given temperature:\n",
    "\n",
    "$$\\Lambda = \\frac{h}{\\sqrt{2\\pi mk_{\\mathrm{B}}T}},$$\n",
    "\n",
    "where $h$ is Planck's constant, $m$ is the mass of each particle, $k_{B}$ is Boltzmann's constant and $T$ is the temperature.\n",
    "\n",
    "Write a function to calculate $\\Lambda$. You can access $k_{B}$ via `scipy.constants.k`.\n",
    "\n",
    "b) The entropy of an ideal gas can be calculated with the Sackur-Tetrode equation:\n",
    "\n",
    "$$\\frac{S}{k_{\\mathrm{B}}N} = \\ln\\left(\\frac{V}{N\\Lambda^{3}}\\right) + \\frac{5}{2},$$\n",
    "\n",
    "where $S$ is the entropy, $N$ is the number of particles, $V$ is the volume, $k_{\\mathrm{B}}$ is Boltzmann's constant and $\\Lambda$ is the thermal wavelength mentioned prior.\n",
    "\n",
    "Write a function to calculate the entropy of an ideal gas with the Sackur-Tetrode equation.\n",
    "\n",
    "c) Using your two functions, calculate the entropy of an ideal gas with $m = 6.63 \\times 10^{-26}\\,$kg, $T = 500\\,$K, $N = 1.92 \\times 10^{23}$ and $V = 5.00 \\times 10^{-3}\\,$m$^{-3}$.\n",
    "\n",
    "**Answers**:\n",
    "```{toggle}\n",
    "$$S = 50.2\\,\\mathrm{JK}^{-1}$$\n",
    "```"
   ]
  },
  {
   "cell_type": "code",
   "execution_count": null,
   "id": "69729eba-adf4-4093-bfcf-62165fe8d056",
   "metadata": {},
   "outputs": [],
   "source": []
  }
 ],
 "metadata": {
  "kernelspec": {
   "display_name": "Python 3 (ipykernel)",
   "language": "python",
   "name": "python3"
  },
  "language_info": {
   "codemirror_mode": {
    "name": "ipython",
    "version": 3
   },
   "file_extension": ".py",
   "mimetype": "text/x-python",
   "name": "python",
   "nbconvert_exporter": "python",
   "pygments_lexer": "ipython3",
   "version": "3.12.0"
  }
 },
 "nbformat": 4,
 "nbformat_minor": 5
}
