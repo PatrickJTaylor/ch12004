{
 "cells": [
  {
   "cell_type": "markdown",
   "id": "870a190b-fb40-4dee-85c2-710d5c9edd04",
   "metadata": {},
   "source": [
    "# Synoptic exercises"
   ]
  },
  {
   "cell_type": "markdown",
   "id": "c35c488c-5de8-48b6-944c-d41a970a8bf4",
   "metadata": {},
   "source": [
    "Let's see if your functions *function*.\n",
    "\n",
    "**1.** There are several infinite series that converge to something proportional to $\\pi$. For example, the Basel series is defined as an infinite sum of reciprocal square numbers:\n",
    "\n",
    "$$\\frac{1}{1^{2}} + \\frac{1}{2^{2}} + \\frac{1}{3^{2}} + \\cdots = \\sum_{k=1}^{\\infty} \\frac{1}{k^{2}} = \\frac{\\pi^{2}}{6}.$$\n",
    "\n",
    "a) Write a function to approximate $\\pi$ by evaluating the Basel series up to a given term $n$. Test your function for $n = 1000$."
   ]
  },
  {
   "cell_type": "code",
   "execution_count": 1,
   "id": "4fca84ef-cbd8-4d44-a1ef-3596f01a2fd9",
   "metadata": {},
   "outputs": [
    {
     "name": "stdout",
     "output_type": "stream",
     "text": [
      "pi is approximately 3.1406380562059946\n"
     ]
    }
   ],
   "source": [
    "import math\n",
    "\n",
    "def basel(n):\n",
    "    \"\"\"\n",
    "    Evaluate the Basel series (1/1^2 + 1/2^2 + 1/3^3 + ...) up to term n.\n",
    "\n",
    "    Args:\n",
    "        n (int): The term up to which the series should be evaluated.\n",
    "\n",
    "    Returns:\n",
    "        (float): The series evaluated up to term n.\n",
    "    \"\"\"\n",
    "\n",
    "    cumulative_sum = 0\n",
    "\n",
    "    for divisor in range(1, n + 1):\n",
    "        cumulative_sum += 1 / divisor ** 2\n",
    "\n",
    "    return math.sqrt(6 * cumulative_sum)\n",
    "\n",
    "pi = basel(1000)\n",
    "\n",
    "print(f'pi is approximately {pi}')"
   ]
  },
  {
   "cell_type": "markdown",
   "id": "b484f8e4-505d-43ac-b08a-0532677974b5",
   "metadata": {},
   "source": [
    "b) Another infinite series that converges to something proportional to $\\pi$ is the Leibniz formula:\n",
    "\n",
    "$$1 - \\frac{1}{3} + \\frac{1}{5} - \\frac{1}{7} + \\frac{1}{9} - \\cdots = \\sum_{k=0}^{\\infty} \\frac{(-1)^{k}}{2k + 1} = \\frac{\\pi}{4}.$$\n",
    "\n",
    "Write a function to approximate $\\pi$ by evaluating the Leibniz formula up to a given term $n$. Test your function for $n = 1000$."
   ]
  },
  {
   "cell_type": "code",
   "execution_count": 2,
   "id": "36212577-820e-431c-8643-19d83b38908a",
   "metadata": {},
   "outputs": [
    {
     "name": "stdout",
     "output_type": "stream",
     "text": [
      "pi is approximately 3.1425916543395442\n"
     ]
    }
   ],
   "source": [
    "def leibniz(n):\n",
    "    \"\"\"\n",
    "    Evaluate the Leibniz formula (1 - 1/3 + 1/5 - 1/7 + 1/9 - ...) up to term n.\n",
    "\n",
    "    Args:\n",
    "        n (int): The term up to which the series should be evaluated.\n",
    "\n",
    "    Returns:\n",
    "        (float): The series evaluated up to term n.\n",
    "    \"\"\"\n",
    "\n",
    "    cumulative_sum = 0\n",
    "\n",
    "    for k in range(0, n + 1):\n",
    "        cumulative_sum += (-1) ** k / (2 * k + 1)\n",
    "\n",
    "    return 4 * cumulative_sum\n",
    "\n",
    "pi = leibniz(1000)\n",
    "\n",
    "print(f'pi is approximately {pi}')"
   ]
  },
  {
   "cell_type": "markdown",
   "id": "3b5c812b-a8cb-48b2-af2f-fca784ebf7ab",
   "metadata": {},
   "source": [
    "c) The accuracy of an approximate value of $\\pi$ is simply measured by calculating the absolute difference from the exact value:\n",
    "\n",
    "$$|\\pi - \\pi_{\\mathrm{approx}}|.$$\n",
    "\n",
    "Write a function to evaluate the above expression and use this to determine which of your previous functions is more accurate when evaluated up to the $50$th term."
   ]
  },
  {
   "cell_type": "code",
   "execution_count": 3,
   "id": "2345c8de-4e62-4376-a5a9-b0f56abac421",
   "metadata": {},
   "outputs": [
    {
     "name": "stdout",
     "output_type": "stream",
     "text": [
      "pi - pi_approx (basel) = 0.01896613065606667\n",
      "pi - pi_approx (leibniz) = 0.01960595939725751\n"
     ]
    }
   ],
   "source": [
    "def error(pi_approx):\n",
    "    \"\"\"\n",
    "    Calculate the absolute difference between the exact value of pi and an approximation.\n",
    "\n",
    "    Args:\n",
    "        pi_approx (float): The approximation for pi.\n",
    "\n",
    "    Returns:\n",
    "        (float): The absolute difference between the exact and approximate values of pi.\n",
    "    \"\"\"\n",
    "\n",
    "    return abs(math.pi - pi_approx)\n",
    "\n",
    "pi_basel = basel(50)\n",
    "pi_leibniz = leibniz(50)\n",
    "\n",
    "print(f'pi - pi_approx (basel) = {error(pi_basel)}')\n",
    "print(f'pi - pi_approx (leibniz) = {error(pi_leibniz)}')"
   ]
  },
  {
   "cell_type": "markdown",
   "id": "74c94bd9-a7a0-4048-b924-0ee23a63470f",
   "metadata": {},
   "source": [
    "**2.** The distance between two points $i$ and $j$ in two-dimensional space can be calculated with the following equation:\n",
    "\n",
    "$$d(i, j) = \\sqrt{(x_{i} - x_{j})^{2} + (y_{i} - y_{j})^{2}},$$\n",
    "\n",
    "where $x_{i}$ is the $x$-coordinate of point $i$, $x_{j}$ is the $x$-coordinate of point $j$ etc.\n",
    "\n",
    "a) Write a function to calculate the distance between two points, where each point is a `list` of $x$, $y$ and $z$ coordinates:\n",
    "\n",
    "```python\n",
    "example_point_i = [0.1, 0.2]\n",
    "example_point_j = [0.7, 0.5]\n",
    "```\n",
    "\n",
    "Test your function by calculating the distance between the example points above."
   ]
  },
  {
   "cell_type": "code",
   "execution_count": 4,
   "id": "97a41552-3e3a-4285-989d-834e63dc5479",
   "metadata": {},
   "outputs": [
    {
     "data": {
      "text/plain": [
       "0.6708203932499369"
      ]
     },
     "execution_count": 4,
     "metadata": {},
     "output_type": "execute_result"
    }
   ],
   "source": [
    "import math\n",
    "\n",
    "def distance(point_i, point_j):\n",
    "    \"\"\"\n",
    "    Calculate the distance between two points in two-dimensional space.\n",
    "\n",
    "    Args:\n",
    "        point_i (list): The x and y coordinates of the first point.\n",
    "        point_j (list): The x and y coordinates of the second point.\n",
    "\n",
    "    Returns:\n",
    "        (float): The distance between points i and j.\n",
    "    \"\"\"\n",
    "\n",
    "    return math.sqrt((point_i[0] - point_j[0]) ** 2 + (point_i[1] - point_j[1]) ** 2)\n",
    "\n",
    "example_point_i = [0.1, 0.2]\n",
    "example_point_j = [0.7, 0.5]\n",
    "\n",
    "distance(example_point_i, example_point_j)"
   ]
  },
  {
   "cell_type": "markdown",
   "id": "5edd0442-0691-4e86-b57c-7cf81e59862f",
   "metadata": {},
   "source": [
    "b) The atoms in a molecule of BF$_{3}$ are located at the following coordinates:\n",
    "\n",
    "```python\n",
    "bf3_coordinates = [[0.00, 0.00], \n",
    "                   [0.00, 1.30], \n",
    "                   [1.13, -0.65], \n",
    "                   [-1.13, -0.65]]\n",
    "```\n",
    "\n",
    "This is a **nested list** (a list of lists), where each **sublist** contains the coordinates associated with one atom.\n",
    "\n",
    "Using [loops](../lab_3/loops.ipynb), calculate and `print` the distances between **all pairs of atoms** in BF$_{3}$. Use the function you wrote in a) to calculate each distance."
   ]
  },
  {
   "cell_type": "code",
   "execution_count": 5,
   "id": "4c6f9a5a-6606-4463-9d8e-4db02bfb5a33",
   "metadata": {},
   "outputs": [
    {
     "name": "stdout",
     "output_type": "stream",
     "text": [
      "0.0\n",
      "1.3\n",
      "1.3036103712382776\n",
      "1.3036103712382776\n",
      "1.3\n",
      "0.0\n",
      "2.2537524265100637\n",
      "2.2537524265100637\n",
      "1.3036103712382776\n",
      "2.2537524265100637\n",
      "0.0\n",
      "2.26\n",
      "1.3036103712382776\n",
      "2.2537524265100637\n",
      "2.26\n",
      "0.0\n"
     ]
    }
   ],
   "source": [
    "bf3_coordinates = [[0.00, 0.00], \n",
    "                   [0.00, 1.30], \n",
    "                   [1.13, -0.65], \n",
    "                   [-1.13, -0.65]]\n",
    "\n",
    "for atom_i in bf3_coordinates:\n",
    "    for atom_j in bf3_coordinates:\n",
    "        print(distance(atom_i, atom_j))"
   ]
  },
  {
   "cell_type": "markdown",
   "id": "138c5454-df7c-4e7c-9f38-eabc73c11314",
   "metadata": {},
   "source": [
    "c) Rather than using the `print` function to display all of your calculated distances, modify the code you wrote for b) so that the distances are instead used to build a **distance matrix**:\n",
    "\n",
    "$$D = \\begin{bmatrix}\n",
    "      d_{11} & d_{12} & d_{13} & d_{14} \\\\\n",
    "      d_{21} & d_{22} & d_{23} & d_{24} \\\\\n",
    "      d_{31} & d_{32} & d_{33} & d_{34} \\\\\n",
    "      d_{41} & d_{42} & d_{43} & d_{44}\n",
    "      \\end{bmatrix},$$\n",
    "\n",
    "where $d_{12}$ is the distance between atom $1$ and atom $2$, $d_{14}$ is the distance between atoms $1$ and $4$ etc.\n",
    "\n",
    "In Python, your final distance matrix should be a **nested list**:\n",
    "\n",
    "```python\n",
    "[[d_11, d_12, d_13, d_14],\n",
    " [d_21, d_22, d_23, d_24],\n",
    " [d_31, d_32, d_33, d_34],\n",
    " [d_41, d_42, d_43, d_44]]\n",
    "```\n",
    "\n",
    "You can build up the matrix **one row at a time** using the loops you wrote in b)."
   ]
  },
  {
   "cell_type": "code",
   "execution_count": 6,
   "id": "64513ad6-070e-4a27-bc05-63941496c62b",
   "metadata": {},
   "outputs": [
    {
     "name": "stdout",
     "output_type": "stream",
     "text": [
      "[0.0, 1.3, 1.3036103712382776, 1.3036103712382776]\n",
      "[1.3, 0.0, 2.2537524265100637, 2.2537524265100637]\n",
      "[1.3036103712382776, 2.2537524265100637, 0.0, 2.26]\n",
      "[1.3036103712382776, 2.2537524265100637, 2.26, 0.0]\n"
     ]
    }
   ],
   "source": [
    "D = []\n",
    "\n",
    "for atom_i in bf3_coordinates:\n",
    "    row = []\n",
    "    for atom_j in bf3_coordinates:\n",
    "        row.append(distance(atom_i, atom_j))\n",
    "\n",
    "    D.append(row)\n",
    "\n",
    "# Loop over sublists so that it prints nicely.\n",
    "for sublist in D:\n",
    "    print(sublist)"
   ]
  },
  {
   "cell_type": "code",
   "execution_count": null,
   "id": "867040bf-b118-47d3-8f67-f3a950866bf4",
   "metadata": {},
   "outputs": [],
   "source": []
  }
 ],
 "metadata": {
  "kernelspec": {
   "display_name": "Python 3 (ipykernel)",
   "language": "python",
   "name": "python3"
  },
  "language_info": {
   "codemirror_mode": {
    "name": "ipython",
    "version": 3
   },
   "file_extension": ".py",
   "mimetype": "text/x-python",
   "name": "python",
   "nbconvert_exporter": "python",
   "pygments_lexer": "ipython3",
   "version": "3.12.0"
  }
 },
 "nbformat": 4,
 "nbformat_minor": 5
}
