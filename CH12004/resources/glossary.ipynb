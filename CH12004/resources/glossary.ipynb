{
 "cells": [
  {
   "cell_type": "markdown",
   "id": "b2aae484-ab38-4afb-bce3-f79222512d61",
   "metadata": {},
   "source": [
    "# Glossary"
   ]
  },
  {
   "cell_type": "markdown",
   "id": "c5572546-ebef-4e71-a40e-5424122d284e",
   "metadata": {},
   "source": [
    "**Syntax**: How statements are structured in a programming language. For example, the **syntax** for lists in Python is a comma-separated collection of values enclosed by square brackets:\n",
    "\n",
    "```python\n",
    "[1, 2, 3, 4, 5]\n",
    "```\n",
    "\n",
    "**Library**: A collection of code that may be built-in or external to a given programming language. These **libraries** (or **packages**) are usually written for a specific purpose e.g. the `math` library contains various functions and constants relevant to basic mathematical operations.\n",
    "\n",
    "**Variable**: An object that contains data. Creating a **variable** can be thought of as \"nicknaming\" the relevant data:"
   ]
  },
  {
   "cell_type": "code",
   "execution_count": 2,
   "id": "c31e457a-1509-41b1-b81b-7d326f3c8a40",
   "metadata": {},
   "outputs": [
    {
     "name": "stdout",
     "output_type": "stream",
     "text": [
      "5\n"
     ]
    }
   ],
   "source": [
    "a = 5\n",
    "\n",
    "print(a)"
   ]
  },
  {
   "cell_type": "markdown",
   "id": "aacfbda4-7f06-4bb5-8e88-566ccc653134",
   "metadata": {},
   "source": [
    "Above, the value $5$ has been stored under the name `a`.\n",
    "\n",
    "**Type**: A category into which a given piece of data can be placed. For example, Python categorises numerical data into several different **types**:"
   ]
  },
  {
   "cell_type": "code",
   "execution_count": 3,
   "id": "36923723-a022-485a-9d5f-ca8d9a3a2157",
   "metadata": {},
   "outputs": [
    {
     "data": {
      "text/plain": [
       "int"
      ]
     },
     "execution_count": 3,
     "metadata": {},
     "output_type": "execute_result"
    }
   ],
   "source": [
    "type(2)"
   ]
  },
  {
   "cell_type": "code",
   "execution_count": 4,
   "id": "5bb45c4d-4a38-4896-9697-1d15d944b91a",
   "metadata": {},
   "outputs": [
    {
     "data": {
      "text/plain": [
       "float"
      ]
     },
     "execution_count": 4,
     "metadata": {},
     "output_type": "execute_result"
    }
   ],
   "source": [
    "type(2.5)"
   ]
  },
  {
   "cell_type": "code",
   "execution_count": 5,
   "id": "4dd1c7dc-2a11-4e8e-9272-b188727f6652",
   "metadata": {},
   "outputs": [
    {
     "data": {
      "text/plain": [
       "complex"
      ]
     },
     "execution_count": 5,
     "metadata": {},
     "output_type": "execute_result"
    }
   ],
   "source": [
    "type(2.0 + 3.5j)"
   ]
  },
  {
   "cell_type": "markdown",
   "id": "c35ecbe4-dad6-4dc6-b7c5-3b5f3c98484d",
   "metadata": {},
   "source": [
    "**Calling**: The term used for the point in a block of code where a function is used. For example, in the code below:"
   ]
  },
  {
   "cell_type": "code",
   "execution_count": 6,
   "id": "83befa47-2548-4736-b1fc-75be82982eb6",
   "metadata": {},
   "outputs": [
    {
     "data": {
      "text/plain": [
       "1.2246467991473532e-16"
      ]
     },
     "execution_count": 6,
     "metadata": {},
     "output_type": "execute_result"
    }
   ],
   "source": [
    "import math\n",
    "\n",
    "math.sin(math.pi)"
   ]
  },
  {
   "cell_type": "markdown",
   "id": "780c2859-bb54-4d98-b26b-37c3a40ed286",
   "metadata": {},
   "source": [
    "The second line is the one that **calls** the `math.sin` function.\n",
    "\n",
    "**Element**: Collections such as lists and tuples contain multiple pieces of data. Each of these pieces is referred to as an **element** or **item**. For example:\n",
    "\n",
    "```python\n",
    "(5, 10, 15, 20, 25)\n",
    "```\n",
    "\n",
    "$10$ is the second **element** of the list above.\n",
    "\n",
    "**Index**: A number that represents the position of an element in an ordered collection such as a list. For example:\n",
    "\n",
    "```python\n",
    "['a', 'b', 'c', 'd', 'e', 'f']\n",
    "```\n",
    "\n",
    "`'c'` is located at index $2$ in the list above. Python, and many other programming languages, start counting from **zero**, hence the index of $2$ rather than $3$."
   ]
  },
  {
   "cell_type": "code",
   "execution_count": null,
   "id": "5e66e81b-fb97-4c5c-85fa-2dc2d179766d",
   "metadata": {},
   "outputs": [],
   "source": []
  }
 ],
 "metadata": {
  "kernelspec": {
   "display_name": "Python 3 (ipykernel)",
   "language": "python",
   "name": "python3"
  },
  "language_info": {
   "codemirror_mode": {
    "name": "ipython",
    "version": 3
   },
   "file_extension": ".py",
   "mimetype": "text/x-python",
   "name": "python",
   "nbconvert_exporter": "python",
   "pygments_lexer": "ipython3",
   "version": "3.11.0"
  }
 },
 "nbformat": 4,
 "nbformat_minor": 5
}
