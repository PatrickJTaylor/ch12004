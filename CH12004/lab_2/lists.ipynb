{
 "cells": [
  {
   "cell_type": "markdown",
   "id": "999bffab-eea4-451e-b49e-530901c1567d",
   "metadata": {},
   "source": [
    "# Lists"
   ]
  },
  {
   "cell_type": "markdown",
   "id": "f653ca2e-cbae-4130-a0be-52d2fa5fa638",
   "metadata": {},
   "source": [
    "In our first lab, we encountered several distinct data **types**: `int` (integers), `float` (decimal point numbers), `complex` (complex numbers), `str` (strings) and `bool` (booleans). All of these types represent various categories of **individual data**: a single number, a single string of letters etc. Often, we are interested in **collections** of data, for example a set of temperatures at which a given experiment has been performed. Python accommodates this requirement by providing us with various **data structures** that allow us to collate related data into a single object. **Lists** are one of these data structures.\n",
    "\n",
    "A **list** is an **ordered** collection of values. The values that comprise a list are usually referred to as the **elements** or **items** in that list. To create a list, we enclose the elements (separated by commas) we wish to include in a set of **square brackets**:"
   ]
  },
  {
   "cell_type": "code",
   "execution_count": 1,
   "id": "229c63ea-f27d-4d03-a7b9-2ef72a1b29d8",
   "metadata": {},
   "outputs": [
    {
     "data": {
      "text/plain": [
       "[1, 2, 3, 4, 5]"
      ]
     },
     "execution_count": 1,
     "metadata": {},
     "output_type": "execute_result"
    }
   ],
   "source": [
    "[1, 2, 3, 4, 5]"
   ]
  },
  {
   "cell_type": "markdown",
   "id": "52d8cd73-1b3c-439b-a5f2-8d0e610c7186",
   "metadata": {},
   "source": [
    "Just like the other data types we have encountered so far, we can store lists in **variables** with the **assignment** operator `=`:"
   ]
  },
  {
   "cell_type": "code",
   "execution_count": 2,
   "id": "10ae1788-7c22-4567-aa65-645f0b426ffd",
   "metadata": {},
   "outputs": [
    {
     "name": "stdout",
     "output_type": "stream",
     "text": [
      "[1, 2, 3, 4, 5]\n"
     ]
    }
   ],
   "source": [
    "some_numbers = [1, 2, 3, 4, 5]\n",
    "print(some_numbers)"
   ]
  },
  {
   "cell_type": "markdown",
   "id": "da513ac2-f8fa-46d0-aa84-a5f2b173a85e",
   "metadata": {},
   "source": [
    "The example above is a list of `int` objects, but lists can contain **any** type of data:"
   ]
  },
  {
   "cell_type": "code",
   "execution_count": 3,
   "id": "f2abe056-a004-4b04-9a6a-bef633d04e58",
   "metadata": {},
   "outputs": [
    {
     "name": "stdout",
     "output_type": "stream",
     "text": [
      "['Praise', 'The', 'Sun!']\n"
     ]
    }
   ],
   "source": [
    "some_strings = ['Praise', 'The', 'Sun!']\n",
    "print(some_strings)"
   ]
  },
  {
   "cell_type": "markdown",
   "id": "6785eb50-8273-41ab-94b5-ddf5931aea44",
   "metadata": {},
   "source": [
    "We can even mix **different types** together:"
   ]
  },
  {
   "cell_type": "code",
   "execution_count": 4,
   "id": "734b2aee-89f6-458d-87a2-fc65a15088ca",
   "metadata": {},
   "outputs": [
    {
     "name": "stdout",
     "output_type": "stream",
     "text": [
      "[5, 'five', 5.0, (5+0j)]\n"
     ]
    }
   ],
   "source": [
    "a_variety = [5, 'five', 5.0, 5.0 + 0j]\n",
    "print(a_variety)"
   ]
  },
  {
   "cell_type": "markdown",
   "id": "46725435-5501-4d04-9180-117f7d6f8fb9",
   "metadata": {},
   "source": [
    "Or make a **list of lists**!"
   ]
  },
  {
   "cell_type": "code",
   "execution_count": 5,
   "id": "00c1d4db-fd75-4ed7-bba8-8db0c8b15991",
   "metadata": {},
   "outputs": [
    {
     "name": "stdout",
     "output_type": "stream",
     "text": [
      "[[1, 2, 3, 4, 5], ['Praise', 'The', 'Sun!']]\n"
     ]
    }
   ],
   "source": [
    "some_numbers = [1, 2, 3, 4, 5]\n",
    "some_strings = ['Praise', 'The', 'Sun!']\n",
    "\n",
    "list_of_lists = [some_numbers, some_strings]\n",
    "print(list_of_lists)"
   ]
  },
  {
   "cell_type": "markdown",
   "id": "018969c0-0a18-41a1-b35e-514eb0b8d066",
   "metadata": {},
   "source": [
    "This latter example is also referred to as a **nested** list. Unsurprisingly, if we call the `type` function, we discover that there is a `list` type:"
   ]
  },
  {
   "cell_type": "code",
   "execution_count": 6,
   "id": "d48577c0-0530-4639-9ca8-c1f737456fd4",
   "metadata": {},
   "outputs": [
    {
     "data": {
      "text/plain": [
       "list"
      ]
     },
     "execution_count": 6,
     "metadata": {},
     "output_type": "execute_result"
    }
   ],
   "source": [
    "type(list_of_lists)"
   ]
  },
  {
   "cell_type": "markdown",
   "id": "0edcac64-c720-41f0-b231-701b7ee822c0",
   "metadata": {},
   "source": [
    "## List indexing"
   ]
  },
  {
   "cell_type": "markdown",
   "id": "eaf670c6-ddd0-4aa6-8c7d-827b1dde3a40",
   "metadata": {},
   "source": [
    "Let's say we have a list of strings, perhaps some of the first row transition metals:"
   ]
  },
  {
   "cell_type": "code",
   "execution_count": 7,
   "id": "4d0c035e-0aa7-49af-8c5b-c012822c1d6f",
   "metadata": {},
   "outputs": [],
   "source": [
    "transition_metals = ['Vanadium', 'chromium', 'Manganese']"
   ]
  },
  {
   "cell_type": "markdown",
   "id": "93417832-ed0e-4542-9391-28b9c6dd2ab1",
   "metadata": {},
   "source": [
    "Okay, now consider that, for whatever reason, I only want the name of the **first** transition metal in the list - how can I access **just** the first element? This can be accomplished with list **indexing**:"
   ]
  },
  {
   "cell_type": "code",
   "execution_count": 8,
   "id": "2f8d4f97-a560-4432-817d-1065b2ae7c4f",
   "metadata": {},
   "outputs": [
    {
     "data": {
      "text/plain": [
       "'Vanadium'"
      ]
     },
     "execution_count": 8,
     "metadata": {},
     "output_type": "execute_result"
    }
   ],
   "source": [
    "transition_metals[0]"
   ]
  },
  {
   "cell_type": "markdown",
   "id": "26e74e0a-0e94-415d-a4b0-3d42f7cf3e85",
   "metadata": {},
   "source": [
    "Or perhaps we only want the **second** element:"
   ]
  },
  {
   "cell_type": "code",
   "execution_count": 9,
   "id": "59ad58e7-15e2-4f76-88d6-bc4db41c8536",
   "metadata": {},
   "outputs": [
    {
     "data": {
      "text/plain": [
       "'chromium'"
      ]
     },
     "execution_count": 9,
     "metadata": {},
     "output_type": "execute_result"
    }
   ],
   "source": [
    "transition_metals[1]"
   ]
  },
  {
   "cell_type": "markdown",
   "id": "30625f34-a14a-4054-9877-fb433b2c8ba6",
   "metadata": {},
   "source": [
    "Or else the **third** element:"
   ]
  },
  {
   "cell_type": "code",
   "execution_count": 10,
   "id": "da0e20fb-85fc-4402-99e9-37750064696d",
   "metadata": {},
   "outputs": [
    {
     "data": {
      "text/plain": [
       "'Manganese'"
      ]
     },
     "execution_count": 10,
     "metadata": {},
     "output_type": "execute_result"
    }
   ],
   "source": [
    "transition_metals[2]"
   ]
  },
  {
   "cell_type": "markdown",
   "id": "58e50082-0624-4314-a622-48d25a1f4b00",
   "metadata": {},
   "source": [
    "As you have probably observed in the code above, the general syntax for list indexing is:\n",
    "\n",
    "```python\n",
    "name_of_variable[index]\n",
    "```\n",
    "\n",
    "Where the **index** is an `int` that refers to which element we would like to access. Notice that we obtain the **first** element with index `[0]`, **not** `[1]`.\n",
    "\n",
    "```{important}\n",
    "Python, and for that matter the vast majority of programming langauges, start counting from **zero**. Don't worry if this takes you a while to get used to, it is admittedly somewhat counterintuitive.\n",
    "```\n",
    "\n",
    "Okay so our example list has $3$ elements which can therefore be accessed with indicies $0$ through $2$. What if we try to index the list with an index greater than $2$?"
   ]
  },
  {
   "cell_type": "code",
   "execution_count": 11,
   "id": "ad3de948-a240-487b-bee2-577fd83e15fd",
   "metadata": {},
   "outputs": [
    {
     "ename": "IndexError",
     "evalue": "list index out of range",
     "output_type": "error",
     "traceback": [
      "\u001b[0;31m---------------------------------------------------------------------------\u001b[0m",
      "\u001b[0;31mIndexError\u001b[0m                                Traceback (most recent call last)",
      "Cell \u001b[0;32mIn[11], line 1\u001b[0m\n\u001b[0;32m----> 1\u001b[0m \u001b[43mtransition_metals\u001b[49m\u001b[43m[\u001b[49m\u001b[38;5;241;43m3\u001b[39;49m\u001b[43m]\u001b[49m\n",
      "\u001b[0;31mIndexError\u001b[0m: list index out of range"
     ]
    }
   ],
   "source": [
    "transition_metals[3]"
   ]
  },
  {
   "cell_type": "markdown",
   "id": "3c87f07a-e6d0-41aa-a39f-85d2afd13fe6",
   "metadata": {},
   "source": [
    "```{error}\n",
    "Here we have another new type of error: an **IndexError**. This one is relatively straightforward, the index we have given is \"out of range\" meaning that the index refers to an element that does not exist. In this case, the index $3$ refers to the **fourth** element of the list, but `transition_metals` only has $3$ items, so this doesn't make any sense.\n",
    "```"
   ]
  },
  {
   "cell_type": "markdown",
   "id": "ed59c40c-c85d-470b-a819-bb921e8151d6",
   "metadata": {},
   "source": [
    "You might think that using a **negative index** might yield a similar error, and yet:"
   ]
  },
  {
   "cell_type": "code",
   "execution_count": 12,
   "id": "c449010a-bff9-43c5-8245-a7c887a6ca6c",
   "metadata": {},
   "outputs": [
    {
     "data": {
      "text/plain": [
       "'Manganese'"
      ]
     },
     "execution_count": 12,
     "metadata": {},
     "output_type": "execute_result"
    }
   ],
   "source": [
    "transition_metals[-1]"
   ]
  },
  {
   "cell_type": "markdown",
   "id": "6ddab279-4ee4-4926-b607-2c5f22fcb169",
   "metadata": {},
   "source": [
    "What's happening here is that the negative index counts elements from **back to front**. Index `[0]` referred to the **first** element of the list, index `[-1]` refers to the **last** element of the list."
   ]
  },
  {
   "cell_type": "code",
   "execution_count": 13,
   "id": "12e3b022-c183-4a34-8ae4-ba8c2f13f492",
   "metadata": {},
   "outputs": [
    {
     "data": {
      "text/plain": [
       "'chromium'"
      ]
     },
     "execution_count": 13,
     "metadata": {},
     "output_type": "execute_result"
    }
   ],
   "source": [
    "transition_metals[-2]"
   ]
  },
  {
   "cell_type": "markdown",
   "id": "df0b9d57-dc60-42bd-9553-416ba38a10cb",
   "metadata": {},
   "source": [
    "As you can see above, we can continue to use increasingly negative indices to access more elements of `transition_metals` going from the end to the beginning, index `[-2]` giving us the **second to last** item."
   ]
  },
  {
   "cell_type": "markdown",
   "id": "2cd9a711-e334-49bc-8f7b-e5e0efb2fb00",
   "metadata": {},
   "source": [
    "## Modifying lists"
   ]
  },
  {
   "cell_type": "markdown",
   "id": "5228a50d-6e94-42bf-ab50-a227f30e6c74",
   "metadata": {},
   "source": [
    "Something that we have neglected to mention thus far is that lists are **mutable**: they can be modified in various ways. You may have noticed previously that there is a typo in the third element of the list. We can fix that by **assigning** a new value to that element using the `=` operator:"
   ]
  },
  {
   "cell_type": "code",
   "execution_count": 14,
   "id": "b0b3930b-1081-4dce-b24d-5c4e7523851a",
   "metadata": {},
   "outputs": [
    {
     "name": "stdout",
     "output_type": "stream",
     "text": [
      "chromium\n",
      "Chromium\n"
     ]
    }
   ],
   "source": [
    "print(transition_metals[1])\n",
    "transition_metals[1] = 'Chromium'\n",
    "print(transition_metals[1])"
   ]
  },
  {
   "cell_type": "markdown",
   "id": "6da8c9cf-18c4-4f68-8c28-e98c7ded0968",
   "metadata": {},
   "source": [
    "### Adding elements to a list"
   ]
  },
  {
   "cell_type": "markdown",
   "id": "a17ff583-093b-4962-828e-c5f163679388",
   "metadata": {},
   "source": [
    "Aside from modifying pre-existing elements of a list, we might conceivably want to add **new** items to a list and make it longer. For example, what if we want to add another element to `transition_metals`? There are actually many ways you could do this, several of which rely on the **methods** associated with lists. A **method** is just a **function** that is associated with a particular object. When we used functions, we type the name of the function, followed by brackets enclosing our inputs to that function:"
   ]
  },
  {
   "cell_type": "code",
   "execution_count": 15,
   "id": "83ea37c1-8e89-4ded-9f40-f2207f92aca6",
   "metadata": {},
   "outputs": [
    {
     "data": {
      "text/plain": [
       "3"
      ]
     },
     "execution_count": 15,
     "metadata": {},
     "output_type": "execute_result"
    }
   ],
   "source": [
    "len(transition_metals)"
   ]
  },
  {
   "cell_type": "markdown",
   "id": "523cb10a-9d18-4683-955d-fa87930ac002",
   "metadata": {},
   "source": [
    "Here we call the built-in `len` function, which gives us the **length** of the list i.e. how many elements there are. Calling a **method** is much the same as the above, except that it is associated **with the list itself**:"
   ]
  },
  {
   "cell_type": "code",
   "execution_count": 16,
   "id": "377bb9b4-8015-467a-8653-d1c0732faa10",
   "metadata": {},
   "outputs": [
    {
     "name": "stdout",
     "output_type": "stream",
     "text": [
      "['Vanadium', 'Chromium', 'Manganese', 'Iron']\n"
     ]
    }
   ],
   "source": [
    "transition_metals.append('Iron')\n",
    "print(transition_metals)"
   ]
  },
  {
   "cell_type": "markdown",
   "id": "3c2847fe-9b56-4ec4-a352-36831d874a6d",
   "metadata": {},
   "source": [
    "This example uses the `append` method, which adds the input to **the end** of the list. Notice that the syntax for calling the append method is largely the same as if it was a standalone function, except that it follows a **dot** after the object it is associated with. This can be generically rendered as:\n",
    "\n",
    "```python\n",
    "name_of_object.method_associated_with_that_object(input_to_method)\n",
    "```\n",
    "\n",
    "As well as appending elements to the end of a list, we can also **insert** elements at **any** given index in the list:"
   ]
  },
  {
   "cell_type": "code",
   "execution_count": 17,
   "id": "5053e1ec-43b6-4e96-894e-cddedbd00754",
   "metadata": {},
   "outputs": [
    {
     "name": "stdout",
     "output_type": "stream",
     "text": [
      "['Titanium', 'Vanadium', 'Chromium', 'Manganese', 'Iron']\n"
     ]
    }
   ],
   "source": [
    "transition_metals.insert(0, 'Titanium')\n",
    "print(transition_metals)"
   ]
  },
  {
   "cell_type": "markdown",
   "id": "53bf3045-0658-4c06-b0f9-ef541884f1aa",
   "metadata": {},
   "source": [
    "This is the first time we've encountered a function or method that takes **two** arguments (two inputs). The `insert` method requires you to specify firstly the index for where you want the new element to go (here we use $0$ to insert a new element at the **start** of the list) and secondly the new element itself.\n",
    "\n",
    "Both the `append` and `insert` methods allow us to add **one** new element to the list. We can use the `extend` method to add **multiple** elements to the **end** of a list:"
   ]
  },
  {
   "cell_type": "code",
   "execution_count": 18,
   "id": "d39bf346-103d-48a4-8499-c565c18258d0",
   "metadata": {},
   "outputs": [
    {
     "name": "stdout",
     "output_type": "stream",
     "text": [
      "['Titanium', 'Vanadium', 'Chromium', 'Manganese', 'Iron', 'Cobalt', 'Nickel']\n"
     ]
    }
   ],
   "source": [
    "more_transition_metals = ['Cobalt', 'Nickel']\n",
    "transition_metals.extend(more_transition_metals)\n",
    "\n",
    "print(transition_metals)"
   ]
  },
  {
   "cell_type": "markdown",
   "id": "f4c63184-6e01-472e-952e-6abb9eaa3f1d",
   "metadata": {},
   "source": [
    "We can also accomplish this same task by use of the addition operator `+`, in a similar manner to how we can \"add\" strings together:"
   ]
  },
  {
   "cell_type": "code",
   "execution_count": 19,
   "id": "8acc4ee8-6062-42e4-960a-39515f9602f1",
   "metadata": {},
   "outputs": [
    {
     "name": "stdout",
     "output_type": "stream",
     "text": [
      "['Titanium', 'Vanadium', 'Chromium', 'Manganese', 'Iron', 'Cobalt', 'Nickel', 'Copper', 'Zinc']\n"
     ]
    }
   ],
   "source": [
    "even_more_transition_metals = ['Copper', 'Zinc']\n",
    "transition_metals = transition_metals + even_more_transition_metals\n",
    "\n",
    "print(transition_metals)"
   ]
  },
  {
   "cell_type": "markdown",
   "id": "c1d14d52-d988-488c-9ce7-a9c8974caa5d",
   "metadata": {},
   "source": [
    "### Removing elements from a list"
   ]
  },
  {
   "cell_type": "markdown",
   "id": "37e01944-a77a-4228-9da0-6b50bb989ccb",
   "metadata": {},
   "source": [
    "We now have a range of tools at our disposal for **adding** elements to a list, but how can we **remove** them instead? Well, for a start, there is a `remove` method:"
   ]
  },
  {
   "cell_type": "code",
   "execution_count": 20,
   "id": "29a4c1e2-61a9-4c14-83f2-779cb53578e8",
   "metadata": {},
   "outputs": [
    {
     "name": "stdout",
     "output_type": "stream",
     "text": [
      "['Titanium', 'Vanadium', 'Chromium', 'Manganese', 'Iron', 'Cobalt', 'Nickel', 'Zinc']\n"
     ]
    }
   ],
   "source": [
    "transition_metals.remove('Copper')\n",
    "print(transition_metals)"
   ]
  },
  {
   "cell_type": "markdown",
   "id": "dcb9bc06-fc60-4dfc-a7ce-777388ea7ac8",
   "metadata": {},
   "source": [
    "This removes the first element which matches the input argument from the list. There is also a `pop` method:"
   ]
  },
  {
   "cell_type": "code",
   "execution_count": 22,
   "id": "eada5e1e-4ed7-486e-8810-cb1c21868768",
   "metadata": {},
   "outputs": [
    {
     "name": "stdout",
     "output_type": "stream",
     "text": [
      "Iron\n",
      "['Titanium', 'Vanadium', 'Chromium', 'Manganese', 'Cobalt', 'Nickel', 'Zinc']\n"
     ]
    }
   ],
   "source": [
    "pop_example = transition_metals.pop(4)\n",
    "\n",
    "print(pop_example)\n",
    "print(transition_metals)"
   ]
  },
  {
   "cell_type": "markdown",
   "id": "4910d66f-cd16-400c-9052-4d0687087e68",
   "metadata": {},
   "source": [
    "This method removes the element at the **index** provided as an input (in this case $4$: the **fifth** element). Notice that the `pop` method also **returns** the value of the removed element. In the example above, we have **assigned** the output of the `pop` method to a variable `pop_example`, which when printed, shows us the removed element."
   ]
  },
  {
   "cell_type": "markdown",
   "id": "b1a90501-e139-4840-a4e0-d0bf387d7281",
   "metadata": {},
   "source": [
    "## List slicing"
   ]
  },
  {
   "cell_type": "markdown",
   "id": "48364dcc-9781-4a8c-9eca-32ea970c7c6f",
   "metadata": {},
   "source": [
    "We are now familiar with accessing individual elements of a list:"
   ]
  },
  {
   "cell_type": "code",
   "execution_count": 28,
   "id": "34d1915b-5e79-4534-b872-ddfc34f63182",
   "metadata": {},
   "outputs": [
    {
     "name": "stdout",
     "output_type": "stream",
     "text": [
      "['Titanium', 'Vanadium', 'Chromium', 'Manganese', 'Cobalt', 'Nickel', 'Zinc']\n",
      "Cobalt\n"
     ]
    }
   ],
   "source": [
    "print(transition_metals)\n",
    "print(transition_metals[4])"
   ]
  },
  {
   "cell_type": "markdown",
   "id": "99d0c1f3-b78b-4839-a6bd-091b5289c97e",
   "metadata": {},
   "source": [
    "But what if we want to obtain **multiple** elements at once? Python facilitates this task with **list slicing**:"
   ]
  },
  {
   "cell_type": "code",
   "execution_count": 26,
   "id": "5c211bea-3ef5-493f-8a41-96e8c12d5102",
   "metadata": {},
   "outputs": [
    {
     "data": {
      "text/plain": [
       "['Vanadium', 'Chromium', 'Manganese', 'Cobalt']"
      ]
     },
     "execution_count": 26,
     "metadata": {},
     "output_type": "execute_result"
    }
   ],
   "source": [
    "transition_metals[1:5]"
   ]
  },
  {
   "cell_type": "markdown",
   "id": "1b3f11eb-24c8-4283-ab22-dad6c6ab41ed",
   "metadata": {},
   "source": [
    "Here we have acquired $4$ elements of `transition_metals`: the second, third, fourth and fifth items (a **slice** out of the full list). The first number in the square brackets above is $1$: this is the index from which we want to **start** the slice. The second number (after a colon `:`) is $5$, which indicates the index where we would like to **stop** the slice. Notice that the element at index $5$ is **not** included in the slice:"
   ]
  },
  {
   "cell_type": "code",
   "execution_count": 27,
   "id": "c307537a-d846-4bc5-8c55-1763ce0c4b7c",
   "metadata": {},
   "outputs": [
    {
     "data": {
      "text/plain": [
       "'Nickel'"
      ]
     },
     "execution_count": 27,
     "metadata": {},
     "output_type": "execute_result"
    }
   ],
   "source": [
    "transition_metals[5]"
   ]
  },
  {
   "cell_type": "markdown",
   "id": "bee7c478-fa6f-4b0f-bc42-58d4789c6bd5",
   "metadata": {},
   "source": [
    "In general, we can therefore take a **slice** out of a list with the following syntax:\n",
    "\n",
    "```python\n",
    "name_of_list[start_index : end_index]\n",
    "```\n",
    "\n",
    "Where the element at the `end_index` is **not** included in the slice. You actually don't have to provide both the start and end indices:"
   ]
  },
  {
   "cell_type": "code",
   "execution_count": 29,
   "id": "f0a40042-f5aa-42dc-b226-21e53f8c0f7b",
   "metadata": {},
   "outputs": [
    {
     "data": {
      "text/plain": [
       "['Chromium', 'Manganese', 'Cobalt', 'Nickel', 'Zinc']"
      ]
     },
     "execution_count": 29,
     "metadata": {},
     "output_type": "execute_result"
    }
   ],
   "source": [
    "transition_metals[2:]"
   ]
  },
  {
   "cell_type": "code",
   "execution_count": 30,
   "id": "5700239b-5224-453e-b1da-a2bf941585d2",
   "metadata": {},
   "outputs": [
    {
     "data": {
      "text/plain": [
       "['Titanium', 'Vanadium', 'Chromium', 'Manganese']"
      ]
     },
     "execution_count": 30,
     "metadata": {},
     "output_type": "execute_result"
    }
   ],
   "source": [
    "transition_metals[:4]"
   ]
  },
  {
   "cell_type": "markdown",
   "id": "ebf5a62b-3f86-4bdc-90dc-fea7a78c16de",
   "metadata": {},
   "source": [
    "What's happening here is that by default, if you do not provide an end index, Python will assume you want the highest value possible. In other words, your slice will start from the provided start index and go all the way to the **end** of the list. Similarly, if you provide the end index but no start index, Python will assume that you want your slice to start from the **beginning** of the list, up to (but not including) the end index you have given. To summarise, you can read:\n",
    "\n",
    "```python\n",
    "name_of_list[start_index:]\n",
    "```\n",
    "\n",
    "As 'give me every element of `name_of_list` from `start_index` and onwards' and you can read:\n",
    "\n",
    "```python\n",
    "name_of_list[:end_index]\n",
    "```\n",
    "\n",
    "As 'give me every element of `name_of_list` from the beginning up to (but not including) the element at `end_index`.\n",
    "\n",
    "We have not used this feature so far, but we can also provide a **third** index when we slice a list:"
   ]
  },
  {
   "cell_type": "code",
   "execution_count": 32,
   "id": "7e851c99-d01e-4a1e-8148-e3b837c50f95",
   "metadata": {},
   "outputs": [
    {
     "data": {
      "text/plain": [
       "['Vanadium', 'Manganese']"
      ]
     },
     "execution_count": 32,
     "metadata": {},
     "output_type": "execute_result"
    }
   ],
   "source": [
    "transition_metals[1:5:2]"
   ]
  },
  {
   "cell_type": "markdown",
   "id": "b6561ca9-7a41-4ba8-91b9-c74121a9b8b5",
   "metadata": {},
   "source": [
    "This latter index is a **step size**. By default, the step size is $1$:"
   ]
  },
  {
   "cell_type": "code",
   "execution_count": 33,
   "id": "40ec4f05-03e2-4af1-a812-de4acea1aa7b",
   "metadata": {},
   "outputs": [
    {
     "data": {
      "text/plain": [
       "['Vanadium', 'Chromium', 'Manganese', 'Cobalt']"
      ]
     },
     "execution_count": 33,
     "metadata": {},
     "output_type": "execute_result"
    }
   ],
   "source": [
    "transition_metals[1:5:1]"
   ]
  },
  {
   "cell_type": "markdown",
   "id": "0712ba3e-1ea6-48ca-aa2c-5af1d42c2901",
   "metadata": {},
   "source": [
    "By increasing this value to $2$, we retrieve **every other** element from index $1$ up to but not including index $5$. If we set the step size to $3$, we would obtain every **third** element etc:"
   ]
  },
  {
   "cell_type": "code",
   "execution_count": 34,
   "id": "5d91d063-2366-44b0-906b-1ecea30ccc92",
   "metadata": {},
   "outputs": [
    {
     "data": {
      "text/plain": [
       "['Vanadium', 'Cobalt']"
      ]
     },
     "execution_count": 34,
     "metadata": {},
     "output_type": "execute_result"
    }
   ],
   "source": [
    "transition_metals[1:7:3]"
   ]
  },
  {
   "cell_type": "markdown",
   "id": "c42ade0d-5cf9-40ad-9689-4e1845c13ef5",
   "metadata": {},
   "source": [
    "```{tip}\n",
    "What do you think will happen if you set the step size to a **negative** number? Make a new list in a Jupyter notebook and try it out!\n",
    "```\n",
    "\n",
    "It should be noted that list slicing can be used as another method to remove elements from a list:"
   ]
  },
  {
   "cell_type": "code",
   "execution_count": 36,
   "id": "1a3574e8-9ac8-470c-a8a2-90885dd4e8bb",
   "metadata": {},
   "outputs": [
    {
     "name": "stdout",
     "output_type": "stream",
     "text": [
      "['Titanium', 'Vanadium', 'Chromium', 'Manganese', 'Cobalt', 'Nickel', 'Zinc']\n",
      "['Chromium', 'Manganese']\n"
     ]
    }
   ],
   "source": [
    "print(transition_metals)\n",
    "\n",
    "transition_metals = transition_metals[2:4]\n",
    "\n",
    "print(transition_metals)"
   ]
  },
  {
   "cell_type": "markdown",
   "id": "3d919161-cd42-4e45-be75-fa4643732d25",
   "metadata": {},
   "source": [
    "By assigning the slice to `transition_metals`, we have effectively replaced the full list with the slice, removing everything not captured by our specified start and end indices."
   ]
  },
  {
   "cell_type": "markdown",
   "id": "50fee6c5-c3c9-4c28-9a77-40c9b3c53c8c",
   "metadata": {},
   "source": [
    "## Lists of lists of lists of lists of lists..."
   ]
  },
  {
   "cell_type": "markdown",
   "id": "1f05ade4-2362-4e7a-8677-172da0aa39ff",
   "metadata": {},
   "source": [
    "We saw earlier that we can create **nested** lists (lists containing more lists) in Python:"
   ]
  },
  {
   "cell_type": "code",
   "execution_count": 38,
   "id": "15eabae2-7298-4b55-a499-fc7e7959d0e8",
   "metadata": {},
   "outputs": [],
   "source": [
    "transition_metals = [['Iron', 'Cobalt', 'Nickel'], \n",
    "                     ['Ruthenium', 'Rhodium', 'Palladium']]"
   ]
  },
  {
   "cell_type": "markdown",
   "id": "a68db294-e95a-4bb7-b9d2-d6aecfea6411",
   "metadata": {},
   "source": [
    "```{note}\n",
    "Notice in the example above, the list has been split over multiple lines. Python allows some statements to be written like this to improve readability.\n",
    "```\n",
    "\n",
    "This list has $2$ elements:"
   ]
  },
  {
   "cell_type": "code",
   "execution_count": 39,
   "id": "02e30a35-55c7-4e42-a2ac-1d9297b616b3",
   "metadata": {},
   "outputs": [
    {
     "data": {
      "text/plain": [
       "2"
      ]
     },
     "execution_count": 39,
     "metadata": {},
     "output_type": "execute_result"
    }
   ],
   "source": [
    "len(transition_metals)"
   ]
  },
  {
   "cell_type": "markdown",
   "id": "8a648171-460c-4b92-8533-74642fb9549d",
   "metadata": {},
   "source": [
    "Each of which is, in itself, another list. We know that we can access individual elements of a list via indexing:"
   ]
  },
  {
   "cell_type": "code",
   "execution_count": 40,
   "id": "53c26c2c-1cc9-43d5-a2ee-6ae81d5741e7",
   "metadata": {},
   "outputs": [
    {
     "data": {
      "text/plain": [
       "['Iron', 'Cobalt', 'Nickel']"
      ]
     },
     "execution_count": 40,
     "metadata": {},
     "output_type": "execute_result"
    }
   ],
   "source": [
    "transition_metals[0]"
   ]
  },
  {
   "cell_type": "markdown",
   "id": "3ee4ec46-0dc4-4c1a-b782-a242e795e33f",
   "metadata": {},
   "source": [
    "But what if we want an individual element of a list **within a list**? Say that I want to obtain just the `'Cobalt'` string, we could do this by assigning a new variable:"
   ]
  },
  {
   "cell_type": "code",
   "execution_count": 41,
   "id": "45322cbd-9c1c-483c-afcc-4f3ceeab8466",
   "metadata": {},
   "outputs": [
    {
     "data": {
      "text/plain": [
       "'Cobalt'"
      ]
     },
     "execution_count": 41,
     "metadata": {},
     "output_type": "execute_result"
    }
   ],
   "source": [
    "first_row_transition_metals = transition_metals[0]\n",
    "first_row_transition_metals[1]"
   ]
  },
  {
   "cell_type": "markdown",
   "id": "3583ecce-91d0-4f5c-ba6f-c9be013fb77e",
   "metadata": {},
   "source": [
    "Here we have stored just the first list in `transition_metals` in a new variable called `first_row_transition_metals`. We can then index this new variable as normal to retrieve our desired element. More succinctly, Python allows this process to be condensed into one line:"
   ]
  },
  {
   "cell_type": "code",
   "execution_count": 44,
   "id": "92eb02a4-517d-4f67-9b74-98a2d8446dc1",
   "metadata": {},
   "outputs": [
    {
     "data": {
      "text/plain": [
       "'Cobalt'"
      ]
     },
     "execution_count": 44,
     "metadata": {},
     "output_type": "execute_result"
    }
   ],
   "source": [
    "transition_metals[0][1]"
   ]
  },
  {
   "cell_type": "markdown",
   "id": "aa4fc30b-20d9-4cf8-b307-b51207631e43",
   "metadata": {},
   "source": [
    "Reading this from left to right, we type the name of the list (`transition_metals`), and index this to retrieve only the first sublist (`['Iron', 'Cobalt', 'Nickel']`). We then provide another index in a **second set of square brackets** to index this sublist and obtain only the second element: `'Cobalt'`."
   ]
  },
  {
   "cell_type": "markdown",
   "id": "5ff09ab0-7a3d-427e-8a99-085caaa374fb",
   "metadata": {},
   "source": [
    "## Mathematical interlude: the `sum` function"
   ]
  },
  {
   "cell_type": "markdown",
   "id": "96f51bce-35d5-4eb3-bf73-31bf81d0e6d5",
   "metadata": {},
   "source": [
    "We have already become acquainted with several new functions and methods related to lists, but it's worth noting one more: the `sum` function."
   ]
  },
  {
   "cell_type": "code",
   "execution_count": 45,
   "id": "2e1da436-d519-49d3-80c4-6c179a90a6eb",
   "metadata": {},
   "outputs": [
    {
     "data": {
      "text/plain": [
       "118"
      ]
     },
     "execution_count": 45,
     "metadata": {},
     "output_type": "execute_result"
    }
   ],
   "source": [
    "some_numbers = [1, 3, 13, 2, 33, 102, -36]\n",
    "sum(some_numbers)"
   ]
  },
  {
   "cell_type": "markdown",
   "id": "74522d66-774b-402e-8bcb-db12d7a4da88",
   "metadata": {},
   "source": [
    "As illustrated by the example above, the `sum` function literally **sums up** the elements of a list. In this case we used a list of `int` objects, but of course this works with `float` objects too:"
   ]
  },
  {
   "cell_type": "code",
   "execution_count": 46,
   "id": "fcb62258-5f4a-49d9-8dd2-21619e9123bf",
   "metadata": {},
   "outputs": [
    {
     "data": {
      "text/plain": [
       "1.4999999999999973"
      ]
     },
     "execution_count": 46,
     "metadata": {},
     "output_type": "execute_result"
    }
   ],
   "source": [
    "some_floats = [5.13, 6.93, 10.11, -20.67]\n",
    "sum(some_floats)"
   ]
  },
  {
   "cell_type": "markdown",
   "id": "7be1a070-d4b4-4d68-b17a-7e1e3df1cc16",
   "metadata": {},
   "source": [
    "On the other hand, it doesn't make sense to try and sum up:"
   ]
  },
  {
   "cell_type": "code",
   "execution_count": 48,
   "id": "885f8030-aa07-4ab5-a753-74f2963699db",
   "metadata": {},
   "outputs": [
    {
     "ename": "TypeError",
     "evalue": "unsupported operand type(s) for +: 'float' and 'str'",
     "output_type": "error",
     "traceback": [
      "\u001b[0;31m---------------------------------------------------------------------------\u001b[0m",
      "\u001b[0;31mTypeError\u001b[0m                                 Traceback (most recent call last)",
      "Cell \u001b[0;32mIn[48], line 2\u001b[0m\n\u001b[1;32m      1\u001b[0m some_numbers_and_strings \u001b[38;5;241m=\u001b[39m [\u001b[38;5;241m1\u001b[39m, \u001b[38;5;241m5.5\u001b[39m, \u001b[38;5;124m'\u001b[39m\u001b[38;5;124mpurple\u001b[39m\u001b[38;5;124m'\u001b[39m, \u001b[38;5;241m10\u001b[39m]\n\u001b[0;32m----> 2\u001b[0m \u001b[38;5;28;43msum\u001b[39;49m\u001b[43m(\u001b[49m\u001b[43msome_numbers_and_strings\u001b[49m\u001b[43m)\u001b[49m\n",
      "\u001b[0;31mTypeError\u001b[0m: unsupported operand type(s) for +: 'float' and 'str'"
     ]
    }
   ],
   "source": [
    "some_numbers_and_strings = [1, 5.5, 'purple', 10]\n",
    "sum(some_numbers_and_strings)"
   ]
  },
  {
   "cell_type": "markdown",
   "id": "01137efd-4634-4715-b7bd-2bad12ca8696",
   "metadata": {},
   "source": [
    "Here we have the same problem we encountered previously when trying to add a `str` and an `int` or a `float`, Python gives us a `TypeError` and essentially tells us: \"This operation you are asking me to do doesn't make any sense!\"\n",
    "\n",
    "In combination with the `len` function, we can use the `sum` function to calculate the **mean** of a list of numbers:"
   ]
  },
  {
   "cell_type": "code",
   "execution_count": 49,
   "id": "a4d1bc0d-0ef7-4ed5-89c1-1bcf0d451306",
   "metadata": {},
   "outputs": [
    {
     "data": {
      "text/plain": [
       "16.857142857142858"
      ]
     },
     "execution_count": 49,
     "metadata": {},
     "output_type": "execute_result"
    }
   ],
   "source": [
    "some_numbers = [1, 3, 13, 2, 33, 102, -36]\n",
    "\n",
    "sum(some_numbers) / len(some_numbers)"
   ]
  },
  {
   "cell_type": "markdown",
   "id": "b0298472-8909-496a-9113-609ae24a4ae1",
   "metadata": {},
   "source": [
    "## Multiple assignment"
   ]
  },
  {
   "cell_type": "markdown",
   "id": "e4e89e04-0adf-4c32-b623-7b5e44e3b5ca",
   "metadata": {},
   "source": [
    "We have already seen that, just like other types of data, a `list` can be assigned to a variable:"
   ]
  },
  {
   "cell_type": "code",
   "execution_count": 1,
   "id": "f75b483a-3a02-48c2-89b8-16fdb8ae03e4",
   "metadata": {},
   "outputs": [],
   "source": [
    "some_numbers = [1, 2]"
   ]
  },
  {
   "cell_type": "markdown",
   "id": "2680c623-f5d1-4978-b9a0-09ea73b5801d",
   "metadata": {},
   "source": [
    "Sometimes, we want to assign the various elements of a list to separate variables. With respect to our example above, we might want to store `1` in one variable and `2` in a different variable, rather than storing the whole list in `some_numbers`. This can be accomplished with **multiple assignment**:"
   ]
  },
  {
   "cell_type": "code",
   "execution_count": 2,
   "id": "b1144f50-3db7-46fc-871d-bd874f1471a1",
   "metadata": {},
   "outputs": [
    {
     "name": "stdout",
     "output_type": "stream",
     "text": [
      "1\n",
      "2\n"
     ]
    }
   ],
   "source": [
    "number_1, number_2 = some_numbers\n",
    "\n",
    "print(number_1)\n",
    "print(number_2)"
   ]
  },
  {
   "cell_type": "markdown",
   "id": "39cce579-0298-44c0-8a8b-ec9ed2ac7e04",
   "metadata": {},
   "source": [
    "This syntax for this process is relatively straightforward, we just provide as many variable names as there are elements in the list, separated by commas:\n",
    "\n",
    "```python\n",
    "variable_1, variable_2, variable_3 = [element_1, element_2, element_3]\n",
    "\n",
    "# This sets variable_1 = element_1, variable_2 = element_2 etc.\n",
    "```"
   ]
  },
  {
   "cell_type": "markdown",
   "id": "32850b0c-5e7f-4a47-a8d9-ad7981c15a34",
   "metadata": {},
   "source": [
    "## Exercise"
   ]
  },
  {
   "cell_type": "markdown",
   "id": "10e101c0-ad83-4e4e-94e4-f521a92cbb3b",
   "metadata": {},
   "source": [
    "**1.** Copy the following block of code into a Jupyter notebook:\n",
    "\n",
    "```python\n",
    "colours = [['Red', 'Magenta'], \n",
    "           ['Cyan', 'Green'], \n",
    "           [['Yellow', 'Blue'], 'White']]\n",
    "```\n",
    "\n",
    "a) By using **list indexing**, print just the `Magenta` string from the `colours` list.\n",
    "\n",
    "b) Again using **list indexing** as above, assign the `Red` element to a variable called `colour_1`, `Green` to a variable called `colour_2` and `Yellow` to a variable called `colour_3` so that the following line of code runs without error and displays a true statement:\n",
    "\n",
    "```python\n",
    "print(f'{colour_1} + {colour_2} -> {colour_3}')\n",
    "```\n",
    "\n",
    "**2.** Create a list of strings corresponding to the second row of the periodic table and assign this to a variable.\n",
    "\n",
    "a) By slicing this list, assign just the non-metals and metalloids to a new variable.\n",
    "\n",
    "b) Slice your list of non-metals to obtain only the elements with even atomic numbers - assign this to a new variable.\n",
    "\n",
    "c) Using any of the methods described previously, add the non-metals and metalloids from the third row of the periodic table (with even atomic numbers) to the list you created in b)."
   ]
  },
  {
   "cell_type": "code",
   "execution_count": null,
   "id": "bfee0d76-2294-4ec3-a2b3-4d0d290bf894",
   "metadata": {},
   "outputs": [],
   "source": []
  }
 ],
 "metadata": {
  "kernelspec": {
   "display_name": "Python 3 (ipykernel)",
   "language": "python",
   "name": "python3"
  },
  "language_info": {
   "codemirror_mode": {
    "name": "ipython",
    "version": 3
   },
   "file_extension": ".py",
   "mimetype": "text/x-python",
   "name": "python",
   "nbconvert_exporter": "python",
   "pygments_lexer": "ipython3",
   "version": "3.12.0"
  }
 },
 "nbformat": 4,
 "nbformat_minor": 5
}
