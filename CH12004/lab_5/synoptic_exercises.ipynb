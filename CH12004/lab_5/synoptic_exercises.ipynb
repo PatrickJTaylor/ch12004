{
 "cells": [
  {
   "cell_type": "markdown",
   "id": "ecee1bc5-8f0a-4be3-a57a-ae6de5b2362f",
   "metadata": {},
   "source": [
    "# Synoptic exercises"
   ]
  },
  {
   "cell_type": "markdown",
   "id": "0f3cbbe6-5e35-47c9-b562-473d16812b69",
   "metadata": {},
   "source": [
    "It's time to **plot**.\n",
    "\n",
    "**1.** The **mean activity** of ions in solution can be measured experimentally. You have been provided with the mean activity of Na$_{2}$SO$_{4}$ at $298\\,$K for a range of ionic strengths:\n",
    "\n",
    "```python\n",
    "ionic_strength = [0.000, 0.003, 0.006, 0.015, 0.030, 0.060, 0.150, 0.300, 0.600, 1.500, 3.000, 6.000]\n",
    "mean_activity = [1, 0.886, 0.846, 0.777, 0.712, 0.637, 0.529, 0.446, 0.366, 0.268, 0.204, 0.155]\n",
    "```\n",
    "\n",
    "a) Use `matplotlib` to render a scatter plot of the mean activity as a function of the ionic strength $I$.\n",
    "\n",
    "b) The mean activity can be predicted by the Debye-Huckel limiting law:\n",
    "\n",
    "$$\\ln\\gamma_{\\pm} = -|z_{+}z_{-}|A\\sqrt{I},$$\n",
    "\n",
    "where $z_{+}$ and $z_{-}$ are the charges of the cations and anions, $I$ is the ionic strength and $A$ is a solvent and temperature dependent constant.\n",
    "\n",
    "Write a function to calculate the mean activity according to the Debye-Huckel limiting law (feel free to reuse your code from [previous exercises](../lab_4/functions.ipynb)). Using $A = 1.179\\,$M$^{\\frac{1}{2}}$, plot the Debye-Huckel mean activity from $I = 0\\,$M to $I = 6\\,$M and compare this with the experimental values.\n",
    "\n",
    "c) There are several extensions of the Debye-Huckel limiting law that aim to improve its description of the mean activity outside of the dilute limit. One such extension is:\n",
    "\n",
    "$$\\ln\\gamma_{\\pm} = -|z_{+}z_{-}|\\frac{A\\sqrt{I}}{1 + Ba_{0}\\sqrt{I}},$$\n",
    "\n",
    "where $B$ is another solvent and temperature dependent constant and $a_{0}$ is the distance of closest approach (expected to be proportional to the closest distance between ions in solution).\n",
    "\n",
    "Write a function to calculate the mean activity according to the extended Debye-Huckel limiting law. Using $B = 18.3$ and $a_{0} = 0.071$, plot the extended Debye-Huckel mean activity from $I = 0\\,$M to $I = 6\\,$M and compare this with the experimental values and the original Debye-Huckel limiting law."
   ]
  },
  {
   "cell_type": "code",
   "execution_count": null,
   "id": "0b05fd73-4059-446f-ba7a-efa2bb1ec4c8",
   "metadata": {},
   "outputs": [],
   "source": []
  }
 ],
 "metadata": {
  "kernelspec": {
   "display_name": "Python 3 (ipykernel)",
   "language": "python",
   "name": "python3"
  },
  "language_info": {
   "codemirror_mode": {
    "name": "ipython",
    "version": 3
   },
   "file_extension": ".py",
   "mimetype": "text/x-python",
   "name": "python",
   "nbconvert_exporter": "python",
   "pygments_lexer": "ipython3",
   "version": "3.12.0"
  }
 },
 "nbformat": 4,
 "nbformat_minor": 5
}
