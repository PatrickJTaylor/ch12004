{
 "cells": [
  {
   "cell_type": "markdown",
   "id": "abea2fb2-d5c2-4d7f-a5d0-a8ad40c47cb2",
   "metadata": {},
   "source": [
    "# Combining loops **and** logic"
   ]
  },
  {
   "cell_type": "markdown",
   "id": "25405142-504e-4630-b4b1-b168287fd8e6",
   "metadata": {},
   "source": [
    "All of our examples so far have been relatively simple individual logical statements, but there is no reason that we cannot apply logical operations in **loops**:"
   ]
  },
  {
   "cell_type": "code",
   "execution_count": 1,
   "id": "3c8b095d-ca0c-400f-9677-8ee0945f88f3",
   "metadata": {},
   "outputs": [
    {
     "name": "stdout",
     "output_type": "stream",
     "text": [
      "3 is divisible by 3.\n",
      "6 is divisible by 3.\n",
      "9 is divisible by 3.\n",
      "12 is divisible by 3.\n",
      "15 is divisible by 3.\n",
      "18 is divisible by 3.\n",
      "21 is divisible by 3.\n"
     ]
    }
   ],
   "source": [
    "for number in range(1, 22):\n",
    "    if number % 3 == 0:\n",
    "        print(f'{number} is divisible by 3.')"
   ]
  },
  {
   "cell_type": "markdown",
   "id": "6adb2f56-ed3e-42fe-85ae-8cbae60ebb39",
   "metadata": {},
   "source": [
    "Here we have combined a simple `if` statement with a `for` loop to find all of the multiples of $3$ between $1$ and $21$.\n",
    "\n",
    "In addition to all the **logic** we have learnt about thus far, there are two useful **keywords** that are relevant specifically to using logic in **loops**."
   ]
  },
  {
   "cell_type": "code",
   "execution_count": 2,
   "id": "1f95ddab-1fba-4ad4-86d6-e3b3c6c7b217",
   "metadata": {},
   "outputs": [
    {
     "name": "stdout",
     "output_type": "stream",
     "text": [
      "1\n",
      "2\n",
      "3\n",
      "4\n",
      "5\n",
      "6\n",
      "7\n",
      "8\n",
      "9\n",
      "10\n",
      "We have broken out of the loop!\n"
     ]
    }
   ],
   "source": [
    "for number in range(1, 101):\n",
    "    if number > 10:\n",
    "        break\n",
    "\n",
    "    print(number)\n",
    "\n",
    "print('We have broken out of the loop!')"
   ]
  },
  {
   "cell_type": "markdown",
   "id": "f19f11da-1af2-4cab-bf78-addf785e7337",
   "metadata": {},
   "source": [
    "In the example above, we are looping over numbers between $1$ and $100$. The `if` statement checks if `number` is greater than $10$, and if it is, the `break` keyword is run. As the name implies, the `break` keyword breaks us out of the loop: it stop the rest of the iterations that would otherwise have run from occurring. You can see this happening above because as soon as `10` is printed, no more numbers are displayed and instead the `'We have broken out of the loop!'` message is seen, which should only be printed **after** the loop has finished.\n",
    "\n",
    "The other keyword that pairs nicely with the logic we have learnt is `continue`:"
   ]
  },
  {
   "cell_type": "code",
   "execution_count": 3,
   "id": "0ee5b701-150a-484d-bf5b-15d57c66633c",
   "metadata": {},
   "outputs": [
    {
     "name": "stdout",
     "output_type": "stream",
     "text": [
      "5\n",
      "10\n",
      "15\n",
      "20\n",
      "25\n",
      "30\n",
      "35\n",
      "40\n",
      "45\n",
      "50\n",
      "55\n",
      "60\n",
      "65\n",
      "70\n",
      "75\n",
      "80\n",
      "85\n",
      "90\n",
      "95\n",
      "100\n"
     ]
    }
   ],
   "source": [
    "for number in range(1, 101):\n",
    "    if number % 5 != 0:\n",
    "        continue\n",
    "\n",
    "    print(number)"
   ]
  },
  {
   "cell_type": "markdown",
   "id": "8397ea28-6370-4313-b02f-f6be4473772e",
   "metadata": {},
   "source": [
    "Here we are testing whether or not `number` is **not** divisible by `5`. If `number` **is** divisible by `5`, then the `continue` keyword does not run and we `print` the `number`. If the `number` is **not** divisible by `5`, then the `continue` keyword is run and this **immediately skips us to the next iteration of the loop**. The end result is that `print(number)` only runs if `number` is a multiple of `5`.\n",
    "\n",
    "So, to summarise:\n",
    "\n",
    "`break` - When this runs, we exit the loop immediately.\n",
    "\n",
    "`continue` - When this runs, we skip the rest of the code in the loop and immediately skip to its next iteration."
   ]
  },
  {
   "cell_type": "code",
   "execution_count": null,
   "id": "4cfa8524-b365-4d28-9694-f9105667f20b",
   "metadata": {},
   "outputs": [],
   "source": []
  }
 ],
 "metadata": {
  "kernelspec": {
   "display_name": "Python 3 (ipykernel)",
   "language": "python",
   "name": "python3"
  },
  "language_info": {
   "codemirror_mode": {
    "name": "ipython",
    "version": 3
   },
   "file_extension": ".py",
   "mimetype": "text/x-python",
   "name": "python",
   "nbconvert_exporter": "python",
   "pygments_lexer": "ipython3",
   "version": "3.11.0"
  }
 },
 "nbformat": 4,
 "nbformat_minor": 5
}
