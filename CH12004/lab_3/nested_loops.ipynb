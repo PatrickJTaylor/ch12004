{
 "cells": [
  {
   "cell_type": "markdown",
   "id": "d93392cf-4ff5-4006-a699-c2bed1b7718e",
   "metadata": {},
   "source": [
    "# Nested loops"
   ]
  },
  {
   "cell_type": "markdown",
   "id": "40b1b09b-6c8a-4357-88fb-57bac85e9886",
   "metadata": {},
   "source": [
    "You've heard of a list inside a list inside a list inside a list etc, a **nested** list, but what about a loop inside a loop inside a loop inside a loop..."
   ]
  },
  {
   "cell_type": "code",
   "execution_count": 2,
   "id": "d0ff9507-25c3-4004-811e-588e860ca84d",
   "metadata": {},
   "outputs": [
    {
     "name": "stdout",
     "output_type": "stream",
     "text": [
      "1 a\n",
      "1 b\n",
      "1 c\n",
      "2 a\n",
      "2 b\n",
      "2 c\n",
      "3 a\n",
      "3 b\n",
      "3 c\n"
     ]
    }
   ],
   "source": [
    "list_1 = [1, 2, 3]\n",
    "list_2 = ['a', 'b', 'c']\n",
    "\n",
    "for item_i in list_1:\n",
    "    for item_j in list_2:\n",
    "        print(item_i, item_j)"
   ]
  },
  {
   "cell_type": "markdown",
   "id": "92977b6b-97aa-4ff1-97ad-c14b2bbe2e2f",
   "metadata": {},
   "source": [
    "Sure enough, this is a **nested loop**: let's try to figure out what the heck it's doing.\n",
    "\n",
    "The first thing to note about this example is the `print` statement, which here takes **two** arguments. Previously, we have only ever supplied one input to the `print` function:"
   ]
  },
  {
   "cell_type": "code",
   "execution_count": 3,
   "id": "7063ede2-14f8-4fa4-8f8c-98e68a12729e",
   "metadata": {},
   "outputs": [
    {
     "name": "stdout",
     "output_type": "stream",
     "text": [
      "5\n"
     ]
    }
   ],
   "source": [
    "a = 5\n",
    "\n",
    "print(a)"
   ]
  },
  {
   "cell_type": "markdown",
   "id": "68f1b6b5-7922-44a4-a3ec-923ae84117ad",
   "metadata": {},
   "source": [
    "But as it happens, the `print` function will accept **any number of arguments**:"
   ]
  },
  {
   "cell_type": "code",
   "execution_count": 4,
   "id": "7dd1903b-0e8d-4983-b24a-7834ca7b8ebe",
   "metadata": {},
   "outputs": [
    {
     "name": "stdout",
     "output_type": "stream",
     "text": [
      "5 10 200\n"
     ]
    }
   ],
   "source": [
    "a = 5\n",
    "b = 10\n",
    "c = 200\n",
    "\n",
    "print(a, b, c)"
   ]
  },
  {
   "cell_type": "markdown",
   "id": "8a93c572-e92d-4667-a792-1bfaeacc778e",
   "metadata": {},
   "source": [
    "It simply prints each argument one after another with a space inbetween each.\n",
    "\n",
    "Coming back to our nested loop, we can make its inner workings a little clearer with the `enumerate` function and an extra `print` statement:"
   ]
  },
  {
   "cell_type": "code",
   "execution_count": 5,
   "id": "2930c8dc-d2c6-4a28-9895-df021bd08573",
   "metadata": {},
   "outputs": [
    {
     "name": "stdout",
     "output_type": "stream",
     "text": [
      "Outer loop iteration #0\n",
      "1 a\n",
      "1 b\n",
      "1 c\n",
      "Outer loop iteration #1\n",
      "2 a\n",
      "2 b\n",
      "2 c\n",
      "Outer loop iteration #2\n",
      "3 a\n",
      "3 b\n",
      "3 c\n"
     ]
    }
   ],
   "source": [
    "list_1 = [1, 2, 3]\n",
    "list_2 = ['a', 'b', 'c']\n",
    "\n",
    "for iteration_count, item_i in enumerate(list_1):\n",
    "    print(f'Outer loop iteration #{iteration_count}')\n",
    "    for item_j in list_2:\n",
    "        print(item_i, item_j)"
   ]
  },
  {
   "cell_type": "markdown",
   "id": "189c5726-930e-47b2-bb49-cd59ddd8e800",
   "metadata": {},
   "source": [
    "Here we have used the `enumerate` function just like we did before, storing the iteration that we are currently on in a variable `iteration_count`. Our code now keeps track of iterations associated with the **outer loop**, i.e. the loop established before the **indentation** starts, but what if we apply the same trick to the **inner loop**?"
   ]
  },
  {
   "cell_type": "code",
   "execution_count": 6,
   "id": "32d92412-b71a-4ef0-aec0-b114b50ae7e1",
   "metadata": {},
   "outputs": [
    {
     "name": "stdout",
     "output_type": "stream",
     "text": [
      "Outer loop iteration #0\n",
      "Inner loop iteration #0\n",
      "1 a\n",
      "Inner loop iteration #1\n",
      "1 b\n",
      "Inner loop iteration #2\n",
      "1 c\n",
      "Outer loop iteration #1\n",
      "Inner loop iteration #0\n",
      "2 a\n",
      "Inner loop iteration #1\n",
      "2 b\n",
      "Inner loop iteration #2\n",
      "2 c\n",
      "Outer loop iteration #2\n",
      "Inner loop iteration #0\n",
      "3 a\n",
      "Inner loop iteration #1\n",
      "3 b\n",
      "Inner loop iteration #2\n",
      "3 c\n"
     ]
    }
   ],
   "source": [
    "list_1 = [1, 2, 3]\n",
    "list_2 = ['a', 'b', 'c']\n",
    "\n",
    "for iteration_count_i, item_i in enumerate(list_1):\n",
    "    print(f'Outer loop iteration #{iteration_count_i}')\n",
    "    for iteration_count_j, item_j in enumerate(list_2):\n",
    "        print(f'Inner loop iteration #{iteration_count_j}')\n",
    "        print(item_i, item_j)"
   ]
  },
  {
   "cell_type": "markdown",
   "id": "b94edb8e-8170-49c4-90b4-51f62adaa6e6",
   "metadata": {},
   "source": [
    "Hopefully you can see that for every iteration of the **outer loop**, the **inner loop** iterates through the entirety of `list_2`. In other words, the **inner loop** does all of its iterations before the **outer loop** iterates again. \n",
    "\n",
    "Coming back to our original example:"
   ]
  },
  {
   "cell_type": "code",
   "execution_count": 8,
   "id": "f951cb09-ba14-42fc-8dc4-ae8408943f8d",
   "metadata": {},
   "outputs": [
    {
     "name": "stdout",
     "output_type": "stream",
     "text": [
      "1 a\n",
      "1 b\n",
      "1 c\n",
      "2 a\n",
      "2 b\n",
      "2 c\n",
      "3 a\n",
      "3 b\n",
      "3 c\n"
     ]
    }
   ],
   "source": [
    "list_1 = [1, 2, 3]\n",
    "list_2 = ['a', 'b', 'c']\n",
    "\n",
    "for item_i in list_1:\n",
    "    for item_j in list_2:\n",
    "        print(item_i, item_j)"
   ]
  },
  {
   "cell_type": "markdown",
   "id": "b1080aab-9a7e-4596-90bf-d14fefa75e08",
   "metadata": {},
   "source": [
    "Let's go through the first few iterations of this logic manually. On the first iteration of the **outer loop**, we assign the first element of `list_1` to `item_i`:\n",
    "\n",
    "```python\n",
    "item_i = 1\n",
    "```\n",
    "\n",
    "We then enter the **inner loop** which, on its first iteration, will assign the first element of `list_2` to `item_j`:\n",
    "\n",
    "```python\n",
    "item_j = 'a'\n",
    "```\n",
    "\n",
    "We then run the rest of the code:\n",
    "\n",
    "```python\n",
    "print(item_i, item_j)\n",
    "```\n",
    "\n",
    "Which gives us `1 a`.\n",
    "\n",
    "At this point, we go into the second iteration of the **inner loop**, assigning the second element of `list_2` to `item_j`:\n",
    "\n",
    "```python\n",
    "item_j = 'b'\n",
    "```\n",
    "\n",
    "Once again, we run the code within the inner loop:\n",
    "\n",
    "```python\n",
    "print(item_i, item_j)\n",
    "```\n",
    "\n",
    "`item_i` **has not changed**, as we are still on the first iteration of the **outer loop**. On the other hand, `item_j` **has changed**, as we are now on the second iteration of the **inner loop**, so we get `1 b`.\n",
    "\n",
    "We will continue iterating through the **inner loop** until we have been through all of `list_2`, at which point the **outer loop** iterates and `item_i` is finally updated:\n",
    "\n",
    "```python\n",
    "item_i = 2\n",
    "```\n",
    "\n",
    "We then enter the **inner loop** again, so `item_j` is reset to the first element of `list_2`:\n",
    "\n",
    "```python\n",
    "item_j = 'a'\n",
    "```\n",
    "\n",
    "So the `print` statement gives us `2 a` and so on and so forth.\n",
    "\n",
    "---\n",
    "\n",
    "Let's go over one more example in a slightly different context:"
   ]
  },
  {
   "cell_type": "code",
   "execution_count": 9,
   "id": "1b2a95d5-c75d-4af1-8ed1-7b0354f41e93",
   "metadata": {},
   "outputs": [
    {
     "name": "stdout",
     "output_type": "stream",
     "text": [
      "1\n",
      "2\n",
      "3\n",
      "a\n",
      "b\n",
      "c\n"
     ]
    }
   ],
   "source": [
    "nested_list = [[1, 2, 3], \n",
    "               ['a', 'b', 'c']]\n",
    "\n",
    "for sublist in nested_list:\n",
    "    for element in sublist:\n",
    "        print(element)"
   ]
  },
  {
   "cell_type": "markdown",
   "id": "44f685b7-ab63-42d8-bc0a-3a9e2258c78e",
   "metadata": {},
   "source": [
    "Here we have a list of lists which is just a combination of `list_1` and `list_2` from our previous example. \n",
    "\n",
    "The **outer loop** is iterating through each element of `nested_list`. In this case, `nested_list` contains two **sublists**: `[1, 2, 3]` and `['a', 'b', 'c']`. The **inner loop** is iterating through each element of the **sublist** assigned by the **outer loop**."
   ]
  },
  {
   "cell_type": "markdown",
   "id": "f7018a5c-6043-47b3-b82c-037509d534c5",
   "metadata": {},
   "source": [
    "## Exercises"
   ]
  },
  {
   "cell_type": "markdown",
   "id": "ba87d075-c40e-4f59-a0b5-9ca2bbb544d8",
   "metadata": {},
   "source": [
    "**1.** Consider the following loop in a loop (**nested loop**):"
   ]
  },
  {
   "cell_type": "code",
   "execution_count": 1,
   "id": "1e0118f7-5d28-4fb4-aeff-4f257ea88be8",
   "metadata": {},
   "outputs": [
    {
     "name": "stdout",
     "output_type": "stream",
     "text": [
      "\n",
      "* \n",
      "* * \n",
      "* * * \n",
      "* * * * \n",
      "* * * * * \n",
      "* * * * * * \n",
      "* * * * * * * \n",
      "* * * * * * * * \n",
      "* * * * * * * * * \n"
     ]
    }
   ],
   "source": [
    "rows = 10\n",
    "\n",
    "for i in range(0, rows):\n",
    "    for j in range(0, i):\n",
    "        print('*', end=' ')\n",
    "    print('')"
   ]
  },
  {
   "cell_type": "markdown",
   "id": "6a497183-4841-46a8-84de-0b91a321acfb",
   "metadata": {},
   "source": [
    "```{note}\n",
    "For the time being, ignore the `end=' '` argument to the `print` function. This ensures that the pattern is displayed correctly by preventing a new line being added after each *. You will not have to change this line of code.\n",
    "```\n",
    "\n",
    "Modify this block of code to produce the following pattern (ignore the colour):\n",
    "\n",
    "```\n",
    "* * * * * * * * * \n",
    "* * * * * * * *\n",
    "* * * * * * *\n",
    "* * * * * *\n",
    "* * * * *\n",
    "* * * *\n",
    "* * *\n",
    "* *\n",
    "*\n",
    "```"
   ]
  },
  {
   "cell_type": "code",
   "execution_count": null,
   "id": "db73b314-81d9-4667-bcc2-ba5ae5dcbd81",
   "metadata": {},
   "outputs": [],
   "source": []
  }
 ],
 "metadata": {
  "kernelspec": {
   "display_name": "Python 3 (ipykernel)",
   "language": "python",
   "name": "python3"
  },
  "language_info": {
   "codemirror_mode": {
    "name": "ipython",
    "version": 3
   },
   "file_extension": ".py",
   "mimetype": "text/x-python",
   "name": "python",
   "nbconvert_exporter": "python",
   "pygments_lexer": "ipython3",
   "version": "3.12.0"
  }
 },
 "nbformat": 4,
 "nbformat_minor": 5
}
