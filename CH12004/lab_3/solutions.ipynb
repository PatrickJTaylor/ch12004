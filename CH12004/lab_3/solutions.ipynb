{
 "cells": [
  {
   "cell_type": "markdown",
   "id": "dd5e1868-8888-49eb-904a-3447ec738df3",
   "metadata": {},
   "source": [
    "# Solutions"
   ]
  },
  {
   "cell_type": "markdown",
   "id": "a0217fb2-a00c-4f5f-9655-2d083d962425",
   "metadata": {},
   "source": [
    "Okay folks, time to get *loopy*.\n",
    "\n",
    "**1.** Write a program to play \"[Fizz Buzz](https://en.wikipedia.org/wiki/Fizz_buzz)\". Your code should loop over numbers between $1$ and $100$, printing `'Fizz'` for those that are divisible by $3$, `'Buzz'` for those divisible by $5$ and `'Fizz Buzz'` for those divisible by both $3$ and $5$."
   ]
  },
  {
   "cell_type": "code",
   "execution_count": 1,
   "id": "16bf894e-f7b8-4713-b19d-6c4ee60c9abb",
   "metadata": {},
   "outputs": [
    {
     "name": "stdout",
     "output_type": "stream",
     "text": [
      "1\n",
      "2\n",
      "Fizz\n",
      "4\n",
      "Buzz\n",
      "Fizz\n",
      "7\n",
      "8\n",
      "Fizz\n",
      "Buzz\n",
      "11\n",
      "Fizz\n",
      "13\n",
      "14\n",
      "Fizz Buzz\n",
      "16\n",
      "17\n",
      "Fizz\n",
      "19\n",
      "Buzz\n",
      "Fizz\n",
      "22\n",
      "23\n",
      "Fizz\n",
      "Buzz\n",
      "26\n",
      "Fizz\n",
      "28\n",
      "29\n",
      "Fizz Buzz\n",
      "31\n",
      "32\n",
      "Fizz\n",
      "34\n",
      "Buzz\n",
      "Fizz\n",
      "37\n",
      "38\n",
      "Fizz\n",
      "Buzz\n",
      "41\n",
      "Fizz\n",
      "43\n",
      "44\n",
      "Fizz Buzz\n",
      "46\n",
      "47\n",
      "Fizz\n",
      "49\n",
      "Buzz\n",
      "Fizz\n",
      "52\n",
      "53\n",
      "Fizz\n",
      "Buzz\n",
      "56\n",
      "Fizz\n",
      "58\n",
      "59\n",
      "Fizz Buzz\n",
      "61\n",
      "62\n",
      "Fizz\n",
      "64\n",
      "Buzz\n",
      "Fizz\n",
      "67\n",
      "68\n",
      "Fizz\n",
      "Buzz\n",
      "71\n",
      "Fizz\n",
      "73\n",
      "74\n",
      "Fizz Buzz\n",
      "76\n",
      "77\n",
      "Fizz\n",
      "79\n",
      "Buzz\n",
      "Fizz\n",
      "82\n",
      "83\n",
      "Fizz\n",
      "Buzz\n",
      "86\n",
      "Fizz\n",
      "88\n",
      "89\n",
      "Fizz Buzz\n",
      "91\n",
      "92\n",
      "Fizz\n",
      "94\n",
      "Buzz\n",
      "Fizz\n",
      "97\n",
      "98\n",
      "Fizz\n",
      "Buzz\n"
     ]
    }
   ],
   "source": [
    "for number in range(1, 101):\n",
    "    if number % 3 == 0 and number % 5 == 0:\n",
    "        print('Fizz Buzz')\n",
    "\n",
    "    elif number % 3 == 0:\n",
    "        print('Fizz')\n",
    "\n",
    "    elif number % 5 == 0:\n",
    "        print('Buzz')\n",
    "\n",
    "    else:\n",
    "        print(number)"
   ]
  },
  {
   "cell_type": "markdown",
   "id": "30b38f8c-5d0b-4dfd-bdef-af013a975c27",
   "metadata": {},
   "source": [
    "**2.** You have been provided with the melting and boiling points of various metals:\n",
    "\n",
    "```python\n",
    "metals = ['Fe', 'Al', 'Hg', 'Ti', 'Pb']\n",
    "melting_points = [1811, 933, 234, 1941, 601]\n",
    "boiling_points = [3134, 2743, 630, 3560, 2022]\n",
    "```\n",
    "\n",
    "Using a `for` loop, determine whether each metal is a solid, liquid or gas at $500\\,$K."
   ]
  },
  {
   "cell_type": "code",
   "execution_count": 2,
   "id": "3e672945-4aba-46ba-b7b7-9433ed015692",
   "metadata": {},
   "outputs": [
    {
     "name": "stdout",
     "output_type": "stream",
     "text": [
      "Fe is a solid at 500 K.\n",
      "Al is a solid at 500 K.\n",
      "Hg is a liquid at 500 K.\n",
      "Ti is a solid at 500 K.\n",
      "Pb is a solid at 500 K.\n"
     ]
    }
   ],
   "source": [
    "metals = ['Fe', 'Al', 'Hg', 'Ti', 'Pb']\n",
    "melting_points = [1811, 933, 234, 1941, 601]\n",
    "boiling_points = [3134, 2743, 630, 3560, 2022]\n",
    "\n",
    "for idx, metal in enumerate(metals):\n",
    "    if boiling_points[idx] < 500:\n",
    "        print(f'{metal} is a gas at 500 K.')\n",
    "\n",
    "    elif melting_points[idx] < 500:\n",
    "        print(f'{metal} is a liquid at 500 K.')\n",
    "\n",
    "    else:\n",
    "        print(f'{metal} is a solid at 500 K.')"
   ]
  },
  {
   "cell_type": "markdown",
   "id": "eaf6394e-ed37-4dab-b53c-39c7d959bf12",
   "metadata": {},
   "source": [
    "**3.** Consider $5.00 \\times 10^{-2}\\,$moles of an ideal gas in a $1.00 \\times 10^{-3}\\,$m$^{3}$ container. \n",
    "\n",
    "Calculate the pressure at each temperature between $100$ and $1000\\,$K in steps of $50\\,$K and append these values to a `list`."
   ]
  },
  {
   "cell_type": "code",
   "execution_count": 3,
   "id": "0b267622-445e-49f8-b7dd-9d8ecb1946fc",
   "metadata": {},
   "outputs": [
    {
     "name": "stdout",
     "output_type": "stream",
     "text": [
      "The pressure (in Pa) at each temperature: [41572.31309, 62358.469635, 83144.62618, 103930.782725, 124716.93927, 145503.09581499998, 166289.25236, 187075.40890500002, 207861.56545, 228647.721995, 249433.87854, 270220.035085, 291006.19162999996, 311792.34817500005, 332578.50472, 353364.661265, 374150.81781000004, 394936.974355, 415723.1309]\n"
     ]
    }
   ],
   "source": [
    "import scipy\n",
    "\n",
    "pressures = []\n",
    "\n",
    "n = 5.00e-02\n",
    "V = 1.00e-03\n",
    "\n",
    "for temperature in range(100, 1050, 50):\n",
    "    pressure = (n * scipy.constants.R * temperature) / V\n",
    "\n",
    "    pressures.append(pressure)\n",
    "\n",
    "print(f'The pressure (in Pa) at each temperature: {pressures}')"
   ]
  },
  {
   "cell_type": "markdown",
   "id": "61c7c7de-acaf-4c92-b0ad-6b607b8ea9ca",
   "metadata": {},
   "source": [
    "**4.** Recall the previous exercise in [lab 1](../lab_1/synoptic_exercises.ipynb) in which we calculated various lines in the Hydrogen emission spectrum using the following equation:\n",
    "\n",
    "$$\\frac{1}{\\lambda} = R_{\\mathrm{H}}\\left[\\frac{1}{n_{1}^{2}} - \\frac{1}{n_{2}^{2}}\\right],$$\n",
    "\n",
    "where $\\lambda$ is the wavelength, $R_{\\mathrm{H}}$ is the Rydberg constant, $n_{1}$ is the principal quantum number of the emission state and $n_{2}$ is the principal quantum number of the excited state.\n",
    "\n",
    "a) Write a `for` loop to `print` the wavelengths (**in nanometres**) of the first $10$ lines of the Balmer series ($n_{1} = 2$)."
   ]
  },
  {
   "cell_type": "code",
   "execution_count": 4,
   "id": "e274af7a-51f1-4ea5-84c6-a208a431f97f",
   "metadata": {},
   "outputs": [
    {
     "name": "stdout",
     "output_type": "stream",
     "text": [
      "656.112276419319 nm\n",
      "486.0090936439399 nm\n",
      "433.93669075351784 nm\n",
      "410.0701727620744 nm\n",
      "396.9074264758843 nm\n",
      "388.807274915152 nm\n",
      "383.44223946583577 nm\n",
      "379.6946044093281 nm\n",
      "376.9685918648509 nm\n",
      "374.92130081103943 nm\n"
     ]
    }
   ],
   "source": [
    "n_1 = 2\n",
    "\n",
    "for n_2 in range(3, 13):\n",
    "    wavelength = 1 / (scipy.constants.Rydberg * (1 / n_1 ** 2 - 1 / n_2 ** 2))\n",
    "    wavelength *= 10 ** 9 # Convert to nanometres\n",
    "\n",
    "    print(f'{wavelength} nm')"
   ]
  },
  {
   "cell_type": "markdown",
   "id": "34628a56-1055-48d5-a85c-6aca20dc446f",
   "metadata": {},
   "source": [
    "b) Add one additional loop to your code so that it can `print` the wavelengths of the first $10$ lines in the Lyman, Balmer and Paschen series."
   ]
  },
  {
   "cell_type": "code",
   "execution_count": 5,
   "id": "f4135a2d-e354-4802-b07d-006b3ab0bd4e",
   "metadata": {},
   "outputs": [
    {
     "name": "stdout",
     "output_type": "stream",
     "text": [
      "n_1 = 1\n",
      "121.50227341098497 nm\n",
      "102.5175431905186 nm\n",
      "97.201818728788 nm\n",
      "94.92365110233203 nm\n",
      "93.73032520275986 nm\n",
      "93.0251780802854 nm\n",
      "92.57316069408381 nm\n",
      "92.26578887146674 nm\n",
      "92.04717682650379 nm\n",
      "91.88609426705739 nm\n",
      "n_1 = 2\n",
      "656.112276419319 nm\n",
      "486.0090936439399 nm\n",
      "433.93669075351784 nm\n",
      "410.0701727620744 nm\n",
      "396.9074264758843 nm\n",
      "388.807274915152 nm\n",
      "383.44223946583577 nm\n",
      "379.6946044093281 nm\n",
      "376.9685918648509 nm\n",
      "374.92130081103943 nm\n",
      "n_1 = 3\n",
      "1874.6065040551973 nm\n",
      "1281.4692898814824 nm\n",
      "1093.520460698865 nm\n",
      "1004.6719232670822 nm\n",
      "954.3451293371911 nm\n",
      "922.6578887146674 nm\n",
      "901.2531269496139 nm\n",
      "886.0444804323394 nm\n",
      "874.816368559092 nm\n",
      "866.2732399598821 nm\n"
     ]
    }
   ],
   "source": [
    "for n_1 in range(1, 4):\n",
    "    print(f'n_1 = {n_1}')\n",
    "    for n_2 in range(n_1 + 1, n_1 + 11):\n",
    "        wavelength = 1 / (scipy.constants.Rydberg * (1 / n_1 ** 2 - 1 / n_2 ** 2))\n",
    "        wavelength *= 10 ** 9 # Convert to nanometres\n",
    "\n",
    "        print(f'{wavelength} nm')"
   ]
  },
  {
   "cell_type": "markdown",
   "id": "40d91fbd-3b37-45ec-bbfb-6d6e79cd7a41",
   "metadata": {},
   "source": [
    "c) Create three **empty lists** called `lyman`, `balmer` and `paschen`.\n",
    "\n",
    "Add some [logic](logic.ipynb) to your code from b) so that, rather than printing each wavelength to the screen, each value is stored in the appropriate `list`."
   ]
  },
  {
   "cell_type": "code",
   "execution_count": 6,
   "id": "89e42768-bdeb-42cc-b4d3-143768727580",
   "metadata": {},
   "outputs": [
    {
     "name": "stdout",
     "output_type": "stream",
     "text": [
      "[121.50227341098497, 102.5175431905186, 97.201818728788, 94.92365110233203, 93.73032520275986, 93.0251780802854, 92.57316069408381, 92.26578887146674, 92.04717682650379, 91.88609426705739]\n",
      "[656.112276419319, 486.0090936439399, 433.93669075351784, 410.0701727620744, 396.9074264758843, 388.807274915152, 383.44223946583577, 379.6946044093281, 376.9685918648509, 374.92130081103943]\n",
      "[1874.6065040551973, 1281.4692898814824, 1093.520460698865, 1004.6719232670822, 954.3451293371911, 922.6578887146674, 901.2531269496139, 886.0444804323394, 874.816368559092, 866.2732399598821]\n"
     ]
    }
   ],
   "source": [
    "lyman = []\n",
    "balmer = []\n",
    "paschen = []\n",
    "\n",
    "for n_1 in range(1, 4):\n",
    "    for n_2 in range(n_1 + 1, n_1 + 11):\n",
    "        wavelength = 1 / (scipy.constants.Rydberg * (1 / n_1 ** 2 - 1 / n_2 ** 2))\n",
    "        wavelength *= 10 ** 9 # Convert to nanometres\n",
    "\n",
    "        if n_1 == 1:\n",
    "            lyman.append(wavelength)\n",
    "\n",
    "        elif n_1 == 2:\n",
    "            balmer.append(wavelength)\n",
    "\n",
    "        else:\n",
    "            paschen.append(wavelength)\n",
    "\n",
    "print(lyman)\n",
    "print(balmer)\n",
    "print(paschen)"
   ]
  },
  {
   "cell_type": "code",
   "execution_count": null,
   "id": "9fb5cb40-73bd-4067-8788-6fb4fc8aef7f",
   "metadata": {},
   "outputs": [],
   "source": []
  }
 ],
 "metadata": {
  "kernelspec": {
   "display_name": "Python 3 (ipykernel)",
   "language": "python",
   "name": "python3"
  },
  "language_info": {
   "codemirror_mode": {
    "name": "ipython",
    "version": 3
   },
   "file_extension": ".py",
   "mimetype": "text/x-python",
   "name": "python",
   "nbconvert_exporter": "python",
   "pygments_lexer": "ipython3",
   "version": "3.12.0"
  }
 },
 "nbformat": 4,
 "nbformat_minor": 5
}
