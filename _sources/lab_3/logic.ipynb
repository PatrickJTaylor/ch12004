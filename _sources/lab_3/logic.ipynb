{
 "cells": [
  {
   "cell_type": "markdown",
   "id": "54ba5672-3343-4ed1-b867-f922c386be37",
   "metadata": {},
   "source": [
    "# Logic"
   ]
  },
  {
   "cell_type": "markdown",
   "id": "ac076c03-724f-44b5-9dba-bac2a30599e2",
   "metadata": {},
   "source": [
    "You may remember that in our [first lab](../lab_1/types.ipynb) we came across **boolean** data:"
   ]
  },
  {
   "cell_type": "code",
   "execution_count": 1,
   "id": "6834b3b1-117c-4359-9309-81e1fb2460e8",
   "metadata": {},
   "outputs": [
    {
     "data": {
      "text/plain": [
       "bool"
      ]
     },
     "execution_count": 1,
     "metadata": {},
     "output_type": "execute_result"
    }
   ],
   "source": [
    "type(True)"
   ]
  },
  {
   "cell_type": "code",
   "execution_count": 2,
   "id": "0056aeda-65b5-415e-8258-da73bcc9b448",
   "metadata": {},
   "outputs": [
    {
     "data": {
      "text/plain": [
       "bool"
      ]
     },
     "execution_count": 2,
     "metadata": {},
     "output_type": "execute_result"
    }
   ],
   "source": [
    "type(False)"
   ]
  },
  {
   "cell_type": "markdown",
   "id": "28cd7092-686d-437f-a0ca-d237b1356154",
   "metadata": {},
   "source": [
    "`True` and `False` are **reserved keywords** that represent **logical** values."
   ]
  },
  {
   "cell_type": "markdown",
   "id": "53539124-cc57-4957-b06d-9c76b050956f",
   "metadata": {},
   "source": [
    "## Logical operators"
   ]
  },
  {
   "cell_type": "markdown",
   "id": "5437665e-a282-40d7-90b8-b1861bfc6e8e",
   "metadata": {},
   "source": [
    "Back in [lab 1](../lab_1/using_python_as_a_calculator.ipynb), we became familiar with the basic mathematical operators: `+`, `-`, `*`, `/`, `**` etc. Python also provides us with a suite of **logical** operators that evaluate whether a given expression is `True` or `False`.\n",
    "\n",
    "The simplest example is the `==` operator:"
   ]
  },
  {
   "cell_type": "code",
   "execution_count": 3,
   "id": "1d405ce8-ba2c-4516-9e39-9b81deacd23a",
   "metadata": {},
   "outputs": [
    {
     "data": {
      "text/plain": [
       "True"
      ]
     },
     "execution_count": 3,
     "metadata": {},
     "output_type": "execute_result"
    }
   ],
   "source": [
    "5 == 5"
   ]
  },
  {
   "cell_type": "code",
   "execution_count": 4,
   "id": "f8f36f35-1b74-4be2-aef5-d66917b848a8",
   "metadata": {},
   "outputs": [
    {
     "data": {
      "text/plain": [
       "False"
      ]
     },
     "execution_count": 4,
     "metadata": {},
     "output_type": "execute_result"
    }
   ],
   "source": [
    "5 == 6"
   ]
  },
  {
   "cell_type": "markdown",
   "id": "5add839e-d840-42ec-bbfc-fd9f4a5b56ee",
   "metadata": {},
   "source": [
    "This operator tests whether or not the values on either side are **equal** to one another. The examples above are somewhat trivial, but we could use the same syntax with variables:"
   ]
  },
  {
   "cell_type": "code",
   "execution_count": 5,
   "id": "eb6785ba-8897-4b04-ab8f-9be3699cac68",
   "metadata": {},
   "outputs": [
    {
     "data": {
      "text/plain": [
       "True"
      ]
     },
     "execution_count": 5,
     "metadata": {},
     "output_type": "execute_result"
    }
   ],
   "source": [
    "a = 5\n",
    "b = 6\n",
    "\n",
    "c = a * b\n",
    "\n",
    "c == 30"
   ]
  },
  {
   "cell_type": "markdown",
   "id": "d9d12f9f-7ed5-40d1-8acf-cd16f5779ef4",
   "metadata": {},
   "source": [
    "```{warning}\n",
    "It is **very easy** to confuse the \"equals to\" operator `==` with the **assignment** operator `=`, but they serve very different purposes. The `=` operator **assigns** the value or the right hand side to the variable name on the left, whilst the `==` operator is **comparing** the values on either side to see whether or not they are **equal** to one another.\n",
    "\n",
    "In short, `a = 2` means \"I am telling you that `a` **is** equal to `2`\", whereas `a == 2` means \"Is `a` equal to `2`?\"\n",
    "```\n",
    "\n",
    "Rather than testing whether or not two values are **equal** to one another, we can also test the exact opposite: whether or not two values are **not equal** to one another:"
   ]
  },
  {
   "cell_type": "code",
   "execution_count": 6,
   "id": "0f82347e-17af-442f-9da9-84e925a46860",
   "metadata": {},
   "outputs": [
    {
     "data": {
      "text/plain": [
       "True"
      ]
     },
     "execution_count": 6,
     "metadata": {},
     "output_type": "execute_result"
    }
   ],
   "source": [
    "5 != 6"
   ]
  },
  {
   "cell_type": "code",
   "execution_count": 7,
   "id": "be10dff7-9149-4066-ad73-f11dfc9662d8",
   "metadata": {},
   "outputs": [
    {
     "data": {
      "text/plain": [
       "False"
      ]
     },
     "execution_count": 7,
     "metadata": {},
     "output_type": "execute_result"
    }
   ],
   "source": [
    "5 != 5"
   ]
  },
  {
   "cell_type": "markdown",
   "id": "7d0420c9-b02b-4477-921c-8c334a420ebf",
   "metadata": {},
   "source": [
    "A set of these comparitive operators can be found in the table below."
   ]
  },
  {
   "cell_type": "markdown",
   "id": "3f4401b3-09c9-4026-8cb5-d3721f6c6053",
   "metadata": {},
   "source": [
    "|Condition|Mathematical Notation|Operator\n",
    "|---|---|---|\n",
    "|Equals|$=$|`==`|\n",
    "|Not equal to|$\\neq$|`!=`|\n",
    "|Less than|$<$|`<`|\n",
    "|Less than or equal to|$\\le$|`<=`|\n",
    "|Greater than|$>$|`>`|\n",
    "|Greater than or equal to|$\\ge$|`>=`|"
   ]
  },
  {
   "cell_type": "code",
   "execution_count": 8,
   "id": "4109a839-9116-43f0-9220-7d7269590d5f",
   "metadata": {},
   "outputs": [
    {
     "data": {
      "text/plain": [
       "True"
      ]
     },
     "execution_count": 8,
     "metadata": {},
     "output_type": "execute_result"
    }
   ],
   "source": [
    "5 < 6"
   ]
  },
  {
   "cell_type": "code",
   "execution_count": 9,
   "id": "01e9cfd3-4432-4403-99a4-00c9b01a9d6e",
   "metadata": {},
   "outputs": [
    {
     "data": {
      "text/plain": [
       "False"
      ]
     },
     "execution_count": 9,
     "metadata": {},
     "output_type": "execute_result"
    }
   ],
   "source": [
    "5 > 6"
   ]
  },
  {
   "cell_type": "markdown",
   "id": "ea47a238-97e8-4e79-9cdf-865999f53dc1",
   "metadata": {},
   "source": [
    "Just like the basic mathematical operations, these **logical** operators can cause errors if the **types** of the input data don't make any sense:"
   ]
  },
  {
   "cell_type": "code",
   "execution_count": 10,
   "id": "4a4dbbaa-d84f-4271-8cc7-ea9c76690363",
   "metadata": {},
   "outputs": [
    {
     "ename": "TypeError",
     "evalue": "'<=' not supported between instances of 'int' and 'str'",
     "output_type": "error",
     "traceback": [
      "\u001b[0;31m---------------------------------------------------------------------------\u001b[0m",
      "\u001b[0;31mTypeError\u001b[0m                                 Traceback (most recent call last)",
      "Cell \u001b[0;32mIn[10], line 1\u001b[0m\n\u001b[0;32m----> 1\u001b[0m \u001b[38;5;241;43m5\u001b[39;49m\u001b[43m \u001b[49m\u001b[38;5;241;43m<\u001b[39;49m\u001b[38;5;241;43m=\u001b[39;49m\u001b[43m \u001b[49m\u001b[38;5;124;43m'\u001b[39;49m\u001b[38;5;124;43mten\u001b[39;49m\u001b[38;5;124;43m'\u001b[39;49m\n",
      "\u001b[0;31mTypeError\u001b[0m: '<=' not supported between instances of 'int' and 'str'"
     ]
    }
   ],
   "source": [
    "5 <= 'ten'"
   ]
  },
  {
   "cell_type": "markdown",
   "id": "cdeadb85-b604-413c-9db0-cad7c15e9c0d",
   "metadata": {},
   "source": [
    "```{error}\n",
    "Here we get a **TypeError** because we are comparing an `int` and a `str` - we cannot compare the numerical value of an integer and a string!\n",
    "```"
   ]
  },
  {
   "cell_type": "markdown",
   "id": "8f1acdbc-af8e-49e0-9416-6c6dc5b0c485",
   "metadata": {},
   "source": [
    "In addition to the comparitive operators we have discussed so far, Python also allows us to test whether or not a given **element** can be found **in** a sequence:"
   ]
  },
  {
   "cell_type": "code",
   "execution_count": 11,
   "id": "1afbdb0c-0935-48a9-b5c8-e651102e2192",
   "metadata": {},
   "outputs": [
    {
     "data": {
      "text/plain": [
       "True"
      ]
     },
     "execution_count": 11,
     "metadata": {},
     "output_type": "execute_result"
    }
   ],
   "source": [
    "'Fe' in ['Cr', 'Mn', 'Fe', 'Co', 'Ni']"
   ]
  },
  {
   "cell_type": "markdown",
   "id": "46af534a-5667-46e2-af4b-580f6c6398b3",
   "metadata": {},
   "source": [
    "The example above uses a `list`, but we can also search for **letters** in a **string**:"
   ]
  },
  {
   "cell_type": "code",
   "execution_count": 12,
   "id": "25377e83-1e24-4ae2-a6a6-a5d02ff95630",
   "metadata": {},
   "outputs": [
    {
     "data": {
      "text/plain": [
       "True"
      ]
     },
     "execution_count": 12,
     "metadata": {},
     "output_type": "execute_result"
    }
   ],
   "source": [
    "'r' in 'Iron'"
   ]
  },
  {
   "cell_type": "code",
   "execution_count": 13,
   "id": "c501adfc-5a87-4c3e-bfe1-f4f7119d1cf0",
   "metadata": {},
   "outputs": [
    {
     "data": {
      "text/plain": [
       "False"
      ]
     },
     "execution_count": 13,
     "metadata": {},
     "output_type": "execute_result"
    }
   ],
   "source": [
    "'f' in 'Iron'"
   ]
  },
  {
   "cell_type": "markdown",
   "id": "3c6df1f1-8c83-4006-ad12-adddc0b94ef2",
   "metadata": {},
   "source": [
    "To perform the opposite test, we can use `not in` to see if a given element is **not** in a sequence:"
   ]
  },
  {
   "cell_type": "code",
   "execution_count": 14,
   "id": "07ecc86b-485f-4799-887b-982c15fcc198",
   "metadata": {},
   "outputs": [
    {
     "data": {
      "text/plain": [
       "False"
      ]
     },
     "execution_count": 14,
     "metadata": {},
     "output_type": "execute_result"
    }
   ],
   "source": [
    "'r' not in 'Iron'"
   ]
  },
  {
   "cell_type": "code",
   "execution_count": 15,
   "id": "1c9cf152-655c-4ff7-ac3c-dcbde40c5934",
   "metadata": {},
   "outputs": [
    {
     "data": {
      "text/plain": [
       "True"
      ]
     },
     "execution_count": 15,
     "metadata": {},
     "output_type": "execute_result"
    }
   ],
   "source": [
    "'f' not in 'Iron'"
   ]
  },
  {
   "cell_type": "markdown",
   "id": "9d55c0d6-344f-44da-a7cd-dfa4846b7522",
   "metadata": {},
   "source": [
    "### `and` and `or`"
   ]
  },
  {
   "cell_type": "markdown",
   "id": "ee383cc7-7461-4ba5-a05b-fb17be1a84fd",
   "metadata": {},
   "source": [
    "We now have the toolkit to evaluate basic **logical** statements:"
   ]
  },
  {
   "cell_type": "code",
   "execution_count": 16,
   "id": "966a1d5c-5e4f-48ce-b801-25bea487f8e9",
   "metadata": {},
   "outputs": [
    {
     "data": {
      "text/plain": [
       "False"
      ]
     },
     "execution_count": 16,
     "metadata": {},
     "output_type": "execute_result"
    }
   ],
   "source": [
    "favourite_colour = 'purple' # Assign 'purple' to favourite_colour\n",
    "\n",
    "favourite_colour == 'red' # Evaluate whether or not favourite_colour equals 'red'"
   ]
  },
  {
   "cell_type": "markdown",
   "id": "b7b408e1-43c0-4898-a1f6-17b500a6265f",
   "metadata": {},
   "source": [
    "Notice the comments, this example highlights nicely the difference between the `=` and `==` operators.\n",
    "\n",
    "What if we want to **combine** logical operators? For example, what if we want to know whether a number is greater than 4, but less than 10? We already know how to test these two conditions separately:"
   ]
  },
  {
   "cell_type": "code",
   "execution_count": 17,
   "id": "44ce9543-3ae7-4c1c-b0be-62478ff4ae90",
   "metadata": {},
   "outputs": [
    {
     "name": "stdout",
     "output_type": "stream",
     "text": [
      "True\n",
      "False\n"
     ]
    }
   ],
   "source": [
    "number = 11\n",
    "\n",
    "print(number > 4)\n",
    "print(number < 10)"
   ]
  },
  {
   "cell_type": "markdown",
   "id": "795478e5-064a-486d-be70-f19c7be390ae",
   "metadata": {},
   "source": [
    "In this example, $11$ is greater than $4$, so the first expression evaluates to `True`. $11$ is also greater than $10$ though, so the second expression evaluates to `False`. To combine these two logical operators, we can use the `and` keyword:"
   ]
  },
  {
   "cell_type": "code",
   "execution_count": 18,
   "id": "7ffb4a51-ccbd-4e5e-8774-7d2476b6f9a1",
   "metadata": {},
   "outputs": [
    {
     "data": {
      "text/plain": [
       "False"
      ]
     },
     "execution_count": 18,
     "metadata": {},
     "output_type": "execute_result"
    }
   ],
   "source": [
    "number > 4 and number < 10"
   ]
  },
  {
   "cell_type": "markdown",
   "id": "7fc030a6-04e4-4a02-9636-4f55c614a386",
   "metadata": {},
   "source": [
    "Now we get a single `bool`: `False`. The `and` keyword will only return `True` if both of the expressions on either side also evaluate to `True`. We have already seen that `number < 10` is `False`, hence the whole statement evaluates to `False`.\n",
    "\n",
    "Rather than `and` we can also combine logical expressions with the `or` keyword:"
   ]
  },
  {
   "cell_type": "code",
   "execution_count": 19,
   "id": "31ab6ac0-71ab-49ce-9f84-4d974329c617",
   "metadata": {},
   "outputs": [
    {
     "data": {
      "text/plain": [
       "True"
      ]
     },
     "execution_count": 19,
     "metadata": {},
     "output_type": "execute_result"
    }
   ],
   "source": [
    "number > 4 or number < 10"
   ]
  },
  {
   "cell_type": "markdown",
   "id": "0ec5cdbd-4b02-4fa5-8cdc-a5aefc46ea2f",
   "metadata": {},
   "source": [
    "Using the same expressions as before, we now find that by replacing `and` with `or`, the whole statement evaluates to `True`. The `or` keyword evalutes to `True` if **either** expression on either side is `True`.\n",
    "\n",
    "We can summarise these new keywords with some very simple examples:"
   ]
  },
  {
   "cell_type": "code",
   "execution_count": 20,
   "id": "0af6ce21-1b3d-41a9-b25b-5d3903bff7d8",
   "metadata": {},
   "outputs": [
    {
     "data": {
      "text/plain": [
       "True"
      ]
     },
     "execution_count": 20,
     "metadata": {},
     "output_type": "execute_result"
    }
   ],
   "source": [
    "True and True"
   ]
  },
  {
   "cell_type": "code",
   "execution_count": 21,
   "id": "c42de09f-cfdd-4f01-a1bd-7fadc9f460ab",
   "metadata": {},
   "outputs": [
    {
     "data": {
      "text/plain": [
       "False"
      ]
     },
     "execution_count": 21,
     "metadata": {},
     "output_type": "execute_result"
    }
   ],
   "source": [
    "True and False"
   ]
  },
  {
   "cell_type": "markdown",
   "id": "64afdae9-9266-4e06-822b-8e40ec2c536c",
   "metadata": {},
   "source": [
    "The `and` keyword only evalutes to `True` if **both** expressions either side of it are also `True`."
   ]
  },
  {
   "cell_type": "code",
   "execution_count": 22,
   "id": "73b43bf5-6504-404c-9894-5ca4ec46b598",
   "metadata": {},
   "outputs": [
    {
     "data": {
      "text/plain": [
       "True"
      ]
     },
     "execution_count": 22,
     "metadata": {},
     "output_type": "execute_result"
    }
   ],
   "source": [
    "True or True"
   ]
  },
  {
   "cell_type": "code",
   "execution_count": 23,
   "id": "0fd39555-c2d2-479b-b201-dac4cc7a31d3",
   "metadata": {},
   "outputs": [
    {
     "data": {
      "text/plain": [
       "True"
      ]
     },
     "execution_count": 23,
     "metadata": {},
     "output_type": "execute_result"
    }
   ],
   "source": [
    "True or False"
   ]
  },
  {
   "cell_type": "code",
   "execution_count": 24,
   "id": "ac82c6de-970a-4716-b756-18cef735e325",
   "metadata": {},
   "outputs": [
    {
     "data": {
      "text/plain": [
       "False"
      ]
     },
     "execution_count": 24,
     "metadata": {},
     "output_type": "execute_result"
    }
   ],
   "source": [
    "False or False"
   ]
  },
  {
   "cell_type": "markdown",
   "id": "03729d50-def2-4b18-abb6-4fb8e53011a3",
   "metadata": {},
   "source": [
    "The `or` keyword evalutes to `True` if **either** expression on either side of it are `True`."
   ]
  },
  {
   "cell_type": "markdown",
   "id": "31783e3f-2350-4f3a-8d28-a7c28aaeee03",
   "metadata": {},
   "source": [
    "## What `if`?"
   ]
  },
  {
   "cell_type": "markdown",
   "id": "83fb7b3f-1aaf-47b7-9413-6a700d97ca05",
   "metadata": {},
   "source": [
    "We now have the capability to test whether or not various expressions are `True` or `False` in Python - why should you care?\n",
    "\n",
    "Imagine you're playing a simple game with a friend. You think of a number between $1$ and $10000$, and then you ask your friend to try and guess that number. If your friend guesses correctly, you congratulate them on their frankly astonishing luck and joke that they might think about buying a lottery ticket. If your friend guesses incorrectly, you give them a pat on the back and wish them better luck the next time they play one of your silly games. Let's code this up in Python."
   ]
  },
  {
   "cell_type": "code",
   "execution_count": 25,
   "id": "af28a7e2-5925-4ce9-a4d5-df4ba1b836ed",
   "metadata": {},
   "outputs": [],
   "source": [
    "my_number = 1298\n",
    "success = 'Congratulations!'\n",
    "failure = 'Better luck next time!'"
   ]
  },
  {
   "cell_type": "markdown",
   "id": "62ba4e02-2ff8-450b-abb5-ab314d8bab9c",
   "metadata": {},
   "source": [
    "Here we've declared most of the variables that we will need, the `number` that you thought up in your head, and two responses: one for if your friend guesses correctly (`success`) and one for if they fall short (`failure`). Now let's say our imaginary friend guesses `1298`:"
   ]
  },
  {
   "cell_type": "code",
   "execution_count": 26,
   "id": "c7fc9e1c-9b02-4d9f-8087-4b719409e541",
   "metadata": {},
   "outputs": [],
   "source": [
    "friend_guess = 1298"
   ]
  },
  {
   "cell_type": "markdown",
   "id": "50056e37-25af-40fc-b073-9bcdb0bb40bd",
   "metadata": {},
   "source": [
    "We know how to verify if this guess is correct using **logical operators**:"
   ]
  },
  {
   "cell_type": "code",
   "execution_count": 27,
   "id": "af4ae2c8-0049-4fd0-92fe-06dcc18ade61",
   "metadata": {},
   "outputs": [
    {
     "data": {
      "text/plain": [
       "True"
      ]
     },
     "execution_count": 27,
     "metadata": {},
     "output_type": "execute_result"
    }
   ],
   "source": [
    "friend_guess == my_number"
   ]
  },
  {
   "cell_type": "markdown",
   "id": "552c8aa8-48ae-4ba9-92f5-bb56326e7028",
   "metadata": {},
   "source": [
    "Sure enough, my hypothetical friend's luck is just **wild**. In this case, I want to `print` the `success` variable:"
   ]
  },
  {
   "cell_type": "code",
   "execution_count": 28,
   "id": "11d22cc5-83b8-433e-9a2a-5b9a813e8f9a",
   "metadata": {},
   "outputs": [
    {
     "name": "stdout",
     "output_type": "stream",
     "text": [
      "Congratulations!\n"
     ]
    }
   ],
   "source": [
    "print(success)"
   ]
  },
  {
   "cell_type": "markdown",
   "id": "763b1c58-a2b8-492f-90de-13557eb155b1",
   "metadata": {},
   "source": [
    "The decision making process we just went through manually can be written programmatically with an `if` statement:"
   ]
  },
  {
   "cell_type": "code",
   "execution_count": 29,
   "id": "022140ec-dd32-4030-888d-d416289e12b5",
   "metadata": {},
   "outputs": [
    {
     "name": "stdout",
     "output_type": "stream",
     "text": [
      "Congratulations!\n"
     ]
    }
   ],
   "source": [
    "if friend_guess == my_number:\n",
    "    print(success)"
   ]
  },
  {
   "cell_type": "markdown",
   "id": "6619112c-1e61-44c3-a51a-4237a63d9869",
   "metadata": {},
   "source": [
    "An `if` statement can be used to make code **conditional**. In the example above, the `success` variable is only printed **if** `friend_guess` is equal to `my_number`. This can be written generically as:\n",
    "\n",
    "```python\n",
    "if this_expression_evaluates_to_true:\n",
    "    do_something\n",
    "```\n",
    "\n",
    "If the expression following the `if` keyword evaluates to `False`, then the code indented beneath **will not run**. If we want to specify what should happen in this case, we can use the `else` keyword:"
   ]
  },
  {
   "cell_type": "code",
   "execution_count": 30,
   "id": "1899d8a4-7fc1-4a4c-977f-3145cd39ee13",
   "metadata": {},
   "outputs": [
    {
     "name": "stdout",
     "output_type": "stream",
     "text": [
      "Better luck next time!\n"
     ]
    }
   ],
   "source": [
    "friend_guess = 2525\n",
    "\n",
    "if friend_guess == my_number:\n",
    "    print(success)\n",
    "\n",
    "else:\n",
    "    print(failure)"
   ]
  },
  {
   "cell_type": "markdown",
   "id": "7fc4e862-604d-4d91-9976-75e6d5e9cf87",
   "metadata": {},
   "source": [
    "Here we have changed `friend_guess` to a different number, so `friend_guess == my_number` is now `False` and `print(success)` does not run. If the expression associated with an `if` statement is `False`, then the following `else` block will run instead, here printing the `failure` message.\n",
    "\n",
    "Switching to a much less contrived example, sometimes we want to test more than one condition in an `if` statement:"
   ]
  },
  {
   "cell_type": "code",
   "execution_count": 31,
   "id": "f7ff16de-20ba-49d1-8bbc-e2d66e1b5a1b",
   "metadata": {},
   "outputs": [
    {
     "name": "stdout",
     "output_type": "stream",
     "text": [
      "25 is less than 30 and divisible by 5.\n"
     ]
    }
   ],
   "source": [
    "a = 25\n",
    "\n",
    "if a < 30 and a % 5 == 0:\n",
    "    print(f'{a} is less than 30 and divisible by 5.')"
   ]
  },
  {
   "cell_type": "markdown",
   "id": "52fb54d6-edc0-46b3-b6c0-e2bda773dd2f",
   "metadata": {},
   "source": [
    "```{admonition} Reminder\n",
    "The **modulo** operator `%` computes the remainder after dividing one number by another.\n",
    "```\n",
    "\n",
    "We can do this, as shown above, by using the `and` and `or` keywords described previously. But what if we want to `print` a different message if `a` is less than $30$ but **not** divisible by $5$?"
   ]
  },
  {
   "cell_type": "code",
   "execution_count": 32,
   "id": "209dd121-c79d-416c-8c6b-7cadac0825f4",
   "metadata": {},
   "outputs": [
    {
     "name": "stdout",
     "output_type": "stream",
     "text": [
      "26 is less than 30 but not divisible by 5.\n"
     ]
    }
   ],
   "source": [
    "a = 26\n",
    "\n",
    "if a < 30 and a % 5 == 0:\n",
    "    print('25 is less than 30 and divisible by 5.')\n",
    "\n",
    "elif a < 30:\n",
    "    print(f'{a} is less than 30 but not divisible by 5.')"
   ]
  },
  {
   "cell_type": "markdown",
   "id": "5c8a6cbd-67e0-4ccb-a6b6-7c592085de12",
   "metadata": {},
   "source": [
    "Here we have introduced an `elif` (\"else-if\") statement. Our code firstly checks if `a` is less than $30$ `and` divisible by $5$. Failing that, we then perform a **second check** to see whether `a` is less than $30$. In this example, the statement after the `elif` keyword evalutes to `True`, so that block of code runs.\n",
    "\n",
    "We can add an additional `elif` block to account for another possibility:"
   ]
  },
  {
   "cell_type": "code",
   "execution_count": 33,
   "id": "5f45590e-470c-4dba-81a0-66a37b70d1e7",
   "metadata": {},
   "outputs": [
    {
     "name": "stdout",
     "output_type": "stream",
     "text": [
      "35 is greater than 30 but divisible by 5.\n"
     ]
    }
   ],
   "source": [
    "a = 35\n",
    "\n",
    "if a < 30 and a % 5 == 0:\n",
    "    print('25 is less than 30 and divisible by 5.')\n",
    "\n",
    "elif a < 30:\n",
    "    print(f'{a} is less than 30 but not divisible by 5.')\n",
    "\n",
    "elif a % 5 == 0:\n",
    "    print(f'{a} is greater than 30 but divisible by 5.')"
   ]
  },
  {
   "cell_type": "markdown",
   "id": "23637df4-b2e1-4a15-85f9-29b9ff2600f5",
   "metadata": {},
   "source": [
    "And finally, we can add an `else` block to cover the only other reasonable possibility:"
   ]
  },
  {
   "cell_type": "code",
   "execution_count": 34,
   "id": "e63c5a05-87ac-4ebd-ba5b-8d0a13b310c3",
   "metadata": {},
   "outputs": [
    {
     "name": "stdout",
     "output_type": "stream",
     "text": [
      "37 is greater than 30 and is not divisible by 5.\n"
     ]
    }
   ],
   "source": [
    "a = 37\n",
    "\n",
    "if a < 30 and a % 5 == 0:\n",
    "    print('25 is less than 30 and divisible by 5.')\n",
    "\n",
    "elif a < 30:\n",
    "    print(f'{a} is less than 30 but not divisible by 5.')\n",
    "\n",
    "elif a % 5 == 0:\n",
    "    print(f'{a} is greater than 30 but divisible by 5.')\n",
    "\n",
    "else:\n",
    "    print(f'{a} is greater than 30 and is not divisible by 5.')"
   ]
  },
  {
   "cell_type": "markdown",
   "id": "6eaac558-7e71-4b2a-82ea-35de990eb849",
   "metadata": {},
   "source": [
    "We are thus able to make our code run differently depending on the value of `a`. "
   ]
  },
  {
   "cell_type": "markdown",
   "id": "9c93052d-0315-4d0b-92f1-bc8e51d3f0f7",
   "metadata": {},
   "source": [
    "## Combining loops and logic"
   ]
  },
  {
   "cell_type": "markdown",
   "id": "eb2f6d78-9e83-4f9a-b257-6cfedf489b0a",
   "metadata": {},
   "source": [
    "All of our examples so far have been relatively simple individual logical statements, but there is no reason that we cannot apply logical operations in **loops**:"
   ]
  },
  {
   "cell_type": "code",
   "execution_count": 37,
   "id": "a289bcaa-086f-4f54-9af9-d94fdeec5cfc",
   "metadata": {},
   "outputs": [
    {
     "name": "stdout",
     "output_type": "stream",
     "text": [
      "3 is divisible by 3.\n",
      "6 is divisible by 3.\n",
      "9 is divisible by 3.\n",
      "12 is divisible by 3.\n",
      "15 is divisible by 3.\n",
      "18 is divisible by 3.\n",
      "21 is divisible by 3.\n"
     ]
    }
   ],
   "source": [
    "for number in range(1, 22):\n",
    "    if number % 3 == 0:\n",
    "        print(f'{number} is divisible by 3.')"
   ]
  },
  {
   "cell_type": "markdown",
   "id": "9f03e276-1d8f-4876-9927-d7005a27fba1",
   "metadata": {},
   "source": [
    "Here we have combined a simple `if` statement with a `for` loop to find all of the multiples of $3$ between $1$ and $21$.\n",
    "\n",
    "In addition to all the **logic** we have learnt about thus far, there are two useful **keywords** that are relevant specifically to using logic in **loops**."
   ]
  },
  {
   "cell_type": "code",
   "execution_count": 40,
   "id": "55b7ab6a-3d95-4eb5-807f-4fc9f90db70a",
   "metadata": {},
   "outputs": [
    {
     "name": "stdout",
     "output_type": "stream",
     "text": [
      "1\n",
      "2\n",
      "3\n",
      "4\n",
      "5\n",
      "6\n",
      "7\n",
      "8\n",
      "9\n",
      "10\n",
      "We have broken out of the loop!\n"
     ]
    }
   ],
   "source": [
    "for number in range(1, 101):\n",
    "    if number > 10:\n",
    "        break\n",
    "\n",
    "    print(number)\n",
    "\n",
    "print('We have broken out of the loop!')"
   ]
  },
  {
   "cell_type": "markdown",
   "id": "c93660b1-661b-4d3c-98f6-45ad0e6910bd",
   "metadata": {},
   "source": [
    "In the example above, we are looping over numbers between $1$ and $100$. The `if` statement checks if `number` is greater than $10$, and if it is, the `break` keyword is run. As the name implies, the `break` keyword breaks us out of the loop: it stop the rest of the iterations that would otherwise have run from occurring. You can see this happening above because as soon as `10` is printed, no more numbers are displayed and instead the `'We have broken out of the loop!'` message is seen, which should only be printed **after** the loop has finished.\n",
    "\n",
    "The other keyword that pairs nicely with the logic we have learnt is `continue`:"
   ]
  },
  {
   "cell_type": "code",
   "execution_count": 43,
   "id": "d5cf2a3c-74d5-45e1-bce6-ddd751c47ac7",
   "metadata": {},
   "outputs": [
    {
     "name": "stdout",
     "output_type": "stream",
     "text": [
      "5\n",
      "10\n",
      "15\n",
      "20\n",
      "25\n",
      "30\n",
      "35\n",
      "40\n",
      "45\n",
      "50\n",
      "55\n",
      "60\n",
      "65\n",
      "70\n",
      "75\n",
      "80\n",
      "85\n",
      "90\n",
      "95\n",
      "100\n"
     ]
    }
   ],
   "source": [
    "for number in range(1, 101):\n",
    "    if number % 5 != 0:\n",
    "        continue\n",
    "\n",
    "    print(number)"
   ]
  },
  {
   "cell_type": "markdown",
   "id": "755ce58b-4393-4eca-91ef-3594bfa81caa",
   "metadata": {},
   "source": [
    "Here we are testing whether or not `number` is **not** divisible by `5`. If `number` **is** divisible by `5`, then the `continue` keyword does not run and we `print` the `number`. If the `number` is **not** divisible by `5`, then the `continue` keyword is run and this **immediately skips us to the next iteration of the loop**. The end result is that `print(number)` only runs if `number` is a multiple of `5`.\n",
    "\n",
    "So, to summarise:\n",
    "\n",
    "`break` - When this runs, we exit the loop immediately.\n",
    "\n",
    "`continue` - When this runs, we skip the rest of the code in the loop and immediately skip to its next iteration."
   ]
  },
  {
   "cell_type": "markdown",
   "id": "24c99335-beb2-41f4-babb-726850e561ae",
   "metadata": {},
   "source": [
    "## Exercise"
   ]
  },
  {
   "cell_type": "markdown",
   "id": "88977151-418a-4670-9aee-076cc0c6f6db",
   "metadata": {},
   "source": [
    "**1.** \n",
    "\n",
    "a) Write a program that can tell whether or not a word has any **vowels** in it.\n",
    "\n",
    "b) Extend your program by checking if the word contains no vowels **and** does not contain the letter `t`.\n",
    "\n",
    "**2.** Imagine that you are playing \"[Rock, Paper, Scissors](https://en.wikipedia.org/wiki/Rock_paper_scissors)\" with a friend - they have (unbeknownst to you) picked **rock**.\n",
    "\n",
    "Write some Python to decide who wins depending upon **your** weapon of choice."
   ]
  },
  {
   "cell_type": "code",
   "execution_count": null,
   "id": "fc87def5-df03-4c0e-82d7-b0ec19e2e6bd",
   "metadata": {},
   "outputs": [],
   "source": []
  }
 ],
 "metadata": {
  "kernelspec": {
   "display_name": "Python 3 (ipykernel)",
   "language": "python",
   "name": "python3"
  },
  "language_info": {
   "codemirror_mode": {
    "name": "ipython",
    "version": 3
   },
   "file_extension": ".py",
   "mimetype": "text/x-python",
   "name": "python",
   "nbconvert_exporter": "python",
   "pygments_lexer": "ipython3",
   "version": "3.12.0"
  }
 },
 "nbformat": 4,
 "nbformat_minor": 5
}
