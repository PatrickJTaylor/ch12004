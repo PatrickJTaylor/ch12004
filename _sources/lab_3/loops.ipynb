{
 "cells": [
  {
   "cell_type": "markdown",
   "id": "eed9d9d1-7307-4b61-a618-299f83c578b4",
   "metadata": {},
   "source": [
    "# Loops"
   ]
  },
  {
   "cell_type": "markdown",
   "id": "700982ea-67f5-42ba-b73f-4fe4f52cb2d7",
   "metadata": {},
   "source": [
    "In [lab 2](../lab_2/lists.ipynb) we were introduced to **data structures** like **lists**, **tuples** and **dictionaries**. These **collections** allowed us to group multiple pieces of data together:"
   ]
  },
  {
   "cell_type": "code",
   "execution_count": 1,
   "id": "4d534ee0-5b78-46fd-9a13-c7ed2c0f8929",
   "metadata": {},
   "outputs": [],
   "source": [
    "temperatures = [200, 220, 240, 260, 280, 300, 320, 340, 360, 380, 400]"
   ]
  },
  {
   "cell_type": "markdown",
   "id": "44989ccc-62ca-4db6-9252-53d76f52d64d",
   "metadata": {},
   "source": [
    "Often, we would like to perform the same calculation on every **element** of a list. With reference to the example above, let's imagine that we require the **square** of the temperatures ($T^{2}$):"
   ]
  },
  {
   "cell_type": "code",
   "execution_count": 2,
   "id": "44117f12-1e8b-4d2e-a9c4-33b7b4607a39",
   "metadata": {},
   "outputs": [
    {
     "name": "stdout",
     "output_type": "stream",
     "text": [
      "[40000, 48400, 57600, 67600, 78400, 90000, 102400, 115600, 129600, 144400, 160000]\n"
     ]
    }
   ],
   "source": [
    "squared_temperatures = [temperatures[0] ** 2, \n",
    "                        temperatures[1] ** 2, \n",
    "                        temperatures[2] ** 2, \n",
    "                        temperatures[3] ** 2, \n",
    "                        temperatures[4] ** 2, \n",
    "                        temperatures[5] ** 2, \n",
    "                        temperatures[6] ** 2, \n",
    "                        temperatures[7] ** 2, \n",
    "                        temperatures[8] ** 2, \n",
    "                        temperatures[9] ** 2, \n",
    "                        temperatures[10] ** 2]\n",
    "\n",
    "print(squared_temperatures)"
   ]
  },
  {
   "cell_type": "markdown",
   "id": "d8ebc227-145d-4b94-9d6a-dfa6ce3449ca",
   "metadata": {},
   "source": [
    "This code will run and does indeed calculate the reciprocal temperatures from our original `temperatures` list, but it is hardly the cleanest approach. For one thing, this method is not **scalable**, here we have $11$ temperatures - what if we had 1000? Moreover, this code is very **error-prone**, it would be very easy for a small typo in one line to cause a problem further down the line e.g. what if we accidentally used the wrong **index** for one of the temperatures?"
   ]
  },
  {
   "cell_type": "markdown",
   "id": "93901b13-5e06-48ab-b607-9b8918b04812",
   "metadata": {},
   "source": [
    "## `for` loops"
   ]
  },
  {
   "cell_type": "markdown",
   "id": "b8387c97-b5eb-424d-974d-a7f030742980",
   "metadata": {},
   "source": [
    "A better approach to the problem outlined above is to use **loops**."
   ]
  },
  {
   "cell_type": "code",
   "execution_count": 3,
   "id": "898df3d7-757f-40cb-acf5-f4ec0da680af",
   "metadata": {},
   "outputs": [
    {
     "name": "stdout",
     "output_type": "stream",
     "text": [
      "40000\n",
      "48400\n",
      "57600\n",
      "67600\n",
      "78400\n",
      "90000\n",
      "102400\n",
      "115600\n",
      "129600\n",
      "144400\n",
      "160000\n"
     ]
    }
   ],
   "source": [
    "for T in temperatures:\n",
    "    print(T ** 2)"
   ]
  },
  {
   "cell_type": "markdown",
   "id": "145f9928-79f1-4482-83b5-0fbd066176de",
   "metadata": {},
   "source": [
    "Let's unpack this code. The output matches our previous attempt to calculate the squared temperatures, so clearly this approach is ultimately doing the same thing: calculating $T^{2}$ for each temperature in our `list` of `temperatures`. This is an example of a **loop**, or more specifically a `for` **loop**. As the name suggests, a `for` loop allows us to **loop** over every **element** of a list and to do something `for` each one. The general syntax reads something like:\n",
    "\n",
    "```python\n",
    "for item in iterable:\n",
    "    do_something_with_each_item\n",
    "```\n",
    "\n",
    "An **iterable** is simply any object that can be **iterated** i.e. it contains a sequence of items that can be accessed one after another. In our example, the `temperatures` list is our **iterable**: it is a sequence of numbers that can be iterated through in a logical order.\n",
    "\n",
    "Okay, so the first line in our loop example is: `for T in temperatures`. As we just discussed, `temperatures` is our **iterable**, so the latter part of this line (`in temperatures`) reads as \"We are going to loop through each element of the `temperatures` list\". The former part of the line (`for T`) tells us that at each iteration of the loop, we will **assign** the next item in `temperatures` to the variable `T`.\n",
    "\n",
    "After ending the first line with a colon `:`, the second line is **indented** beneath. This **indentation** is usually achieved with either **four spaces** (just pressing the spacebar four times) or a single **tab** character (just pressing the **tab** key once). The second line describes **what we would like to do** with each element of our iterable. In our example, each element is a temperature from the `temperatures` list, which is assigned to the variable `T` at each iteration of the loop. We would like to calculate the **squared** temperature, so we print `T ** 2`.\n",
    "\n",
    "So, to summarise, at the first iteration of our loop, `T` is assigned to the first element of `temperatures`:\n",
    "\n",
    "```python\n",
    "T = temperatures[0]\n",
    "```\n",
    "\n",
    "Then the second line runs:\n",
    "\n",
    "```python\n",
    "print(T ** 2)\n",
    "```\n",
    "\n",
    "Then we reach the second iteration of the loop, so `T` is assigned to the **next** element of `temperatures`:\n",
    "\n",
    "```python\n",
    "T = temperatures[1]\n",
    "```\n",
    "\n",
    "And so on and so forth. The variable assignements as written above are **implicit** in the general syntax of a `for` loop.\n",
    "\n",
    "To run more code **after** the loop has been completed, we remove the **indent**:"
   ]
  },
  {
   "cell_type": "code",
   "execution_count": 4,
   "id": "1fee00b6-81f3-43c5-bb9e-13a867482277",
   "metadata": {},
   "outputs": [
    {
     "name": "stdout",
     "output_type": "stream",
     "text": [
      "Still in the loop.\n",
      "40000\n",
      "Still in the loop.\n",
      "48400\n",
      "Still in the loop.\n",
      "57600\n",
      "Still in the loop.\n",
      "67600\n",
      "Still in the loop.\n",
      "78400\n",
      "Still in the loop.\n",
      "90000\n",
      "Still in the loop.\n",
      "102400\n",
      "Still in the loop.\n",
      "115600\n",
      "Still in the loop.\n",
      "129600\n",
      "Still in the loop.\n",
      "144400\n",
      "Still in the loop.\n",
      "160000\n",
      "The loop has now finished!\n"
     ]
    }
   ],
   "source": [
    "for T in temperatures:\n",
    "    print('Still in the loop.')\n",
    "    print(T ** 2)\n",
    "print('The loop has now finished!')"
   ]
  },
  {
   "cell_type": "markdown",
   "id": "65925383-2d16-4844-ab8c-ab75eb5b2c05",
   "metadata": {},
   "source": [
    "All of our code so far uses the `print` function to display the reciprocal temperature for each element of `temperatures`. This is not quite the same as the problem we originally posed, which was to create a new **list** of squared temperatures. We can replicate this functionality by taking advantage of an **empty list**:"
   ]
  },
  {
   "cell_type": "code",
   "execution_count": 5,
   "id": "c26dffac-fdc4-4364-86c9-bf56a247f465",
   "metadata": {},
   "outputs": [
    {
     "name": "stdout",
     "output_type": "stream",
     "text": [
      "[40000, 48400, 57600, 67600, 78400, 90000, 102400, 115600, 129600, 144400, 160000]\n"
     ]
    }
   ],
   "source": [
    "squared_temperatures = []\n",
    "\n",
    "for T in temperatures:\n",
    "    squared_temperatures.append(T ** 2)\n",
    "\n",
    "print(squared_temperatures)"
   ]
  },
  {
   "cell_type": "markdown",
   "id": "a052ce2c-8566-45b1-804b-02522ee37f96",
   "metadata": {},
   "source": [
    "Here the first line creates an **empty list** by using a set of square brackets with nothing in them `[]`. We then use the `append` method to fill this list with the squared temperatures generated by our loop. We can see this happening more clearly by moving the `print` statement **inside** the loop: "
   ]
  },
  {
   "cell_type": "code",
   "execution_count": 6,
   "id": "ae0447b4-3ab9-45ef-a649-e0f4fc2df3ab",
   "metadata": {},
   "outputs": [
    {
     "name": "stdout",
     "output_type": "stream",
     "text": [
      "[40000]\n",
      "[40000, 48400]\n",
      "[40000, 48400, 57600]\n",
      "[40000, 48400, 57600, 67600]\n",
      "[40000, 48400, 57600, 67600, 78400]\n",
      "[40000, 48400, 57600, 67600, 78400, 90000]\n",
      "[40000, 48400, 57600, 67600, 78400, 90000, 102400]\n",
      "[40000, 48400, 57600, 67600, 78400, 90000, 102400, 115600]\n",
      "[40000, 48400, 57600, 67600, 78400, 90000, 102400, 115600, 129600]\n",
      "[40000, 48400, 57600, 67600, 78400, 90000, 102400, 115600, 129600, 144400]\n",
      "[40000, 48400, 57600, 67600, 78400, 90000, 102400, 115600, 129600, 144400, 160000]\n"
     ]
    }
   ],
   "source": [
    "squared_temperatures = []\n",
    "\n",
    "for T in temperatures:\n",
    "    squared_temperatures.append(T ** 2)\n",
    "    print(squared_temperatures)"
   ]
  },
  {
   "cell_type": "markdown",
   "id": "15def50b-d13f-4aaf-8ace-71b30aa123b0",
   "metadata": {},
   "source": [
    "Hopefully it is apparent why this solution is superior to what we started with originally. We can **scale** this loop as much as we would like, it would work in just the same way whether our `temperatures` list has 11 elements or 1000!"
   ]
  },
  {
   "cell_type": "markdown",
   "id": "036a5839-faa5-44f3-afdc-d338898ab1d2",
   "metadata": {},
   "source": [
    "## Keeping track of iterations"
   ]
  },
  {
   "cell_type": "markdown",
   "id": "a06f26c6-410e-4bd6-8078-bd42323c8f86",
   "metadata": {},
   "source": [
    "In our previous examples we have made frequent references to which **iteration** of a loop we are currently on/in. Let's look at a simple toy example:"
   ]
  },
  {
   "cell_type": "code",
   "execution_count": 7,
   "id": "4a045449-c588-4c1d-b3b1-9fe3ed4fdec2",
   "metadata": {},
   "outputs": [
    {
     "name": "stdout",
     "output_type": "stream",
     "text": [
      "5\n",
      "10\n",
      "15\n",
      "20\n",
      "25\n"
     ]
    }
   ],
   "source": [
    "some_numbers = (5, 10, 15, 20, 25)\n",
    "\n",
    "for number in some_numbers:\n",
    "    print(number)"
   ]
  },
  {
   "cell_type": "markdown",
   "id": "afbf028e-bbfb-49f3-9d37-a094340f071c",
   "metadata": {},
   "source": [
    "Here we are looping through a `tuple` of $5$ numbers: the first $5$ multiples of $5$. Given that there are $5$ elements in `some_numbers`, the `for` loop goes through $5$ iterations: one for each element of `some_numbers`. What if we want to keep track of which iteration the loop is on? One solution would be to utilise an additional variable:"
   ]
  },
  {
   "cell_type": "code",
   "execution_count": 8,
   "id": "f120275d-723f-4fe3-a266-f411f9a407d8",
   "metadata": {},
   "outputs": [
    {
     "name": "stdout",
     "output_type": "stream",
     "text": [
      "This is iteration #1\n",
      "5\n",
      "This is iteration #2\n",
      "10\n",
      "This is iteration #3\n",
      "15\n",
      "This is iteration #4\n",
      "20\n",
      "This is iteration #5\n",
      "25\n"
     ]
    }
   ],
   "source": [
    "some_numbers = (5, 10, 15, 20, 25)\n",
    "\n",
    "iteration_count = 1\n",
    "\n",
    "for number in some_numbers:\n",
    "    print(f'This is iteration #{iteration_count}')\n",
    "    print(number)\n",
    "\n",
    "    iteration_count = iteration_count + 1"
   ]
  },
  {
   "cell_type": "markdown",
   "id": "4baca36a-fbd2-43b4-bea8-33740d43a254",
   "metadata": {},
   "source": [
    "Here we create a variable `iteration_count` and assign it a value of $1$. We then print the value of this variable on every iteration of the loop. We also increment the value of this variable within each loop, so that it effectively tracks which iteration we are currently on. Note that, just like the example in [lab 1](../lab_1/variables.ipynb), we can abbreviate the last line as follows:"
   ]
  },
  {
   "cell_type": "code",
   "execution_count": 9,
   "id": "dd18f5b2-f2a7-45b0-83d6-62980af91e11",
   "metadata": {},
   "outputs": [
    {
     "name": "stdout",
     "output_type": "stream",
     "text": [
      "This is iteration #1\n",
      "5\n",
      "This is iteration #2\n",
      "10\n",
      "This is iteration #3\n",
      "15\n",
      "This is iteration #4\n",
      "20\n",
      "This is iteration #5\n",
      "25\n"
     ]
    }
   ],
   "source": [
    "some_numbers = (5, 10, 15, 20, 25)\n",
    "\n",
    "iteration_count = 1\n",
    "\n",
    "for number in some_numbers:\n",
    "    print(f'This is iteration #{iteration_count}')\n",
    "    print(number)\n",
    "\n",
    "    iteration_count += 1"
   ]
  },
  {
   "cell_type": "markdown",
   "id": "2d140b24-cdf4-491c-823b-4633024031cc",
   "metadata": {},
   "source": [
    "This approach works just fine, but it's a bit of a faff to declare and update a new variable every time we want to run a loop and keep track of each iteration. Python provides us with a convenient built-in function to get around this problem: the `enumerate` function."
   ]
  },
  {
   "cell_type": "code",
   "execution_count": 10,
   "id": "13cbf4b4-7881-4239-b9ac-5572bebcab2c",
   "metadata": {},
   "outputs": [
    {
     "name": "stdout",
     "output_type": "stream",
     "text": [
      "This is iteration #0\n",
      "5\n",
      "This is iteration #1\n",
      "10\n",
      "This is iteration #2\n",
      "15\n",
      "This is iteration #3\n",
      "20\n",
      "This is iteration #4\n",
      "25\n"
     ]
    }
   ],
   "source": [
    "some_numbers = (5, 10, 15, 20, 25)\n",
    "\n",
    "for iteration_count, number in enumerate(some_numbers):\n",
    "    print(f'This is iteration #{iteration_count}')\n",
    "    print(number)"
   ]
  },
  {
   "cell_type": "markdown",
   "id": "98ccfbec-0ab4-4a34-a5e0-3322b7c48ecd",
   "metadata": {},
   "source": [
    "This code gives us almost exactly same result as our previous effort, but without the need for the manual declaration of a new variable. The difference is that here the iterations are counted starting from **zero**, just like `list` indices. \n",
    "\n",
    "The `enumerate` function pairs each value of a given iterable with an index. In our example above, we start with our `tuple` of numbers:\n",
    "\n",
    "```python\n",
    "some_numbers = (5, 10, 15, 20, 25)\n",
    "```\n",
    "\n",
    "Calling the `enumerate` function on `some_numbers`, we end up with (under the hood):\n",
    "\n",
    "```python\n",
    "((0, 5), (1, 10), (2, 15), (3, 20), (4, 25))\n",
    "```\n",
    "\n",
    "These are pairs of values, where the first element of each pair is the iteration index and the second is the original value from `some_numbers`. We are then assigning the first element of every pair to `iteration_count` and the second to `number`, hence:\n",
    "\n",
    "```python\n",
    "for iteration_count, number in enumerate(some_numbers):\n",
    "```\n",
    "\n",
    "To further clarify this, let's go through the first two iterations of this loop manually. The loop will start with the first element of `enumerate(some_numbers)`, and will assign the first value of this pair to `iteration_count` and the second to `number`:\n",
    "\n",
    "```python\n",
    "iteration_count, number = (0, 5)\n",
    "```\n",
    "\n",
    "```{admonition} Reminder\n",
    "This is an example of **multiple assignment**, just like we saw in [lab 2](../lab_2/lists.ipynb). We can assign each element of a `list` or `tuple` to a variable using commas. In the example above, `iteration_count` is assigned $0$ and `number` is assigned $5$.\n",
    "```\n",
    "\n",
    "We then run the code inside the loop:\n",
    "\n",
    "```python\n",
    "print(f'This is iteration #{iteration_count}')\n",
    "print(number)\n",
    "```\n",
    "\n",
    "Then we move to the second iteration, so `iteration_count` and `number` are reassigned to the second element of `enumerate(some_numbers)`:\n",
    "\n",
    "```python\n",
    "iteration_count, number = (1, 10)\n",
    "```\n",
    "\n",
    "And so on and so forth.\n",
    "\n",
    "It's worth emphasising that in our particular example, we could force Python to start counting iterations from **one** rather than **zero** quite easily:"
   ]
  },
  {
   "cell_type": "code",
   "execution_count": 11,
   "id": "4134cdeb-0018-4aab-9603-dc0e57f502fc",
   "metadata": {},
   "outputs": [
    {
     "name": "stdout",
     "output_type": "stream",
     "text": [
      "This is iteration #1\n",
      "5\n",
      "This is iteration #2\n",
      "10\n",
      "This is iteration #3\n",
      "15\n",
      "This is iteration #4\n",
      "20\n",
      "This is iteration #5\n",
      "25\n"
     ]
    }
   ],
   "source": [
    "some_numbers = (5, 10, 15, 20, 25)\n",
    "\n",
    "for iteration_count, number in enumerate(some_numbers):\n",
    "    print(f'This is iteration #{iteration_count + 1}')\n",
    "    print(number)"
   ]
  },
  {
   "cell_type": "markdown",
   "id": "15298ea9-85d9-4287-b76e-f3b2e6c8068b",
   "metadata": {},
   "source": [
    "The only change we have made is to add $1$ to `iteration_count` every time it is displayed with the `print` statement."
   ]
  },
  {
   "cell_type": "markdown",
   "id": "0b2f18d9-5203-46ae-8789-f0fd6b79865b",
   "metadata": {},
   "source": [
    "## A shortcut to sequences of integers: the `range` function"
   ]
  },
  {
   "cell_type": "markdown",
   "id": "6b2f6c6a-c2b6-422f-ab46-101bc5196ab6",
   "metadata": {},
   "source": [
    "Sometimes we want to loop over a simple sequence of integers. We could do this, as in our previous examples, like so:"
   ]
  },
  {
   "cell_type": "code",
   "execution_count": 12,
   "id": "6fa453e6-3b7b-48cd-8ed1-701bd20ec27e",
   "metadata": {},
   "outputs": [
    {
     "name": "stdout",
     "output_type": "stream",
     "text": [
      "0\n",
      "1\n",
      "2\n",
      "3\n",
      "4\n"
     ]
    }
   ],
   "source": [
    "integers = [0, 1, 2, 3, 4]\n",
    "\n",
    "for integer in integers:\n",
    "    print(integer)"
   ]
  },
  {
   "cell_type": "markdown",
   "id": "a787e07a-3e49-464e-8506-f096e74db5bb",
   "metadata": {},
   "source": [
    "On the other hand, as is probably becoming familiar to you at this point, Python provides us with a shortcut via a built-in function. This time, we are interested in the `range` function:"
   ]
  },
  {
   "cell_type": "code",
   "execution_count": 13,
   "id": "e7360ab0-0486-4e1e-85a1-139e50b9d947",
   "metadata": {},
   "outputs": [
    {
     "name": "stdout",
     "output_type": "stream",
     "text": [
      "0\n",
      "1\n",
      "2\n",
      "3\n",
      "4\n"
     ]
    }
   ],
   "source": [
    "for integer in range(0, 5):\n",
    "    print(integer)"
   ]
  },
  {
   "cell_type": "markdown",
   "id": "984bda16-ed11-4176-81ab-bf506ca5246c",
   "metadata": {},
   "source": [
    "Which gives us exactly the same result, with one less line of code. The range function takes two **arguments**, an integer from which to start the sequence, and an integer at which to terminate the sequence. Note that, much like slicing lists, the latter is **not included** in the final sequence (here we supply `5` as the second argument, but the sequence terminates at `4`). \n",
    "\n",
    "We can actually get away with shortening our code slightly more:"
   ]
  },
  {
   "cell_type": "code",
   "execution_count": 14,
   "id": "8d2f01a1-64fc-4d96-ab46-ba388241451d",
   "metadata": {},
   "outputs": [
    {
     "name": "stdout",
     "output_type": "stream",
     "text": [
      "0\n",
      "1\n",
      "2\n",
      "3\n",
      "4\n"
     ]
    }
   ],
   "source": [
    "for integer in range(5):\n",
    "    print(integer)"
   ]
  },
  {
   "cell_type": "markdown",
   "id": "de44d80d-94a2-47d1-b89a-f5ebe1e97b96",
   "metadata": {},
   "source": [
    "If the `range` function is only given one input, then Python assumes that you want the sequence to start from **zero** (again much like slicing lists). On the other end of the spectrum, we can also provide $3$ arguments to `range`:"
   ]
  },
  {
   "cell_type": "code",
   "execution_count": 15,
   "id": "f77b0218-74a0-42ae-951a-f87e2ed70961",
   "metadata": {},
   "outputs": [
    {
     "name": "stdout",
     "output_type": "stream",
     "text": [
      "0\n",
      "2\n",
      "4\n"
     ]
    }
   ],
   "source": [
    "for integer in range(0, 5, 2):\n",
    "    print(integer)"
   ]
  },
  {
   "cell_type": "markdown",
   "id": "43d64501-db26-4cce-ae3d-986d440679ee",
   "metadata": {},
   "source": [
    "This third argument, once more just like list slicing, acts as a **step size**. Here we set it to `2`, so we get only the even-numbered integers. We can use a **negative** step size to loop through numbers in **reverse order** (from bigger to smaller):"
   ]
  },
  {
   "cell_type": "code",
   "execution_count": 16,
   "id": "2e7c91c4-d865-413f-9634-46a6c3eb03a4",
   "metadata": {},
   "outputs": [
    {
     "name": "stdout",
     "output_type": "stream",
     "text": [
      "5\n",
      "4\n",
      "3\n",
      "2\n",
      "1\n"
     ]
    }
   ],
   "source": [
    "for integer in range(5, 0, -1):\n",
    "    print(integer)"
   ]
  },
  {
   "cell_type": "markdown",
   "id": "43d47bfc-1ddb-4f37-8ae9-eec34b90f047",
   "metadata": {},
   "source": [
    "## Nested loops"
   ]
  },
  {
   "cell_type": "markdown",
   "id": "87e0886e-9333-4c43-b80a-947aae493930",
   "metadata": {},
   "source": [
    "You've heard of a list inside a list inside a list inside a list etc, a **nested** list, but what about a loop inside a loop inside a loop inside a loop..."
   ]
  },
  {
   "cell_type": "code",
   "execution_count": 17,
   "id": "9afe045a-61ea-4885-8548-badda3155ead",
   "metadata": {},
   "outputs": [
    {
     "name": "stdout",
     "output_type": "stream",
     "text": [
      "1 a\n",
      "1 b\n",
      "1 c\n",
      "2 a\n",
      "2 b\n",
      "2 c\n",
      "3 a\n",
      "3 b\n",
      "3 c\n"
     ]
    }
   ],
   "source": [
    "list_1 = [1, 2, 3]\n",
    "list_2 = ['a', 'b', 'c']\n",
    "\n",
    "for item_i in list_1:\n",
    "    for item_j in list_2:\n",
    "        print(item_i, item_j)"
   ]
  },
  {
   "cell_type": "markdown",
   "id": "4ca20c01-1330-464a-a3a6-d3b76b0a27da",
   "metadata": {},
   "source": [
    "Sure enough, this is a **nested loop**: let's try to figure out what the heck it's doing.\n",
    "\n",
    "The first thing to note about this example is the `print` statement, which here takes **two** arguments. Previously, we have only ever supplied one input to the `print` function:"
   ]
  },
  {
   "cell_type": "code",
   "execution_count": 18,
   "id": "90229eaf-5fe8-4f5a-b9ef-4f73ddb42849",
   "metadata": {},
   "outputs": [
    {
     "name": "stdout",
     "output_type": "stream",
     "text": [
      "5\n"
     ]
    }
   ],
   "source": [
    "a = 5\n",
    "\n",
    "print(a)"
   ]
  },
  {
   "cell_type": "markdown",
   "id": "60f346d1-97e4-48c8-8cf0-3f3cad6bcdf4",
   "metadata": {},
   "source": [
    "But as it happens, the `print` function will accept **any number of arguments**:"
   ]
  },
  {
   "cell_type": "code",
   "execution_count": 19,
   "id": "b9503c77-1c55-423e-bf41-1e7901e8c02b",
   "metadata": {},
   "outputs": [
    {
     "name": "stdout",
     "output_type": "stream",
     "text": [
      "5 10 200\n"
     ]
    }
   ],
   "source": [
    "a = 5\n",
    "b = 10\n",
    "c = 200\n",
    "\n",
    "print(a, b, c)"
   ]
  },
  {
   "cell_type": "markdown",
   "id": "9a7f5b6b-8847-4d78-9202-ef4f8655126d",
   "metadata": {},
   "source": [
    "It simply prints each argument one after another with a space inbetween each.\n",
    "\n",
    "Coming back to our nested loop, we can make its inner workings a little clearer with the `enumerate` function and an extra `print` statement:"
   ]
  },
  {
   "cell_type": "code",
   "execution_count": 20,
   "id": "f6fd751e-9bdf-4fcc-9611-dbe79c17e52c",
   "metadata": {},
   "outputs": [
    {
     "name": "stdout",
     "output_type": "stream",
     "text": [
      "Outer loop iteration #0\n",
      "1 a\n",
      "1 b\n",
      "1 c\n",
      "Outer loop iteration #1\n",
      "2 a\n",
      "2 b\n",
      "2 c\n",
      "Outer loop iteration #2\n",
      "3 a\n",
      "3 b\n",
      "3 c\n"
     ]
    }
   ],
   "source": [
    "list_1 = [1, 2, 3]\n",
    "list_2 = ['a', 'b', 'c']\n",
    "\n",
    "for iteration_count, item_i in enumerate(list_1):\n",
    "    print(f'Outer loop iteration #{iteration_count}')\n",
    "    for item_j in list_2:\n",
    "        print(item_i, item_j)"
   ]
  },
  {
   "cell_type": "markdown",
   "id": "718905af-5c10-4d4b-b62c-174f8495f9ac",
   "metadata": {},
   "source": [
    "Here we have used the `enumerate` function just like we did before, storing the iteration that we are currently on in a variable `iteration_count`. Our code now keeps track of iterations associated with the **outer loop**, i.e. the loop established before the **indentation** starts, but what if we apply the same trick to the **inner loop**?"
   ]
  },
  {
   "cell_type": "code",
   "execution_count": 21,
   "id": "4145b29c-ded7-43fb-8f1b-c519dc5e4d8f",
   "metadata": {},
   "outputs": [
    {
     "name": "stdout",
     "output_type": "stream",
     "text": [
      "Outer loop iteration #0\n",
      "Inner loop iteration #0\n",
      "1 a\n",
      "Inner loop iteration #1\n",
      "1 b\n",
      "Inner loop iteration #2\n",
      "1 c\n",
      "Outer loop iteration #1\n",
      "Inner loop iteration #0\n",
      "2 a\n",
      "Inner loop iteration #1\n",
      "2 b\n",
      "Inner loop iteration #2\n",
      "2 c\n",
      "Outer loop iteration #2\n",
      "Inner loop iteration #0\n",
      "3 a\n",
      "Inner loop iteration #1\n",
      "3 b\n",
      "Inner loop iteration #2\n",
      "3 c\n"
     ]
    }
   ],
   "source": [
    "list_1 = [1, 2, 3]\n",
    "list_2 = ['a', 'b', 'c']\n",
    "\n",
    "for iteration_count_i, item_i in enumerate(list_1):\n",
    "    print(f'Outer loop iteration #{iteration_count_i}')\n",
    "    for iteration_count_j, item_j in enumerate(list_2):\n",
    "        print(f'Inner loop iteration #{iteration_count_j}')\n",
    "        print(item_i, item_j)"
   ]
  },
  {
   "cell_type": "markdown",
   "id": "60206a99-03b2-482d-a79e-89f16314b960",
   "metadata": {},
   "source": [
    "Hopefully you can see that for every iteration of the **outer loop**, the **inner loop** iterates through the entirety of `list_2`. In other words, the **inner loop** does all of its iterations before the **outer loop** iterates again. \n",
    "\n",
    "Coming back to our original example:"
   ]
  },
  {
   "cell_type": "code",
   "execution_count": 22,
   "id": "cbd760a7-671d-4027-a7fb-47a0f10b6156",
   "metadata": {},
   "outputs": [
    {
     "name": "stdout",
     "output_type": "stream",
     "text": [
      "1 a\n",
      "1 b\n",
      "1 c\n",
      "2 a\n",
      "2 b\n",
      "2 c\n",
      "3 a\n",
      "3 b\n",
      "3 c\n"
     ]
    }
   ],
   "source": [
    "list_1 = [1, 2, 3]\n",
    "list_2 = ['a', 'b', 'c']\n",
    "\n",
    "for item_i in list_1:\n",
    "    for item_j in list_2:\n",
    "        print(item_i, item_j)"
   ]
  },
  {
   "cell_type": "markdown",
   "id": "c45d444c-527c-4199-80cb-202ae844959a",
   "metadata": {},
   "source": [
    "Let's go through the first few iterations of this logic manually. On the first iteration of the **outer loop**, we assign the first element of `list_1` to `item_i`:\n",
    "\n",
    "```python\n",
    "item_i = 1\n",
    "```\n",
    "\n",
    "We then enter the **inner loop** which, on its first iteration, will assign the first element of `list_2` to `item_j`:\n",
    "\n",
    "```python\n",
    "item_j = 'a'\n",
    "```\n",
    "\n",
    "We then run the rest of the code:\n",
    "\n",
    "```python\n",
    "print(item_i, item_j)\n",
    "```\n",
    "\n",
    "Which gives us `1 a`.\n",
    "\n",
    "At this point, we go into the second iteration of the **inner loop**, assigning the second element of `list_2` to `item_j`:\n",
    "\n",
    "```python\n",
    "item_j = 'b'\n",
    "```\n",
    "\n",
    "Once again, we run the code within the inner loop:\n",
    "\n",
    "```python\n",
    "print(item_i, item_j)\n",
    "```\n",
    "\n",
    "`item_i` **has not changed**, as we are still on the first iteration of the **outer loop**. On the other hand, `item_j` **has changed**, as we are now on the second iteration of the **inner loop**, so we get `1 b`.\n",
    "\n",
    "We will continue iterating through the **inner loop** until we have been through all of `list_2`, at which point the **outer loop** iterates and `item_i` is finally updated:\n",
    "\n",
    "```python\n",
    "item_i = 2\n",
    "```\n",
    "\n",
    "We then enter the **inner loop** again, so `item_j` is reset to the first element of `list_2`:\n",
    "\n",
    "```python\n",
    "item_j = 'a'\n",
    "```\n",
    "\n",
    "So the `print` statement gives us `2 a` and so on and so forth.\n",
    "\n",
    "---\n",
    "\n",
    "Let's go over one more example in a slightly different context:"
   ]
  },
  {
   "cell_type": "code",
   "execution_count": 23,
   "id": "13a9173e-a760-4c29-a415-5228c54faf4a",
   "metadata": {},
   "outputs": [
    {
     "name": "stdout",
     "output_type": "stream",
     "text": [
      "1\n",
      "2\n",
      "3\n",
      "a\n",
      "b\n",
      "c\n"
     ]
    }
   ],
   "source": [
    "nested_list = [[1, 2, 3], \n",
    "               ['a', 'b', 'c']]\n",
    "\n",
    "for sublist in nested_list:\n",
    "    for element in sublist:\n",
    "        print(element)"
   ]
  },
  {
   "cell_type": "markdown",
   "id": "056a5a49-5029-493b-b7f1-d9464a2efa9d",
   "metadata": {},
   "source": [
    "Here we have a list of lists which is just a combination of `list_1` and `list_2` from our previous example. \n",
    "\n",
    "The **outer loop** is iterating through each element of `nested_list`. In this case, `nested_list` contains two **sublists**: `[1, 2, 3]` and `['a', 'b', 'c']`. The **inner loop** is iterating through each element of the **sublist** assigned by the **outer loop**."
   ]
  },
  {
   "cell_type": "markdown",
   "id": "e13c1c92-9b0f-48b9-b943-b796dd894fc1",
   "metadata": {},
   "source": [
    "## Exercise"
   ]
  },
  {
   "cell_type": "markdown",
   "id": "b180773c-8130-42e1-b09b-dd2e657dbe0f",
   "metadata": {},
   "source": [
    "**1.** \n",
    "\n",
    "a) Using a `for` loop, generate and `print` the first $20$ square numbers.\n",
    "\n",
    "```{tip}\n",
    "You can generate integers from $1$ to $20$ with the `range` function.\n",
    "```\n",
    "\n",
    "b) Modify your loop to keep track of the current iteration and print this along with each square number.\n",
    "\n",
    "**2**. The Fibonacci sequence is defined by the recursive relation:\n",
    "\n",
    "$$F_{n} = F_{n - 1} + F_{n - 2},$$\n",
    "\n",
    "i.e. each term is simply the sum of the previous two terms. \n",
    "\n",
    "Starting with the following list:\n",
    "\n",
    "```python\n",
    "fib = [0, 1]\n",
    "```\n",
    "\n",
    "a) Using list indexing, calculate the next term in the sequence and append this to `fib`.\n",
    "\n",
    "```{tip}\n",
    "Remember that you can use **negative** indices to access elements in a list in **reverse order**.\n",
    "```\n",
    "\n",
    "b) Write a loop to calculate the next $10$ terms in the sequence and add these to `fib`.\n",
    "\n",
    "**3.** Consider the following loop in a loop (**nested loop**):"
   ]
  },
  {
   "cell_type": "code",
   "execution_count": 24,
   "id": "b7184f82-240a-40f3-bbd3-4a658cf4aa2f",
   "metadata": {},
   "outputs": [
    {
     "name": "stdout",
     "output_type": "stream",
     "text": [
      "\n",
      "* \n",
      "* * \n",
      "* * * \n",
      "* * * * \n",
      "* * * * * \n",
      "* * * * * * \n",
      "* * * * * * * \n",
      "* * * * * * * * \n",
      "* * * * * * * * * \n"
     ]
    }
   ],
   "source": [
    "rows = 10\n",
    "\n",
    "for i in range(0, rows):\n",
    "    for j in range(0, i):\n",
    "        print('*', end=' ')\n",
    "    print('')"
   ]
  },
  {
   "cell_type": "markdown",
   "id": "314f2f8a-8f11-4dd0-80ce-3f8682265e01",
   "metadata": {},
   "source": [
    "```{note}\n",
    "For the time being, ignore the `end=' '` argument to the `print` function. This ensures that the pattern is displayed correctly by preventing a new line being added after each *. You will not have to change this line of code.\n",
    "```\n",
    "\n",
    "Modify this block of code to produce the following pattern (ignore the colour):\n",
    "\n",
    "```\n",
    "* * * * * * * * * \n",
    "* * * * * * * *\n",
    "* * * * * * *\n",
    "* * * * * *\n",
    "* * * * *\n",
    "* * * *\n",
    "* * *\n",
    "* *\n",
    "*\n",
    "```"
   ]
  },
  {
   "cell_type": "code",
   "execution_count": null,
   "id": "ef395e24-03db-43d3-8d47-3968eb7ff9e4",
   "metadata": {},
   "outputs": [],
   "source": []
  }
 ],
 "metadata": {
  "kernelspec": {
   "display_name": "Python 3 (ipykernel)",
   "language": "python",
   "name": "python3"
  },
  "language_info": {
   "codemirror_mode": {
    "name": "ipython",
    "version": 3
   },
   "file_extension": ".py",
   "mimetype": "text/x-python",
   "name": "python",
   "nbconvert_exporter": "python",
   "pygments_lexer": "ipython3",
   "version": "3.12.0"
  }
 },
 "nbformat": 4,
 "nbformat_minor": 5
}
