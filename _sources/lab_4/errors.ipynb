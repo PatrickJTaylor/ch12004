{
 "cells": [
  {
   "cell_type": "markdown",
   "id": "ecd9e0a7-9df7-44e6-b98b-8152850c49aa",
   "metadata": {},
   "source": [
    "# Errors"
   ]
  },
  {
   "cell_type": "markdown",
   "id": "82fcf35e-cdd1-4d4d-9a83-e24cc3bfb04b",
   "metadata": {},
   "source": [
    "Congratulations, you have now learnt most of what could be considered fundamental Python!\n",
    "\n",
    "We're going to take some time now to talk about **errors**. When first approaching programming, you might imagine that most of your time will be spent writing new code. In reality, as you may already have realised, we often spend much more time trying to **fix** the code we have already written. This is why it is extremely useful to understand **errors**, as they usually do a pretty good job pointing us towards the problems and bugs that we have to remove."
   ]
  },
  {
   "cell_type": "markdown",
   "id": "222fec13-246c-4295-9c9e-a38692dbc56f",
   "metadata": {},
   "source": [
    "## The structure of error messages"
   ]
  },
  {
   "cell_type": "markdown",
   "id": "984dc5fb-eaf7-467f-aa45-04689a066bc5",
   "metadata": {},
   "source": [
    "Errors in Python can sometimes throw **a lot** of information at you at once. They can also be full of jargon, which can make it quite a daunting task to try and figure out what on earth it all means.\n",
    "\n",
    "Let's start with a simple and familiar example:"
   ]
  },
  {
   "cell_type": "code",
   "execution_count": 1,
   "id": "88ca46a0-3fee-4b81-8444-6277bd70097a",
   "metadata": {},
   "outputs": [
    {
     "ename": "TypeError",
     "evalue": "unsupported operand type(s) for +: 'int' and 'str'",
     "output_type": "error",
     "traceback": [
      "\u001b[0;31m---------------------------------------------------------------------------\u001b[0m",
      "\u001b[0;31mTypeError\u001b[0m                                 Traceback (most recent call last)",
      "Cell \u001b[0;32mIn[1], line 4\u001b[0m\n\u001b[1;32m      1\u001b[0m a \u001b[38;5;241m=\u001b[39m \u001b[38;5;241m10\u001b[39m\n\u001b[1;32m      2\u001b[0m b \u001b[38;5;241m=\u001b[39m \u001b[38;5;124m'\u001b[39m\u001b[38;5;124m25\u001b[39m\u001b[38;5;124m'\u001b[39m\n\u001b[0;32m----> 4\u001b[0m \u001b[43ma\u001b[49m\u001b[43m \u001b[49m\u001b[38;5;241;43m+\u001b[39;49m\u001b[43m \u001b[49m\u001b[43mb\u001b[49m\n",
      "\u001b[0;31mTypeError\u001b[0m: unsupported operand type(s) for +: 'int' and 'str'"
     ]
    }
   ],
   "source": [
    "a = 10\n",
    "b = '25'\n",
    "\n",
    "a + b"
   ]
  },
  {
   "cell_type": "markdown",
   "id": "e3375e1f-9fe0-43eb-a278-2eaba6ca4794",
   "metadata": {},
   "source": [
    "It is often easier to read error messages **from the bottom up**. Here we have a `TypeError`, so we know that the problem has something to do with the `type` of the **variables** we are using. The error message itself says `unsupported operand type(s) for +: 'int' and 'str'`. This one is relatively easy to interpret: \"you cannot add an integer to a string\".\n",
    "\n",
    "Now let's look at the rest of the error. Above the `TypeError` message itself, we have something called a **traceback**. The error message tells us **what** went wrong, the **traceback** tells us **where** it went wrong. Here you can see `----> 4 a + b`, this is an arrow pointing us to the **line** that causes the error. In this case, it is line $4$ that causes the problem, so this is where the arrow points us to, with the other lines displayed above this showing us the rest of the code **leading up to** the issue itself.\n",
    "\n",
    "So to summarise, you can read this example error like so:\n",
    "\n",
    "- There is `TypeError` which in this case tells us that we are trying to add a `str` to and `int`.\n",
    "- The **traceback** tells us that the error occurs on **line 4**.\n",
    "- This line is `a + b`, so we know that one of `a` or `b` must be a `str`, whilst the other must be an `int`.\n",
    "- We look at the lines **leading up to** line 4 and find that we have written `b = '25'`, so sure enough, `b` is a `str`.\n",
    "\n",
    "Having correctly analysed the error, it is now very simple to see how we can fix the problem:"
   ]
  },
  {
   "cell_type": "code",
   "execution_count": 2,
   "id": "bc8ef748-c438-4538-89b1-4b45df16bd71",
   "metadata": {},
   "outputs": [
    {
     "data": {
      "text/plain": [
       "35"
      ]
     },
     "execution_count": 2,
     "metadata": {},
     "output_type": "execute_result"
    }
   ],
   "source": [
    "a = 10\n",
    "b = 25\n",
    "\n",
    "a + b"
   ]
  },
  {
   "cell_type": "markdown",
   "id": "7601b5fb-9e2d-4194-8ecd-7004d6508c92",
   "metadata": {},
   "source": [
    "## Too much jargon!"
   ]
  },
  {
   "cell_type": "markdown",
   "id": "a1d2b0ab-e833-4e71-bb13-f4ab5d3f5267",
   "metadata": {},
   "source": [
    "The example we just went through was something that we had seen before, so deciphering the meaning of the `TypeError` was not overly difficult. Let's look at a more puzzling example:"
   ]
  },
  {
   "cell_type": "code",
   "execution_count": 6,
   "id": "5a59df28-1fd8-4221-adbf-f2eef8a3b127",
   "metadata": {},
   "outputs": [
    {
     "ename": "ValueError",
     "evalue": "math domain error",
     "output_type": "error",
     "traceback": [
      "\u001b[0;31m---------------------------------------------------------------------------\u001b[0m",
      "\u001b[0;31mValueError\u001b[0m                                Traceback (most recent call last)",
      "Cell \u001b[0;32mIn[6], line 7\u001b[0m\n\u001b[1;32m      4\u001b[0m b \u001b[38;5;241m=\u001b[39m \u001b[38;5;241m6\u001b[39m\n\u001b[1;32m      5\u001b[0m c \u001b[38;5;241m=\u001b[39m \u001b[38;5;241m7\u001b[39m\n\u001b[0;32m----> 7\u001b[0m solution_1 \u001b[38;5;241m=\u001b[39m (\u001b[38;5;241m-\u001b[39mb \u001b[38;5;241m+\u001b[39m \u001b[43mmath\u001b[49m\u001b[38;5;241;43m.\u001b[39;49m\u001b[43msqrt\u001b[49m\u001b[43m(\u001b[49m\u001b[43mb\u001b[49m\u001b[43m \u001b[49m\u001b[38;5;241;43m*\u001b[39;49m\u001b[38;5;241;43m*\u001b[39;49m\u001b[43m \u001b[49m\u001b[38;5;241;43m2\u001b[39;49m\u001b[43m \u001b[49m\u001b[38;5;241;43m-\u001b[39;49m\u001b[43m \u001b[49m\u001b[38;5;241;43m4\u001b[39;49m\u001b[43m \u001b[49m\u001b[38;5;241;43m*\u001b[39;49m\u001b[43m \u001b[49m\u001b[43ma\u001b[49m\u001b[43m \u001b[49m\u001b[38;5;241;43m*\u001b[39;49m\u001b[43m \u001b[49m\u001b[43mc\u001b[49m\u001b[43m)\u001b[49m) \u001b[38;5;241m/\u001b[39m (\u001b[38;5;241m2\u001b[39m \u001b[38;5;241m*\u001b[39m a)\n\u001b[1;32m      8\u001b[0m solution_2 \u001b[38;5;241m=\u001b[39m (\u001b[38;5;241m-\u001b[39mb \u001b[38;5;241m-\u001b[39m math\u001b[38;5;241m.\u001b[39msqrt(b \u001b[38;5;241m*\u001b[39m\u001b[38;5;241m*\u001b[39m \u001b[38;5;241m2\u001b[39m \u001b[38;5;241m-\u001b[39m \u001b[38;5;241m4\u001b[39m \u001b[38;5;241m*\u001b[39m a \u001b[38;5;241m*\u001b[39m c)) \u001b[38;5;241m/\u001b[39m (\u001b[38;5;241m2\u001b[39m \u001b[38;5;241m*\u001b[39m a)\n",
      "\u001b[0;31mValueError\u001b[0m: math domain error"
     ]
    }
   ],
   "source": [
    "import math\n",
    "\n",
    "a = 5\n",
    "b = 6\n",
    "c = 7\n",
    "\n",
    "solution_1 = (-b + math.sqrt(b ** 2 - 4 * a * c)) / (2 * a)\n",
    "solution_2 = (-b - math.sqrt(b ** 2 - 4 * a * c)) / (2 * a)\n",
    "\n",
    "print(f'The solutions are {solution_1} and {solution_2}')"
   ]
  },
  {
   "cell_type": "markdown",
   "id": "efc8d59e-e24b-454c-b71b-213e6522bff7",
   "metadata": {},
   "source": [
    "Here we are trying to find the roots of the quadratic equation $5x^{2} + 6x + 7$ with the good old quadratic formula:\n",
    "\n",
    "$$\\frac{-b \\pm \\sqrt{b^{2} - 4ac}}{2a}.$$\n",
    "\n",
    "Let's have a read of the error message. At the bottom we have the error message itself, it's a `ValueError` and tells us more specifically that there is a `math domain error`. The **traceback** shows us that the error occurs on line 7 when we try to calculate `solution_1`. We haven't even seen a `ValueError` before, let alone a `math domain error`, so how do we figure this out?\n",
    "\n",
    "Well let's start with the basics: what is a `ValueError`? If you come across a new `type` of error and you want to understand what it generally means, you can look at the [documentation](https://docs.python.org/3/library/exceptions.html) for Python's built-in **exceptions** (errors are a subset of exceptions). A quick <kbd>Ctrl</kbd> + <kbd>f</kbd> for \"ValueError\" gives us:\n",
    "\n",
    "![ValueError](images/value_error.png)\n",
    "\n",
    "Okay, so now we know that a `ValueError` occurs when the `type` of an argument to a function is correct, but the value is somehow inappropriate. The only function we are calling in this example is `math.sqrt`, so it must be that `b ** 2 - 4 * a * c` is somehow an inappropiate value for taking the square root. Let's see what that value actually is:"
   ]
  },
  {
   "cell_type": "code",
   "execution_count": 7,
   "id": "c5b24333-c47b-49f0-854a-96048d261440",
   "metadata": {},
   "outputs": [
    {
     "data": {
      "text/plain": [
       "-104"
      ]
     },
     "execution_count": 7,
     "metadata": {},
     "output_type": "execute_result"
    }
   ],
   "source": [
    "b ** 2 - 4 * a * c"
   ]
  },
  {
   "cell_type": "markdown",
   "id": "c1683142-41fb-4751-82d9-973971220774",
   "metadata": {},
   "source": [
    "And now we see the problem: we're trying to take the square root of a **negative number**. The `math` library is not designed to deal with `complex` numbers, so `math.sqrt` is not capable of evaluating $\\sqrt{-104}$.\n",
    "\n",
    "Admittedly we are not very interested in `complex` numbers in this course, so the solution to this problem is largely irrelevant, but nonetheless here is how we could solve this problem:"
   ]
  },
  {
   "cell_type": "code",
   "execution_count": 11,
   "id": "ac7d977e-023d-466e-ac96-244cf4fea4d6",
   "metadata": {},
   "outputs": [
    {
     "name": "stdout",
     "output_type": "stream",
     "text": [
      "The solutions are (-0.6+1.0198039027185568j) and (-0.6-1.0198039027185568j)\n"
     ]
    }
   ],
   "source": [
    "import cmath\n",
    "\n",
    "a = 5\n",
    "b = 6\n",
    "c = 7\n",
    "\n",
    "solution_1 = (-b + cmath.sqrt(b ** 2 - 4 * a * c)) / (2 * a)\n",
    "solution_2 = (-b - cmath.sqrt(b ** 2 - 4 * a * c)) / (2 * a)\n",
    "\n",
    "print(f'The solutions are {solution_1} and {solution_2}')"
   ]
  },
  {
   "cell_type": "markdown",
   "id": "1e8d7b81-3acb-42c8-957c-de743e36c8ed",
   "metadata": {},
   "source": [
    "Here we simply replace the `math` library with the `cmath` library (`complex` math), which has a `sqrt` function that is perfectly happy with **negative** numbers.\n",
    "\n",
    "To be crystal clear, the point of this example is **not** to introduce you to the `cmath` library - we don't care about that. The point is that we were faced with an **error** that we couldn't understand, but we found a way to figure it out. Obviously in these labs, you should always be able to **ask a demonstrator** for help rather than trying to understand everything on your own, but it is still extremely useful to practice error comprehension so that you get better at **spotting the bugs in your own code**."
   ]
  },
  {
   "cell_type": "code",
   "execution_count": null,
   "id": "488e4a19-5d72-4181-b64e-67a2f0026bc2",
   "metadata": {},
   "outputs": [],
   "source": []
  }
 ],
 "metadata": {
  "kernelspec": {
   "display_name": "Python 3 (ipykernel)",
   "language": "python",
   "name": "python3"
  },
  "language_info": {
   "codemirror_mode": {
    "name": "ipython",
    "version": 3
   },
   "file_extension": ".py",
   "mimetype": "text/x-python",
   "name": "python",
   "nbconvert_exporter": "python",
   "pygments_lexer": "ipython3",
   "version": "3.12.0"
  }
 },
 "nbformat": 4,
 "nbformat_minor": 5
}
