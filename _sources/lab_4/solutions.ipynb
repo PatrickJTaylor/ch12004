{
 "cells": [
  {
   "cell_type": "markdown",
   "id": "870a190b-fb40-4dee-85c2-710d5c9edd04",
   "metadata": {},
   "source": [
    "# Synoptic exercises"
   ]
  },
  {
   "cell_type": "markdown",
   "id": "c35c488c-5de8-48b6-944c-d41a970a8bf4",
   "metadata": {},
   "source": [
    "Let's see if your functions *function*.\n",
    "\n",
    "**1.** The distance between two points $i$ and $j$ in two-dimensional space can be calculated with the following equation:\n",
    "\n",
    "$$d(i, j) = \\sqrt{(x_{i} - x_{j})^{2} + (y_{i} - y_{j})^{2}},$$\n",
    "\n",
    "where $x_{i}$ is the $x$-coordinate of point $i$, $x_{j}$ is the $x$-coordinate of point $j$ etc.\n",
    "\n",
    "a) Write a function to calculate the distance between two points, where each point is a `list` of $x$, $y$ and $z$ coordinates:\n",
    "\n",
    "```python\n",
    "example_point_i = [0.1, 0.2]\n",
    "example_point_j = [0.7, 0.5]\n",
    "```\n",
    "\n",
    "Test your function by calculating the distance between the example points above."
   ]
  },
  {
   "cell_type": "code",
   "execution_count": 1,
   "id": "97a41552-3e3a-4285-989d-834e63dc5479",
   "metadata": {},
   "outputs": [
    {
     "data": {
      "text/plain": [
       "0.6708203932499369"
      ]
     },
     "execution_count": 1,
     "metadata": {},
     "output_type": "execute_result"
    }
   ],
   "source": [
    "import math\n",
    "\n",
    "def distance(point_i, point_j):\n",
    "    \"\"\"\n",
    "    Calculate the distance between two points in two-dimensional space.\n",
    "\n",
    "    Args:\n",
    "        point_i (list): The x and y coordinates of the first point.\n",
    "        point_j (list): The x and y coordinates of the second point.\n",
    "\n",
    "    Returns:\n",
    "        (float): The distance between points i and j.\n",
    "    \"\"\"\n",
    "\n",
    "    return math.sqrt((point_i[0] - point_j[0]) ** 2 + (point_i[1] - point_j[1]) ** 2)\n",
    "\n",
    "example_point_i = [0.1, 0.2]\n",
    "example_point_j = [0.7, 0.5]\n",
    "\n",
    "distance(example_point_i, example_point_j)"
   ]
  },
  {
   "cell_type": "markdown",
   "id": "5edd0442-0691-4e86-b57c-7cf81e59862f",
   "metadata": {},
   "source": [
    "b) The atoms in a molecule of BF$_{3}$ are located at the following coordinates:\n",
    "\n",
    "```python\n",
    "bf3_coordinates = [[0.00, 0.00], \n",
    "                   [0.00, 1.30], \n",
    "                   [1.13, -0.65], \n",
    "                   [-1.13, -0.65]]\n",
    "```\n",
    "\n",
    "This is a **nested list** (a list of lists), where each **sublist** contains the coordinates associated with one atom.\n",
    "\n",
    "Using [loops](../lab_3/loops.ipynb), calculate and `print` the distances between **all pairs of atoms** in BF$_{3}$. Use the function you wrote in a) to calculate each distance."
   ]
  },
  {
   "cell_type": "code",
   "execution_count": 2,
   "id": "4c6f9a5a-6606-4463-9d8e-4db02bfb5a33",
   "metadata": {},
   "outputs": [
    {
     "name": "stdout",
     "output_type": "stream",
     "text": [
      "0.0\n",
      "1.3\n",
      "1.3036103712382776\n",
      "1.3036103712382776\n",
      "1.3\n",
      "0.0\n",
      "2.2537524265100637\n",
      "2.2537524265100637\n",
      "1.3036103712382776\n",
      "2.2537524265100637\n",
      "0.0\n",
      "2.26\n",
      "1.3036103712382776\n",
      "2.2537524265100637\n",
      "2.26\n",
      "0.0\n"
     ]
    }
   ],
   "source": [
    "bf3_coordinates = [[0.00, 0.00], \n",
    "                   [0.00, 1.30], \n",
    "                   [1.13, -0.65], \n",
    "                   [-1.13, -0.65]]\n",
    "\n",
    "for atom_i in bf3_coordinates:\n",
    "    for atom_j in bf3_coordinates:\n",
    "        print(distance(atom_i, atom_j))"
   ]
  },
  {
   "cell_type": "markdown",
   "id": "138c5454-df7c-4e7c-9f38-eabc73c11314",
   "metadata": {},
   "source": [
    "c) Rather than using the `print` function to display all of your calculated distances, modify the code you wrote for b) so that the distances are instead used to build a **distance matrix**:\n",
    "\n",
    "$$D = \\begin{bmatrix}\n",
    "      d_{11} & d_{12} & d_{13} & d_{14} \\\\\n",
    "      d_{21} & d_{22} & d_{23} & d_{24} \\\\\n",
    "      d_{31} & d_{32} & d_{33} & d_{34} \\\\\n",
    "      d_{41} & d_{42} & d_{43} & d_{44}\n",
    "      \\end{bmatrix},$$\n",
    "\n",
    "where $d_{12}$ is the distance between atom $1$ and atom $2$, $d_{14}$ is the distance between atoms $1$ and $4$ etc.\n",
    "\n",
    "In Python, your final distance matrix should be a **nested list**:\n",
    "\n",
    "```python\n",
    "[[d_11, d_12, d_13, d_14],\n",
    " [d_21, d_22, d_23, d_24],\n",
    " [d_31, d_32, d_33, d_34],\n",
    " [d_41, d_42, d_43, d_44]]\n",
    "```\n",
    "\n",
    "You can build up the matrix **one row at a time** using the loops you wrote in b)."
   ]
  },
  {
   "cell_type": "code",
   "execution_count": 3,
   "id": "64513ad6-070e-4a27-bc05-63941496c62b",
   "metadata": {},
   "outputs": [
    {
     "name": "stdout",
     "output_type": "stream",
     "text": [
      "[0.0, 1.3, 1.3036103712382776, 1.3036103712382776]\n",
      "[1.3, 0.0, 2.2537524265100637, 2.2537524265100637]\n",
      "[1.3036103712382776, 2.2537524265100637, 0.0, 2.26]\n",
      "[1.3036103712382776, 2.2537524265100637, 2.26, 0.0]\n"
     ]
    }
   ],
   "source": [
    "D = []\n",
    "\n",
    "for atom_i in bf3_coordinates:\n",
    "    row = []\n",
    "    for atom_j in bf3_coordinates:\n",
    "        row.append(distance(atom_i, atom_j))\n",
    "\n",
    "    D.append(row)\n",
    "\n",
    "# Loop over sublists so that it prints nicely.\n",
    "for sublist in D:\n",
    "    print(sublist)"
   ]
  },
  {
   "cell_type": "markdown",
   "id": "c3a2dae5-5685-4daf-a0de-caf40f39a03e",
   "metadata": {},
   "source": [
    "**2.**\n",
    "\n",
    "a) Write a function that uses a loop to calculate the [factorial](https://en.wikipedia.org/wiki/Factorial) of a **positive** non-zero number $n$:\n",
    "\n",
    "$$n! = n \\times n - 1 \\times n - 2\\cdots \\times 2 \\times 1.$$\n",
    "\n",
    "Use your function to calculate $5!$ and $12!$."
   ]
  },
  {
   "cell_type": "code",
   "execution_count": 4,
   "id": "80dc5dad-d71a-498e-b1d7-80b9eee9948d",
   "metadata": {},
   "outputs": [
    {
     "name": "stdout",
     "output_type": "stream",
     "text": [
      "5! = 120\n",
      "22! = 1124000727777607680000\n"
     ]
    }
   ],
   "source": [
    "def factorial(n):\n",
    "    \"\"\"\n",
    "    Calculate n! where n is a non-zero positive number.\n",
    "\n",
    "    Args:\n",
    "        n (int): The input used to determine which factorial to calculate.\n",
    "\n",
    "    Returns:\n",
    "        (int): n!.\n",
    "    \"\"\"\n",
    "\n",
    "    result = n\n",
    "\n",
    "    for i in range(n - 1, 0, -1):\n",
    "        result *= i\n",
    "\n",
    "    return result\n",
    "\n",
    "print(f'5! = {factorial(5)}')\n",
    "print(f'22! = {factorial(22)}')"
   ]
  },
  {
   "cell_type": "markdown",
   "id": "2f9ed735-8129-42b8-8e06-1f7caf506684",
   "metadata": {},
   "source": [
    "b) Rather than using loops, you could also write a factorial function that uses **recursion**:\n",
    "\n",
    "```python\n",
    "def factorial(n):\n",
    "    \"\"\"\n",
    "    Calculate n! where n is a non-zero positive number.\n",
    "\n",
    "    Args:\n",
    "        n (int): The input used to determine which factorial to calculate.\n",
    "\n",
    "    Returns:\n",
    "        (int): n!.\n",
    "    \"\"\"\n",
    "\n",
    "    if n == 0:\n",
    "        return 1\n",
    "\n",
    "    else:\n",
    "        return n * factorial(n - 1)\n",
    "```\n",
    "\n",
    "Recursion refers to instances in which a function **calls itself**.\n",
    "\n",
    "Use the **recursive** version of the `factorial` function to calculate $5!$ and $22!$ and try to reason out how it works."
   ]
  },
  {
   "cell_type": "code",
   "execution_count": 5,
   "id": "b80ee326-b7a7-4d13-a92c-e1fd3d4d79ce",
   "metadata": {},
   "outputs": [
    {
     "name": "stdout",
     "output_type": "stream",
     "text": [
      "5! = 120\n",
      "22! = 1124000727777607680000\n"
     ]
    }
   ],
   "source": [
    "def factorial(n):\n",
    "    \"\"\"\n",
    "    Calculate n! where n is a non-zero positive number.\n",
    "\n",
    "    Args:\n",
    "        n (int): The input used to determine which factorial to calculate.\n",
    "\n",
    "    Returns:\n",
    "        (int): n!.\n",
    "    \"\"\"\n",
    "\n",
    "    if n == 0:\n",
    "        return 1\n",
    "\n",
    "    else:\n",
    "        return n * factorial(n - 1)\n",
    "\n",
    "print(f'5! = {factorial(5)}')\n",
    "print(f'22! = {factorial(22)}')"
   ]
  },
  {
   "cell_type": "markdown",
   "id": "59a690b1-c300-432c-9c9e-a46ec0c1875e",
   "metadata": {},
   "source": [
    "c) One particularly infamous recursive function is **Ackermann's function** $A$:\n",
    "\n",
    "$$A(0, n) = n + 1$$\n",
    "\n",
    "$$A(m + 1, 0) = A(m, 1)$$\n",
    "\n",
    "$$A(m + 1, n + 1) = A(m, A(m + 1, n))$$\n",
    "\n",
    "A Python implementation of this function might look like:\n",
    "\n",
    "```python\n",
    "def Ackermann(m, n):\n",
    "    \"\"\"\n",
    "    A Python implementation of Ackermann's function.\n",
    "\n",
    "    Args:\n",
    "        m (int): The value of m.\n",
    "        n (int): The value of n.\n",
    "\n",
    "    Returns:\n",
    "        (int): The value of Ackermann's function for A(m, n).\n",
    "    \"\"\"\n",
    "    \n",
    "    if m == 0:\n",
    "        return n + 1\n",
    "\n",
    "    elif n == 0:\n",
    "        return Ackermann(m - 1, 1)\n",
    "\n",
    "    else:\n",
    "        return Ackermann(m - 1, Ackermann(m, n - 1))\n",
    "```\n",
    "\n",
    "Test this function for $m = 3$ and $n = 3$.\n",
    "\n",
    "Now test the `Ackermann` function for $m = 3$, $n = 9$ - **this will give you an error**. By cross-referencing the error with the relevant [documentation](https://docs.python.org/3/library/exceptions.html), try to figure out how you might fix this."
   ]
  },
  {
   "cell_type": "code",
   "execution_count": 6,
   "id": "ecc814e0-a5af-4221-bf9e-895c90d174fb",
   "metadata": {},
   "outputs": [
    {
     "name": "stdout",
     "output_type": "stream",
     "text": [
      "A(3, 3) = 61\n"
     ]
    }
   ],
   "source": [
    "def Ackermann(m, n):\n",
    "    \"\"\"\n",
    "    A Python implementation of Ackermann's function.\n",
    "\n",
    "    Args:\n",
    "        m (int): The value of m.\n",
    "        n (int): The value of n.\n",
    "\n",
    "    Returns:\n",
    "        (int): The value of Ackermann's function for A(m, n).\n",
    "    \"\"\"\n",
    "    \n",
    "    if m == 0:\n",
    "        return n + 1\n",
    "\n",
    "    elif n == 0:\n",
    "        return Ackermann(m - 1, 1)\n",
    "\n",
    "    else:\n",
    "        return Ackermann(m - 1, Ackermann(m, n - 1))\n",
    "\n",
    "print(f'A(3, 3) = {Ackermann(3, 3)}')"
   ]
  },
  {
   "cell_type": "code",
   "execution_count": 7,
   "id": "56e38c15-c033-45bf-836f-75f09e7f1efb",
   "metadata": {},
   "outputs": [
    {
     "name": "stdout",
     "output_type": "stream",
     "text": [
      "A(3, 9) = 4093\n"
     ]
    }
   ],
   "source": [
    "import sys\n",
    "\n",
    "sys.setrecursionlimit(5000)\n",
    "\n",
    "print(f'A(3, 9) = {Ackermann(3, 9)}')"
   ]
  },
  {
   "cell_type": "code",
   "execution_count": 11,
   "id": "590f3a1a-5c4c-468f-b98f-80d037d10c93",
   "metadata": {},
   "outputs": [
    {
     "name": "stdout",
     "output_type": "stream",
     "text": [
      "A(3, 3) = 61, with 2432 function calls.\n",
      "A(3, 9) = 4093, with 11164370 function calls.\n"
     ]
    }
   ],
   "source": [
    "def Ackermann(m, n):\n",
    "    \"\"\"\n",
    "    A Python implementation of Ackermann's function.\n",
    "\n",
    "    Args:\n",
    "        m (int): The value of m.\n",
    "        n (int): The value of n.\n",
    "\n",
    "    Returns:\n",
    "        (int): The value of Ackermann's function for A(m, n).\n",
    "    \"\"\"\n",
    "\n",
    "    # Allows us to mutate number_of_calls in local scope, generally a terrible idea!\n",
    "    global number_of_calls\n",
    "    number_of_calls += 1\n",
    "    \n",
    "    if m == 0:\n",
    "        return n + 1\n",
    "\n",
    "    elif n == 0:\n",
    "        return Ackermann(m - 1, 1)\n",
    "\n",
    "    else:\n",
    "        return Ackermann(m - 1, Ackermann(m, n - 1))\n",
    "\n",
    "number_of_calls = 0\n",
    "print(f'A(3, 3) = {Ackermann(3, 3)}, with {number_of_calls} function calls.')\n",
    "\n",
    "number_of_calls = 0\n",
    "print(f'A(3, 9) = {Ackermann(3, 9)}, with {number_of_calls} function calls.')"
   ]
  },
  {
   "cell_type": "code",
   "execution_count": null,
   "id": "69102119-1b7b-4e7c-ab1f-9bf07b748c83",
   "metadata": {},
   "outputs": [],
   "source": []
  }
 ],
 "metadata": {
  "kernelspec": {
   "display_name": "Python 3 (ipykernel)",
   "language": "python",
   "name": "python3"
  },
  "language_info": {
   "codemirror_mode": {
    "name": "ipython",
    "version": 3
   },
   "file_extension": ".py",
   "mimetype": "text/x-python",
   "name": "python",
   "nbconvert_exporter": "python",
   "pygments_lexer": "ipython3",
   "version": "3.12.0"
  }
 },
 "nbformat": 4,
 "nbformat_minor": 5
}
