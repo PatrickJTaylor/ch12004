{
 "cells": [
  {
   "cell_type": "markdown",
   "id": "5d0e36ea-04ae-458b-8785-d6a559d374c6",
   "metadata": {},
   "source": [
    "# Types"
   ]
  },
  {
   "cell_type": "markdown",
   "id": "3f8071f1-1548-4ba8-8a97-d8e02bf3c1c3",
   "metadata": {},
   "source": [
    "We have already seen that there are various **types** of data availabe in Python. Thus far, we have categorised our data in a very simple manner: numbers and letters. In reality, the situation is slightly more nuanced than this and it is worth being aware of all of the basic data types that you can play with."
   ]
  },
  {
   "cell_type": "markdown",
   "id": "f4c7b9cf-0cc0-4438-8966-63eff776839d",
   "metadata": {},
   "source": [
    "## Numeric types"
   ]
  },
  {
   "cell_type": "markdown",
   "id": "df370837-0318-4341-b362-954371b7ffdf",
   "metadata": {},
   "source": [
    "Python provides an in-built function for determining the `type` of some data. For example:"
   ]
  },
  {
   "cell_type": "code",
   "execution_count": 1,
   "id": "ee355019-c738-473a-ba27-a1fd1cb14a55",
   "metadata": {},
   "outputs": [
    {
     "data": {
      "text/plain": [
       "int"
      ]
     },
     "execution_count": 1,
     "metadata": {},
     "output_type": "execute_result"
    }
   ],
   "source": [
    "type(2)"
   ]
  },
  {
   "cell_type": "markdown",
   "id": "11afd870-261d-42ee-b65c-56624fb2762a",
   "metadata": {},
   "source": [
    "Here, we call the `type` function on the number $3$, and Python informs us that this data is of type `int`: it is an **integer**. What if we try a number which is not an integer?"
   ]
  },
  {
   "cell_type": "code",
   "execution_count": 2,
   "id": "2230a7c3-2193-452e-b25e-bfd1916b0fce",
   "metadata": {},
   "outputs": [
    {
     "data": {
      "text/plain": [
       "float"
      ]
     },
     "execution_count": 2,
     "metadata": {},
     "output_type": "execute_result"
    }
   ],
   "source": [
    "type(3.5)"
   ]
  },
  {
   "cell_type": "markdown",
   "id": "338b7bd4-5952-4c03-a67d-144667d11c34",
   "metadata": {},
   "source": [
    "As referenced earlier, numbers with a decimal point are **floats**, Python tells us as much in the code above. There is also a third basic numeric type:"
   ]
  },
  {
   "cell_type": "code",
   "execution_count": 3,
   "id": "3bc28664-07c0-4410-a70f-4b46067eaa73",
   "metadata": {},
   "outputs": [
    {
     "data": {
      "text/plain": [
       "complex"
      ]
     },
     "execution_count": 3,
     "metadata": {},
     "output_type": "execute_result"
    }
   ],
   "source": [
    "type(3 + 2j)"
   ]
  },
  {
   "cell_type": "markdown",
   "id": "45ddf7c8-3dd0-4a0f-9063-e49de6646507",
   "metadata": {},
   "source": [
    "The **complex** data type represents **complex** numbers. The `j` in the code above represents the imaginary component which is usually written with an \"i\" on pen and paper: $3 + 2i$. For the purposes of this course, it is very unlikely that you will need to manipulate complex data, but it is worth noting that Python does have this capability.\n",
    "\n",
    "It has not been explicitly highlighted before, but Python will automatically change an `int` to a `float` if necessary:"
   ]
  },
  {
   "cell_type": "code",
   "execution_count": 5,
   "id": "1fb7a032-65fc-48fc-a37d-e3604ff8a749",
   "metadata": {},
   "outputs": [
    {
     "name": "stdout",
     "output_type": "stream",
     "text": [
      "7.2\n"
     ]
    },
    {
     "data": {
      "text/plain": [
       "float"
      ]
     },
     "execution_count": 5,
     "metadata": {},
     "output_type": "execute_result"
    }
   ],
   "source": [
    "an_integer = 5\n",
    "a_float = 2.2\n",
    "\n",
    "sum_of_two_numbers = an_integer + a_float\n",
    "print(sum_of_two_numbers)\n",
    "\n",
    "type(sum_of_two_numbers)"
   ]
  },
  {
   "cell_type": "markdown",
   "id": "c150424e-e3f1-4fea-b33a-499189d23230",
   "metadata": {},
   "source": [
    "In this example, we are adding a `float` to an `int` which means that the result **must** also be a `float`."
   ]
  },
  {
   "cell_type": "markdown",
   "id": "f345deb8-214b-4b2b-ae2a-b19971f23c67",
   "metadata": {},
   "source": [
    "## Strings"
   ]
  },
  {
   "cell_type": "markdown",
   "id": "c38c0849-2ee5-4b86-8d6e-48d46461bc68",
   "metadata": {},
   "source": [
    "Strings are clearly very different from the numeric data discussed above; this is reflected by the `type` function:"
   ]
  },
  {
   "cell_type": "code",
   "execution_count": 8,
   "id": "c6d31a70-9ff6-4cbb-b40b-e0ee31c22627",
   "metadata": {},
   "outputs": [
    {
     "data": {
      "text/plain": [
       "str"
      ]
     },
     "execution_count": 8,
     "metadata": {},
     "output_type": "execute_result"
    }
   ],
   "source": [
    "type(\"Look at me, I'm a string!\")"
   ]
  },
  {
   "cell_type": "markdown",
   "id": "a68f38a6-7e81-42e1-ab79-bec11f0d72aa",
   "metadata": {},
   "source": [
    "Hopefully this further clarifies some of the examples you were asked to work through in the [Strings](strings.ipynb) exercise:"
   ]
  },
  {
   "cell_type": "code",
   "execution_count": 9,
   "id": "5b2612cb-e076-4877-8d0d-0cea22b47619",
   "metadata": {},
   "outputs": [
    {
     "ename": "TypeError",
     "evalue": "unsupported operand type(s) for +: 'int' and 'str'",
     "output_type": "error",
     "traceback": [
      "\u001b[0;31m---------------------------------------------------------------------------\u001b[0m",
      "\u001b[0;31mTypeError\u001b[0m                                 Traceback (most recent call last)",
      "Cell \u001b[0;32mIn[9], line 4\u001b[0m\n\u001b[1;32m      1\u001b[0m an_integer \u001b[38;5;241m=\u001b[39m \u001b[38;5;241m7\u001b[39m\n\u001b[1;32m      2\u001b[0m a_string \u001b[38;5;241m=\u001b[39m \u001b[38;5;124m'\u001b[39m\u001b[38;5;124mStrings are not numbers!\u001b[39m\u001b[38;5;124m'\u001b[39m\n\u001b[0;32m----> 4\u001b[0m \u001b[43man_integer\u001b[49m\u001b[43m \u001b[49m\u001b[38;5;241;43m+\u001b[39;49m\u001b[43m \u001b[49m\u001b[43ma_string\u001b[49m\n",
      "\u001b[0;31mTypeError\u001b[0m: unsupported operand type(s) for +: 'int' and 'str'"
     ]
    }
   ],
   "source": [
    "an_integer = 7\n",
    "a_string = 'Strings are not numbers!'\n",
    "\n",
    "an_integer + a_string"
   ]
  },
  {
   "cell_type": "markdown",
   "id": "621f6375-c5b5-42f8-bfad-3683db452bc7",
   "metadata": {},
   "source": [
    "```{error}\n",
    "This code yields a **TypeError**, which means that we are trying to operate on different data types in a way that doesn't make any sense. Here we are trying to \"add\" an `int` (integer) to a `str`(string): it is unclear how we might do this.\n",
    "```"
   ]
  },
  {
   "cell_type": "markdown",
   "id": "1260a877-fe59-46ce-820d-fed546e8d8a1",
   "metadata": {},
   "source": [
    "Of course, there are situations in which we might want to add an integer to a string. Consider the following:\n",
    "\n",
    "```python\n",
    "'This is an integer: ' + 10\n",
    "```\n",
    "\n",
    "This code will raise an error much like the previous example, but as human beings we can see how it might make some sense. To add the `int` to the `str`, we have to **cast** it to a `str`:"
   ]
  },
  {
   "cell_type": "code",
   "execution_count": 10,
   "id": "0d10350e-ae93-4ac0-ac64-3bc584496014",
   "metadata": {},
   "outputs": [
    {
     "data": {
      "text/plain": [
       "'This is an integer: 10'"
      ]
     },
     "execution_count": 10,
     "metadata": {},
     "output_type": "execute_result"
    }
   ],
   "source": [
    "an_integer = 10\n",
    "a_string = 'This is an integer: '\n",
    "\n",
    "a_string + str(an_integer)"
   ]
  },
  {
   "cell_type": "markdown",
   "id": "f1a3fd94-1207-450b-8eba-af962345aa73",
   "metadata": {},
   "source": [
    "Here we have used the in-built `str` function to **cast** the `int` to a `str`. In other words, we have **converted** the type of `an_integer` and turned it into a string. This process is, in a simplified manner, what happens automatically when we use f-strings with numbers: the relevant variable is formatted into a string:"
   ]
  },
  {
   "cell_type": "code",
   "execution_count": 13,
   "id": "272ae14e-76c2-4cf2-81d5-10291b8b392e",
   "metadata": {},
   "outputs": [
    {
     "data": {
      "text/plain": [
       "'This is an integer: 10'"
      ]
     },
     "execution_count": 13,
     "metadata": {},
     "output_type": "execute_result"
    }
   ],
   "source": [
    "an_integer = 10\n",
    "\n",
    "f'This is an integer: {an_integer}'"
   ]
  },
  {
   "cell_type": "markdown",
   "id": "c89e2ad2-1c68-44d3-b484-db2cb7356190",
   "metadata": {},
   "source": [
    "## Booleans"
   ]
  },
  {
   "cell_type": "markdown",
   "id": "5a4a2a27-0454-4148-9e8d-c83be543756d",
   "metadata": {},
   "source": [
    "The final basic data type we have yet to cover is the **Boolean**. This type of data represents two possible logical values: **True** or **False**:"
   ]
  },
  {
   "cell_type": "code",
   "execution_count": 14,
   "id": "7a5155a3-b81d-4697-ab9e-0aeba194162b",
   "metadata": {},
   "outputs": [
    {
     "data": {
      "text/plain": [
       "bool"
      ]
     },
     "execution_count": 14,
     "metadata": {},
     "output_type": "execute_result"
    }
   ],
   "source": [
    "type(True)"
   ]
  },
  {
   "cell_type": "code",
   "execution_count": 15,
   "id": "542336bf-230b-4a5f-a62b-29ecb62c62ab",
   "metadata": {},
   "outputs": [
    {
     "data": {
      "text/plain": [
       "bool"
      ]
     },
     "execution_count": 15,
     "metadata": {},
     "output_type": "execute_result"
    }
   ],
   "source": [
    "type(False)"
   ]
  },
  {
   "cell_type": "markdown",
   "id": "9614df97-a270-4a76-ad57-f021a73aa0d2",
   "metadata": {},
   "source": [
    "We have yet to see how this type of data can be useful, but we will come to this in due course. `True` and `False` are the first **reserved keywords** that we have come across: we cannot create variables with these names."
   ]
  },
  {
   "cell_type": "code",
   "execution_count": 16,
   "id": "c458dc22-40d3-4627-ae12-dd8c3767b616",
   "metadata": {},
   "outputs": [
    {
     "ename": "SyntaxError",
     "evalue": "cannot assign to True (922659677.py, line 1)",
     "output_type": "error",
     "traceback": [
      "\u001b[0;36m  Cell \u001b[0;32mIn[16], line 1\u001b[0;36m\u001b[0m\n\u001b[0;31m    True = 5\u001b[0m\n\u001b[0m    ^\u001b[0m\n\u001b[0;31mSyntaxError\u001b[0m\u001b[0;31m:\u001b[0m cannot assign to True\n"
     ]
    }
   ],
   "source": [
    "True = 5"
   ]
  },
  {
   "cell_type": "code",
   "execution_count": 17,
   "id": "662893ec-d6a2-4c22-a34c-9915320cf8a5",
   "metadata": {},
   "outputs": [
    {
     "ename": "SyntaxError",
     "evalue": "cannot assign to False (3477667025.py, line 1)",
     "output_type": "error",
     "traceback": [
      "\u001b[0;36m  Cell \u001b[0;32mIn[17], line 1\u001b[0;36m\u001b[0m\n\u001b[0;31m    False = 'this will raise a SyntaxError!'\u001b[0m\n\u001b[0m    ^\u001b[0m\n\u001b[0;31mSyntaxError\u001b[0m\u001b[0;31m:\u001b[0m cannot assign to False\n"
     ]
    }
   ],
   "source": [
    "False = 'this will raise a SyntaxError!'"
   ]
  }
 ],
 "metadata": {
  "kernelspec": {
   "display_name": "Python 3 (ipykernel)",
   "language": "python",
   "name": "python3"
  },
  "language_info": {
   "codemirror_mode": {
    "name": "ipython",
    "version": 3
   },
   "file_extension": ".py",
   "mimetype": "text/x-python",
   "name": "python",
   "nbconvert_exporter": "python",
   "pygments_lexer": "ipython3",
   "version": "3.12.0"
  }
 },
 "nbformat": 4,
 "nbformat_minor": 5
}
