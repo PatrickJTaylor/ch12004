{
 "cells": [
  {
   "cell_type": "markdown",
   "id": "64d3dc10-9eab-4b38-a82f-19598002a89c",
   "metadata": {},
   "source": [
    "# Strings"
   ]
  },
  {
   "cell_type": "markdown",
   "id": "fef27416-c746-42b4-a8ac-4042e4de0ced",
   "metadata": {},
   "source": [
    "## What about letters?"
   ]
  },
  {
   "cell_type": "markdown",
   "id": "918c4692-4c20-4205-8309-18d10c42e2b6",
   "metadata": {},
   "source": [
    "Up until now, all the data that we have been working with in Python has been numerical: we have been dealing with **numbers**. So what about **letters**?\n",
    "\n",
    "Words, or more generally, collections of individual letters/characters are referred to as **strings** in Python (and in many other programming languages). String syntax in Python is relatively simple, we just need to enclose whatever letters we want in **quotes**:"
   ]
  },
  {
   "cell_type": "code",
   "execution_count": 1,
   "id": "7e0602f3-8a40-4c98-b5a9-8964975b404c",
   "metadata": {},
   "outputs": [
    {
     "name": "stdout",
     "output_type": "stream",
     "text": [
      "Hello world!\n"
     ]
    }
   ],
   "source": [
    "print('Hello world!')"
   ]
  },
  {
   "cell_type": "markdown",
   "id": "38ccceae-33a7-437d-9236-cfdc01a428d2",
   "metadata": {},
   "source": [
    "Above we have used single quotes, but we can also use double quotes:"
   ]
  },
  {
   "cell_type": "code",
   "execution_count": 2,
   "id": "8ea52689-f833-4085-85eb-3e80d39b4f14",
   "metadata": {},
   "outputs": [
    {
     "name": "stdout",
     "output_type": "stream",
     "text": [
      "Hello world!\n"
     ]
    }
   ],
   "source": [
    "print(\"Hello world!\")"
   ]
  },
  {
   "cell_type": "markdown",
   "id": "a1cc62d8-0c98-42f7-b9bf-bf2f75a78e67",
   "metadata": {},
   "source": [
    "What we cannot do, is open a string with one type of quotation mark, and end it with another:"
   ]
  },
  {
   "cell_type": "code",
   "execution_count": 3,
   "id": "76a0074e-915f-45ae-b56f-4c9ffbd2dda8",
   "metadata": {},
   "outputs": [
    {
     "ename": "SyntaxError",
     "evalue": "unterminated string literal (detected at line 1) (3714141943.py, line 1)",
     "output_type": "error",
     "traceback": [
      "\u001b[0;36m  Cell \u001b[0;32mIn[3], line 1\u001b[0;36m\u001b[0m\n\u001b[0;31m    a_syntactically_invalid_string = 'This string is not valid syntax!\"\u001b[0m\n\u001b[0m                                     ^\u001b[0m\n\u001b[0;31mSyntaxError\u001b[0m\u001b[0;31m:\u001b[0m unterminated string literal (detected at line 1)\n"
     ]
    }
   ],
   "source": [
    "a_syntactically_invalid_string = 'This string is not valid syntax!\"\n",
    "print(a_syntactically_invalid_string)"
   ]
  },
  {
   "cell_type": "markdown",
   "id": "3e516534-3f38-428a-a16b-ca7c9408a80d",
   "metadata": {},
   "source": [
    "```{error}\n",
    "There are many different kinds of errors that you may encounter in Python. The example above is a **SyntaxError**, which means that the code we are trying to run **is not valid Python**. In other words, it's not just that our code doesn't do what we want it to do, it literally does not make sense to the Python interpreter. It's like we're trying to speak to someone in a language that they do not understand!\n",
    "\n",
    "Notice that the error message tells us which **line** is causing the problem. Here we are informed that line 1 is causing the **SyntaxError**, in fact the error message even specifies that the syntax problem is an `unterminated string literal`.\n",
    "\n",
    "We will return to errors in more detail later, they may be frustrating at times, but they are also immensely useful!\n",
    "```"
   ]
  },
  {
   "cell_type": "markdown",
   "id": "69e9d54b-edae-4ee0-8d92-ad51ad1d3d5f",
   "metadata": {},
   "source": [
    "It's worth emphasising that you **can** use double quotation marks **within** a string that starts and ends with a single quotation mark:"
   ]
  },
  {
   "cell_type": "code",
   "execution_count": 4,
   "id": "73b5a0e3-3c5a-4d95-8aaa-11d6db537bc2",
   "metadata": {},
   "outputs": [
    {
     "name": "stdout",
     "output_type": "stream",
     "text": [
      "This string is valid Python, despite the \"double quotes\" in the middle!\n"
     ]
    }
   ],
   "source": [
    "a_valid_string = 'This string is valid Python, despite the \"double quotes\" in the middle!'\n",
    "print(a_valid_string)"
   ]
  },
  {
   "cell_type": "markdown",
   "id": "0f0fb677-6111-434f-8624-f56625972dd5",
   "metadata": {},
   "source": [
    "Vice versa, we can include single quotes in a string (for example to use an apostrophe) that begins and finishes with a double quotation mark:"
   ]
  },
  {
   "cell_type": "code",
   "execution_count": 5,
   "id": "f33609a2-4cb9-4a56-bcf2-c27909ab038a",
   "metadata": {},
   "outputs": [
    {
     "name": "stdout",
     "output_type": "stream",
     "text": [
      "This is also valid Python, isn't that wonderful!\n"
     ]
    }
   ],
   "source": [
    "another_valid_string = \"This is also valid Python, isn't that wonderful!\"\n",
    "print(another_valid_string)"
   ]
  },
  {
   "cell_type": "markdown",
   "id": "a1c36e67-f7a2-4bd2-b8b4-e1a8c29059f8",
   "metadata": {},
   "source": [
    "What if we want to include quotation marks in a string that starts and ends with those same quotation marks? This can be accomplished with a backslack `\\` which is used to \"**escape**\" the desired character:"
   ]
  },
  {
   "cell_type": "code",
   "execution_count": 6,
   "id": "7b2e84d1-9708-4d93-80aa-f61b1dad45ea",
   "metadata": {},
   "outputs": [
    {
     "ename": "SyntaxError",
     "evalue": "invalid syntax (3376902105.py, line 1)",
     "output_type": "error",
     "traceback": [
      "\u001b[0;36m  Cell \u001b[0;32mIn[6], line 1\u001b[0;36m\u001b[0m\n\u001b[0;31m    another_silly_string = 'This string will raise a 'SyntaxError'!'\u001b[0m\n\u001b[0m                                                      ^\u001b[0m\n\u001b[0;31mSyntaxError\u001b[0m\u001b[0;31m:\u001b[0m invalid syntax\n"
     ]
    }
   ],
   "source": [
    "another_silly_string = 'This string will raise a 'SyntaxError'!'\n",
    "print(another_silly_string)"
   ]
  },
  {
   "cell_type": "code",
   "execution_count": 7,
   "id": "9411e9ba-79e4-456f-bd10-b9652fe2ac6c",
   "metadata": {},
   "outputs": [
    {
     "name": "stdout",
     "output_type": "stream",
     "text": [
      "This string will not raise a 'SyntaxError'!\n"
     ]
    }
   ],
   "source": [
    "a_less_silly_string = 'This string will not raise a \\'SyntaxError\\'!'\n",
    "print(a_less_silly_string)"
   ]
  },
  {
   "cell_type": "markdown",
   "id": "d8c52fae-4ccd-4ea8-a7dd-12fc30f6a077",
   "metadata": {},
   "source": [
    "### Exercise"
   ]
  },
  {
   "cell_type": "markdown",
   "id": "e77347a1-6305-44e4-8bcf-889d606c3cee",
   "metadata": {},
   "source": [
    "Okay so we've learnt about strings - what can we do with them? \n",
    "\n",
    "Try out the following operations in Python:\n",
    "- Adding two strings together with the `+` operator.\n",
    "- Subtracting one string from another with the `-` operator.\n",
    "- Adding a string to a number with the `+` operator.\n",
    "- Multiplying two strings together with the `*` operator.\n",
    "- Multiplying a string by a float (a number with a decimal point) with the `*` operator.\n",
    "- Multiplying a string by an integer with the `*` operator.\n",
    "\n",
    "```{caution}\n",
    "Some of these operations **will** cause errors - this is expected and entirely intentional. When you get an error, try to understand why your code does not run: does the operation you are asking Python to do make sense?\n",
    "```"
   ]
  },
  {
   "cell_type": "markdown",
   "id": "542ea1f6-8b5f-42c5-bef7-0c0e8c38025b",
   "metadata": {},
   "source": [
    "## f-strings"
   ]
  },
  {
   "cell_type": "markdown",
   "id": "f594a844-a884-44c1-b195-ba87863664af",
   "metadata": {},
   "source": [
    "Sometimes we want the content of a string to be generated programatically. All of the strings above have been typed out in full, we have supplied every letter manually and directly. Similar to how use learnt to use variables to avoid manually inputting numbers multiple times, we can apply a similar logic to generate strings with code. For example, imagine that we have just calculated the number of molecules in a tiny bubble of gas as $N_{\\mathrm{mol}} = 4.09 \\times 10^{-5}$. We could print this information directly:"
   ]
  },
  {
   "cell_type": "code",
   "execution_count": 8,
   "id": "c3a2c051-f11b-4dcd-bc47-ff43467d1ab0",
   "metadata": {},
   "outputs": [
    {
     "name": "stdout",
     "output_type": "stream",
     "text": [
      "There are 4.09e-5 molecules in the bubble of gas.\n"
     ]
    }
   ],
   "source": [
    "N_molecules = 4.09e-5 # From some previous calculation\n",
    "print('There are 4.09e-5 molecules in the bubble of gas.')"
   ]
  },
  {
   "cell_type": "markdown",
   "id": "af2e29e4-a4b0-4db1-b790-5046cfe1eb1f",
   "metadata": {},
   "source": [
    "```{tip}\n",
    "The text following the `#` in the code above is a **comment**. Comments are brief messages which can help you to **document** your code, making it easier for someone else (or your future self) to understand what your code is supposed to do.\n",
    "```\n",
    "\n",
    "Or we can use an **f-string** to generate the string programatically:"
   ]
  },
  {
   "cell_type": "code",
   "execution_count": 9,
   "id": "0f001661-de23-4c16-8fb1-e6e3b235ffaa",
   "metadata": {},
   "outputs": [
    {
     "name": "stdout",
     "output_type": "stream",
     "text": [
      "There are 4.09e-05 molecules in the bubble of gas.\n"
     ]
    }
   ],
   "source": [
    "print(f'There are {N_molecules} molecules in the bubble of gas.')"
   ]
  },
  {
   "cell_type": "markdown",
   "id": "9cf84117-72ca-4061-a3ec-ff7e8ff20f51",
   "metadata": {},
   "source": [
    "The syntax for creating an f-string can be written generically as:\n",
    "\n",
    "```python\n",
    "f'To insert the value of a variable, you use curly brackets: {name_of_variable}!'\n",
    "```\n",
    "\n",
    "Whatever variable you put in the curly brackets will be replaced by the value stored in it when the string is printed to the screen (so long as an `f` directly preceeds the string)."
   ]
  },
  {
   "cell_type": "code",
   "execution_count": null,
   "id": "cf5cbd1b-1170-4060-a17d-bc75267ec554",
   "metadata": {},
   "outputs": [],
   "source": []
  }
 ],
 "metadata": {
  "kernelspec": {
   "display_name": "Python 3 (ipykernel)",
   "language": "python",
   "name": "python3"
  },
  "language_info": {
   "codemirror_mode": {
    "name": "ipython",
    "version": 3
   },
   "file_extension": ".py",
   "mimetype": "text/x-python",
   "name": "python",
   "nbconvert_exporter": "python",
   "pygments_lexer": "ipython3",
   "version": "3.12.0"
  }
 },
 "nbformat": 4,
 "nbformat_minor": 5
}
