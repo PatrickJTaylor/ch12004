{
 "cells": [
  {
   "cell_type": "markdown",
   "id": "e3d52fc8-dd09-4a9c-b9db-5b74289b5b4e",
   "metadata": {},
   "source": [
    "# NumPy"
   ]
  },
  {
   "cell_type": "markdown",
   "id": "8f5d2662-e9f9-4c8f-abc0-7f5836574319",
   "metadata": {},
   "source": [
    "As of [lab 4](../lab_4/functions.ipynb), we have covered most of the Python fundamentals. From this point onwards, we will be working through concepts that are particularly useful for **data analysis**.\n",
    "\n",
    "We're going to start by learning about a new library: `numpy`."
   ]
  },
  {
   "cell_type": "code",
   "execution_count": 4,
   "id": "936fa3f7-1262-43cd-8f8e-1a0de0473a4e",
   "metadata": {},
   "outputs": [
    {
     "data": {
      "text/plain": [
       "array([ 40000,  48400,  57600,  67600,  78400,  90000, 102400, 115600,\n",
       "       129600, 144400, 160000])"
      ]
     },
     "execution_count": 4,
     "metadata": {},
     "output_type": "execute_result"
    }
   ],
   "source": [
    "import numpy as np\n",
    "\n",
    "temperatures = np.array([200, 220, 240, 260, 280, 300, 320, 340, 360, 380, 400])\n",
    "\n",
    "temperatures ** 2"
   ]
  },
  {
   "cell_type": "markdown",
   "id": "5054029f-5c06-46b0-9d85-f03d77ebeed0",
   "metadata": {},
   "source": [
    "You may have noticed that the `import` statement in the code above is slightly different to those we have encountered before. Rather than just typing `import numpy`, we have `import numpy as np`. The `as` keyword is used here to effectively \"nickname\" the `numpy` library, so that rather than typing `numpy.name_of_function`, we can type `np.name_of_function`.\n",
    "\n",
    "In this example, we have passed a `list` of temperatures to the `np.array` function and then raised this new object to the power of $2$. As you can see, the final output is just the original temperatures squared. As a reminder, this would **not** work with a standard `list`:"
   ]
  },
  {
   "cell_type": "code",
   "execution_count": 5,
   "id": "89bd5bf7-192a-4538-a1bb-2a10463be617",
   "metadata": {},
   "outputs": [
    {
     "ename": "TypeError",
     "evalue": "unsupported operand type(s) for ** or pow(): 'list' and 'int'",
     "output_type": "error",
     "traceback": [
      "\u001b[0;31m---------------------------------------------------------------------------\u001b[0m",
      "\u001b[0;31mTypeError\u001b[0m                                 Traceback (most recent call last)",
      "Cell \u001b[0;32mIn[5], line 3\u001b[0m\n\u001b[1;32m      1\u001b[0m temperatures \u001b[38;5;241m=\u001b[39m [\u001b[38;5;241m200\u001b[39m, \u001b[38;5;241m220\u001b[39m, \u001b[38;5;241m240\u001b[39m, \u001b[38;5;241m260\u001b[39m, \u001b[38;5;241m280\u001b[39m, \u001b[38;5;241m300\u001b[39m, \u001b[38;5;241m320\u001b[39m, \u001b[38;5;241m340\u001b[39m, \u001b[38;5;241m360\u001b[39m, \u001b[38;5;241m380\u001b[39m, \u001b[38;5;241m400\u001b[39m]\n\u001b[0;32m----> 3\u001b[0m \u001b[43mtemperatures\u001b[49m\u001b[43m \u001b[49m\u001b[38;5;241;43m*\u001b[39;49m\u001b[38;5;241;43m*\u001b[39;49m\u001b[43m \u001b[49m\u001b[38;5;241;43m2\u001b[39;49m\n",
      "\u001b[0;31mTypeError\u001b[0m: unsupported operand type(s) for ** or pow(): 'list' and 'int'"
     ]
    }
   ],
   "source": [
    "temperatures = [200, 220, 240, 260, 280, 300, 320, 340, 360, 380, 400]\n",
    "\n",
    "temperatures ** 2"
   ]
  },
  {
   "cell_type": "markdown",
   "id": "05a9a8e0-a390-4833-abba-3ae224484997",
   "metadata": {},
   "source": [
    "So therefore we can conclude that it is the `np.array` function that allows us to calculate the square of each temperature in such a compact way.\n",
    "\n",
    "The `np.array` function, perhaps unsurpisingly, creates a `numpy` **array**:"
   ]
  },
  {
   "cell_type": "code",
   "execution_count": 6,
   "id": "94ab976f-e5ff-4b63-8b52-82eb6e7b2d94",
   "metadata": {},
   "outputs": [
    {
     "data": {
      "text/plain": [
       "numpy.ndarray"
      ]
     },
     "execution_count": 6,
     "metadata": {},
     "output_type": "execute_result"
    }
   ],
   "source": [
    "temperatures = np.array([200, 220, 240, 260, 280, 300, 320, 340, 360, 380, 400])\n",
    "\n",
    "type(temperatures)"
   ]
  },
  {
   "cell_type": "markdown",
   "id": "e555fb3e-8296-4671-b983-4a79125345c3",
   "metadata": {},
   "source": [
    "`numpy` arrays behave very similarly to **vectors**. If you are not overly familiar with vectors or linear algebra, **do not panic**. For the purposes of this course we won't be worrying too much about the mathematical background describing **why** `numpy` arrays work like they do, but rather **how** we can use them to our advantage."
   ]
  },
  {
   "cell_type": "markdown",
   "id": "cf9ad04b-8bb6-4848-8ce1-a695d86d0c3e",
   "metadata": {},
   "source": [
    "## Vector arithmetic"
   ]
  },
  {
   "cell_type": "markdown",
   "id": "dbeb9c72-d793-4843-a237-067bde67089b",
   "metadata": {},
   "source": [
    "Okay so we have a new **data structure** to play with: `numpy` arrays. Unlike all of the other data structures we have looked at before (lists, tuples and dictionaries), `numpy` arrays are not **built-in** to Python, they are not included by **default**, hence we had to `import` them explicitly. To create a `numpy` array, we use the `np.array` function:"
   ]
  },
  {
   "cell_type": "code",
   "execution_count": 7,
   "id": "128404a8-7644-4199-86d2-da2dce5df416",
   "metadata": {},
   "outputs": [
    {
     "name": "stdout",
     "output_type": "stream",
     "text": [
      "[ 1  9 17 22 45 68]\n"
     ]
    }
   ],
   "source": [
    "list_of_numbers = [1, 9, 17, 22, 45, 68]\n",
    "\n",
    "array_of_numbers = np.array(list_of_numbers)\n",
    "\n",
    "print(array_of_numbers)"
   ]
  },
  {
   "cell_type": "markdown",
   "id": "37727921-2200-40c4-98fd-6f957fa70dd7",
   "metadata": {},
   "source": [
    "Here we can see that, if we just `print` one out, a `numpy` array looks much like a list. Things get much more interesting when we starting doing mathmatical operations with them:"
   ]
  },
  {
   "cell_type": "code",
   "execution_count": 8,
   "id": "4d6df1ce-dca9-4ecb-9b24-6e7363bf1933",
   "metadata": {},
   "outputs": [
    {
     "data": {
      "text/plain": [
       "array([ 1,  9, 17, 22, 45, 68])"
      ]
     },
     "execution_count": 8,
     "metadata": {},
     "output_type": "execute_result"
    }
   ],
   "source": [
    "array_of_numbers"
   ]
  },
  {
   "cell_type": "code",
   "execution_count": 9,
   "id": "322a5a13-d9b2-4ef2-98b6-3c305f146fdd",
   "metadata": {},
   "outputs": [
    {
     "data": {
      "text/plain": [
       "array([  2,  18,  34,  44,  90, 136])"
      ]
     },
     "execution_count": 9,
     "metadata": {},
     "output_type": "execute_result"
    }
   ],
   "source": [
    "array_of_numbers * 2"
   ]
  },
  {
   "cell_type": "code",
   "execution_count": 10,
   "id": "b1b11843-a87f-49ed-88d8-57ad88a98ec7",
   "metadata": {},
   "outputs": [
    {
     "data": {
      "text/plain": [
       "array([11, 19, 27, 32, 55, 78])"
      ]
     },
     "execution_count": 10,
     "metadata": {},
     "output_type": "execute_result"
    }
   ],
   "source": [
    "array_of_numbers + 10"
   ]
  },
  {
   "cell_type": "markdown",
   "id": "cbad0a79-095d-4799-9cd2-41ed86b86e66",
   "metadata": {},
   "source": [
    "Here we see that using the standard mathematical operators such as `*` and `+` allows us to operate simultaneously on **all elements of the array**. If we run `array_of_numbers * 2`, we multiply **every element** of `array_of_numbers` by $2$."
   ]
  },
  {
   "cell_type": "code",
   "execution_count": 11,
   "id": "9abb5e75-b734-4d78-819c-8eb401b3d69d",
   "metadata": {},
   "outputs": [
    {
     "name": "stdout",
     "output_type": "stream",
     "text": [
      "We can add arrays together: [4 6 9]\n",
      "Take them away from one another: [-2  4  5]\n",
      "Multiply them together: [ 3  5 14]\n",
      "Divide one by the other: [0.33333333 5.         3.5       ]\n"
     ]
    }
   ],
   "source": [
    "array_1 = np.array([1, 5, 7])\n",
    "array_2 = np.array([3, 1, 2])\n",
    "\n",
    "print(f'We can add arrays together: {array_1 + array_2}')\n",
    "print(f'Take them away from one another: {array_1 - array_2}')\n",
    "print(f'Multiply them together: {array_1 * array_2}')\n",
    "print(f'Divide one by the other: {array_1 / array_2}')"
   ]
  },
  {
   "cell_type": "markdown",
   "id": "3a327662-3e72-42c8-9e0f-a83fccf8a927",
   "metadata": {},
   "source": [
    "As shown above, we can also add, subtract, divide and multiply arrays **together**. Each of these operations is carried out **element-wise**:"
   ]
  },
  {
   "cell_type": "code",
   "execution_count": 12,
   "id": "5d05f122-8f8c-4ae4-8644-07a4d08bf6b4",
   "metadata": {},
   "outputs": [
    {
     "name": "stdout",
     "output_type": "stream",
     "text": [
      "[1 5 7]\n",
      "[3 1 2]\n",
      "[4 6 9]\n"
     ]
    }
   ],
   "source": [
    "array_3 = array_1 + array_2\n",
    "\n",
    "print(array_1)\n",
    "print(array_2)\n",
    "print(array_3)"
   ]
  },
  {
   "cell_type": "markdown",
   "id": "9c2d9382-d398-4c91-aff7-a4c492b111d6",
   "metadata": {},
   "source": [
    "Using the example of addition shown above, we see that the **first** element of `array_3` is the sum of the first element of `array_1` and the first element of `array_2`. Similarly, the **second** element of `array_3` is the sum of the second element of `array_1` and the second element of `array_2` and so on and so forth:\n",
    "\n",
    "$$\\begin{bmatrix}\n",
    "    a_{1} \\\\\n",
    "    a_{2} \\\\\n",
    "    \\vdots \\\\\n",
    "    a_{N}\n",
    "  \\end{bmatrix} +\n",
    "  \\begin{bmatrix}\n",
    "    b_{1} \\\\\n",
    "    b_{2} \\\\\n",
    "    \\vdots \\\\\n",
    "    b_{N}\n",
    "  \\end{bmatrix} =\n",
    "  \\begin{bmatrix}\n",
    "    a_{1} + b_{1} \\\\\n",
    "    a_{2} + b_{2} \\\\\n",
    "    \\vdots \\\\\n",
    "    a_{N} + b_{N}\n",
    "  \\end{bmatrix},$$\n",
    "\n",
    "this is precisely how **vector addition** works, hence the term **vector arithmetic**.\n",
    "\n",
    "---\n",
    "\n",
    "A quick sidenote: `numpy` arrays, unlike the other data structures we have looked at, must contain **homogeneous data**. A `list` can have any data that you would like in it:"
   ]
  },
  {
   "cell_type": "code",
   "execution_count": 13,
   "id": "76aa5739-4821-4354-94c8-cc80898808df",
   "metadata": {},
   "outputs": [
    {
     "name": "stdout",
     "output_type": "stream",
     "text": [
      "[1, 'a', True]\n"
     ]
    }
   ],
   "source": [
    "example_list = [1, 'a', True]\n",
    "\n",
    "print(example_list)"
   ]
  },
  {
   "cell_type": "markdown",
   "id": "ba513f6e-b296-49ea-afbd-3b10ef5e27e5",
   "metadata": {},
   "source": [
    "But if we try to create a `numpy` array out of this `list`:"
   ]
  },
  {
   "cell_type": "code",
   "execution_count": 14,
   "id": "66948e03-1ca5-4133-b306-1ed6036768dc",
   "metadata": {},
   "outputs": [
    {
     "name": "stdout",
     "output_type": "stream",
     "text": [
      "['1' 'a' 'True']\n"
     ]
    }
   ],
   "source": [
    "example_array = np.array(example_list)\n",
    "\n",
    "print(example_array)"
   ]
  },
  {
   "cell_type": "markdown",
   "id": "0fdd5997-365c-493c-be36-c4f4c8c9fc1e",
   "metadata": {},
   "source": [
    "You can see that each element has been turned into a **string** (notice the quotation marks around `'1'` and `'True'`). This is usually not what we want, so if you need a sequence of **different data types**, use a `list`, not a `numpy` array."
   ]
  },
  {
   "cell_type": "markdown",
   "id": "95b1d7e9-d403-48a0-a5e8-6ca654027045",
   "metadata": {},
   "source": [
    "## Slicing and dicing"
   ]
  },
  {
   "cell_type": "markdown",
   "id": "ea5dba95-57f0-4bf5-99de-74d3927003de",
   "metadata": {},
   "source": [
    "We've now seen how `numpy` arrays behave quite differently from other data structures with respect to mathematical operations, but in many other ways they are no different to **lists**.\n",
    "\n",
    "We can access any element of a `numpy` array by **indexing** it just like a list:"
   ]
  },
  {
   "cell_type": "code",
   "execution_count": 15,
   "id": "d4691ae8-196e-48e5-9fe6-6bc766d80c18",
   "metadata": {},
   "outputs": [],
   "source": [
    "example_array = np.array([1, 2, 3, 4, 5])"
   ]
  },
  {
   "cell_type": "code",
   "execution_count": 16,
   "id": "4384ea01-93f5-4035-a2de-beafa94eccf8",
   "metadata": {},
   "outputs": [
    {
     "data": {
      "text/plain": [
       "3"
      ]
     },
     "execution_count": 16,
     "metadata": {},
     "output_type": "execute_result"
    }
   ],
   "source": [
    "example_array[2]"
   ]
  },
  {
   "cell_type": "code",
   "execution_count": 17,
   "id": "f98b2af7-454b-47db-b7e5-5c44bba2a74a",
   "metadata": {},
   "outputs": [
    {
     "data": {
      "text/plain": [
       "1"
      ]
     },
     "execution_count": 17,
     "metadata": {},
     "output_type": "execute_result"
    }
   ],
   "source": [
    "example_array[0]"
   ]
  },
  {
   "cell_type": "code",
   "execution_count": 18,
   "id": "f7a7d651-95b2-4441-8627-6bc4ab1fc941",
   "metadata": {},
   "outputs": [
    {
     "data": {
      "text/plain": [
       "5"
      ]
     },
     "execution_count": 18,
     "metadata": {},
     "output_type": "execute_result"
    }
   ],
   "source": [
    "example_array[-1]"
   ]
  },
  {
   "cell_type": "markdown",
   "id": "2cb60397-2b5a-4ac4-9ff2-590e36baf783",
   "metadata": {},
   "source": [
    "Similarly, we can **slice** a `numpy` array to retrieve only certain elements:"
   ]
  },
  {
   "cell_type": "code",
   "execution_count": 19,
   "id": "dd7b2002-4de5-493f-960d-4ee2eba1f1c4",
   "metadata": {},
   "outputs": [
    {
     "data": {
      "text/plain": [
       "array([2, 3, 4])"
      ]
     },
     "execution_count": 19,
     "metadata": {},
     "output_type": "execute_result"
    }
   ],
   "source": [
    "example_array[1:4]"
   ]
  },
  {
   "cell_type": "code",
   "execution_count": 20,
   "id": "43f92b2d-4a72-4138-a9c5-be8840e6a040",
   "metadata": {},
   "outputs": [
    {
     "data": {
      "text/plain": [
       "array([4, 3, 2])"
      ]
     },
     "execution_count": 20,
     "metadata": {},
     "output_type": "execute_result"
    }
   ],
   "source": [
    "example_array[3:0:-1]"
   ]
  },
  {
   "cell_type": "markdown",
   "id": "fd9c062e-52d1-4abb-99a1-32044c3b668e",
   "metadata": {},
   "source": [
    "Just like we can have **nested lists**, we can have **multidimensional** `numpy` arrays:"
   ]
  },
  {
   "cell_type": "code",
   "execution_count": 21,
   "id": "94c645f5-f886-40a4-b540-b9a9f55357e0",
   "metadata": {},
   "outputs": [
    {
     "name": "stdout",
     "output_type": "stream",
     "text": [
      "[[1 2 3]\n",
      " [4 5 6]\n",
      " [7 8 9]]\n"
     ]
    }
   ],
   "source": [
    "nested_list = [[1, 2, 3], \n",
    "               [4, 5, 6], \n",
    "               [7, 8, 9]]\n",
    "\n",
    "example_array = np.array(nested_list)\n",
    "\n",
    "print(example_array)"
   ]
  },
  {
   "cell_type": "markdown",
   "id": "d570d181-7fe8-41db-bf0d-2ee0366d0849",
   "metadata": {},
   "source": [
    "These can be indexed again just like regular `list` objects:"
   ]
  },
  {
   "cell_type": "code",
   "execution_count": 22,
   "id": "35b1a547-c804-47c4-9f6d-c44e9ce60c2b",
   "metadata": {},
   "outputs": [
    {
     "data": {
      "text/plain": [
       "array([1, 2, 3])"
      ]
     },
     "execution_count": 22,
     "metadata": {},
     "output_type": "execute_result"
    }
   ],
   "source": [
    "example_array[0]"
   ]
  },
  {
   "cell_type": "code",
   "execution_count": 23,
   "id": "0816c551-02f6-4632-9ba1-9cf605a310b9",
   "metadata": {},
   "outputs": [
    {
     "data": {
      "text/plain": [
       "2"
      ]
     },
     "execution_count": 23,
     "metadata": {},
     "output_type": "execute_result"
    }
   ],
   "source": [
    "example_array[0][1]"
   ]
  },
  {
   "cell_type": "code",
   "execution_count": 24,
   "id": "b5515ed7-3ada-4bf0-9b85-43f47cbcfcbb",
   "metadata": {},
   "outputs": [
    {
     "data": {
      "text/plain": [
       "6"
      ]
     },
     "execution_count": 24,
     "metadata": {},
     "output_type": "execute_result"
    }
   ],
   "source": [
    "example_array[1][2]"
   ]
  },
  {
   "cell_type": "markdown",
   "id": "fe79b60b-5187-4580-b895-dd104b63d630",
   "metadata": {},
   "source": [
    "One **difference** from lists is that `numpy` allows us to use a more compact syntax for indexing multidimensional arrays:"
   ]
  },
  {
   "cell_type": "code",
   "execution_count": 25,
   "id": "b08e33f3-a04d-4b20-886c-0f2d5add82f9",
   "metadata": {},
   "outputs": [
    {
     "data": {
      "text/plain": [
       "8"
      ]
     },
     "execution_count": 25,
     "metadata": {},
     "output_type": "execute_result"
    }
   ],
   "source": [
    "example_array[2,1]"
   ]
  },
  {
   "cell_type": "markdown",
   "id": "17c70b10-6e25-43f1-a61c-e9f8df77eb2c",
   "metadata": {},
   "source": [
    "As opposed to:"
   ]
  },
  {
   "cell_type": "code",
   "execution_count": 26,
   "id": "5550c2f4-820a-42e6-8810-8b8f81240a5a",
   "metadata": {},
   "outputs": [
    {
     "data": {
      "text/plain": [
       "8"
      ]
     },
     "execution_count": 26,
     "metadata": {},
     "output_type": "execute_result"
    }
   ],
   "source": [
    "example_array[2][1]"
   ]
  },
  {
   "cell_type": "markdown",
   "id": "112f8461-5af0-4020-af86-1f43499dfd9d",
   "metadata": {},
   "source": [
    "Just like one-dimensional `numpy` arrays behave like **vectors**, two-dimensional arrays behave like **matrices**. You can therefore think of array slicing syntax as:\n",
    "\n",
    "```python\n",
    "name_of_array[row_index, column_index]\n",
    "```\n",
    "\n",
    "For example:"
   ]
  },
  {
   "cell_type": "code",
   "execution_count": 27,
   "id": "43730fa4-f536-479c-bf28-813517958be5",
   "metadata": {},
   "outputs": [
    {
     "data": {
      "text/plain": [
       "array([[1, 2, 3],\n",
       "       [4, 5, 6],\n",
       "       [7, 8, 9]])"
      ]
     },
     "execution_count": 27,
     "metadata": {},
     "output_type": "execute_result"
    }
   ],
   "source": [
    "example_array"
   ]
  },
  {
   "cell_type": "code",
   "execution_count": 28,
   "id": "0c4f0499-d110-4cf1-8978-3319ba2284dd",
   "metadata": {},
   "outputs": [
    {
     "data": {
      "text/plain": [
       "7"
      ]
     },
     "execution_count": 28,
     "metadata": {},
     "output_type": "execute_result"
    }
   ],
   "source": [
    "example_array[2, 0]"
   ]
  },
  {
   "cell_type": "markdown",
   "id": "b99c93c8-6f96-4351-b17d-1ac67664a97d",
   "metadata": {},
   "source": [
    "Here our **row index** is $2$, therefore we are accessing the **third** row of `example_array` (remember Python starts counting from zero!). The **column index** is $0$, so we are looking in the **first** column of `example_array`. Sure enough, we find that the number $7$ is located in the first column of the third row of `example_array`.\n",
    "\n",
    "If you are not particularly keen on vectors or matrices, you **do not have to use this mental model all of the time**. For the most part, you can think of `numpy` arrays as **fancy lists** that allow you to peform certain mathematical operations on sequences of numbers very quickly and efficiently."
   ]
  },
  {
   "cell_type": "markdown",
   "id": "e7ceeefa-4c35-457e-8068-43a430d87e51",
   "metadata": {},
   "source": [
    "## More `numpy` functions"
   ]
  },
  {
   "cell_type": "markdown",
   "id": "4db61334-adc7-4f01-b1a3-202e288705b1",
   "metadata": {},
   "source": [
    "Aside from the `array` function, `numpy` also provides us with many more useful functions that it is well worth being aware of.\n",
    "\n",
    "Previously, we learnt about the `math` library, which gives us access to various mathematical functions that go beyond the simple operators available in Python automatically such as `+` or `/`:"
   ]
  },
  {
   "cell_type": "code",
   "execution_count": 29,
   "id": "3be47646-c973-4489-9a95-028422b15a97",
   "metadata": {},
   "outputs": [
    {
     "data": {
      "text/plain": [
       "0.6931471805599453"
      ]
     },
     "execution_count": 29,
     "metadata": {},
     "output_type": "execute_result"
    }
   ],
   "source": [
    "import math\n",
    "\n",
    "math.log(2)"
   ]
  },
  {
   "cell_type": "markdown",
   "id": "1c44dc23-7b4f-44aa-943c-74fca21f79a8",
   "metadata": {},
   "source": [
    "The `math` functions are designed for `int` and `float` objects, they do not work with data structures such as a `list`:"
   ]
  },
  {
   "cell_type": "code",
   "execution_count": 30,
   "id": "1554989a-7d16-4e28-8547-bbb1f24cfc17",
   "metadata": {},
   "outputs": [
    {
     "ename": "TypeError",
     "evalue": "must be real number, not list",
     "output_type": "error",
     "traceback": [
      "\u001b[0;31m---------------------------------------------------------------------------\u001b[0m",
      "\u001b[0;31mTypeError\u001b[0m                                 Traceback (most recent call last)",
      "Cell \u001b[0;32mIn[30], line 3\u001b[0m\n\u001b[1;32m      1\u001b[0m numbers \u001b[38;5;241m=\u001b[39m [\u001b[38;5;241m1\u001b[39m, \u001b[38;5;241m2\u001b[39m, \u001b[38;5;241m3\u001b[39m, \u001b[38;5;241m4\u001b[39m, \u001b[38;5;241m5\u001b[39m]\n\u001b[0;32m----> 3\u001b[0m \u001b[43mmath\u001b[49m\u001b[38;5;241;43m.\u001b[39;49m\u001b[43mlog\u001b[49m\u001b[43m(\u001b[49m\u001b[43mnumbers\u001b[49m\u001b[43m)\u001b[49m\n",
      "\u001b[0;31mTypeError\u001b[0m: must be real number, not list"
     ]
    }
   ],
   "source": [
    "numbers = [1, 2, 3, 4, 5]\n",
    "\n",
    "math.log(numbers)"
   ]
  },
  {
   "cell_type": "markdown",
   "id": "7020c25a-96e8-42b4-a734-3bdf7bfb8ae3",
   "metadata": {},
   "source": [
    "So, if we want to take the natural logarithm of each value in `number`, we have to use a **loop**:"
   ]
  },
  {
   "cell_type": "code",
   "execution_count": 31,
   "id": "771e28ce-2764-49f7-ac70-2766a578e262",
   "metadata": {},
   "outputs": [
    {
     "data": {
      "text/plain": [
       "[0.0,\n",
       " 0.6931471805599453,\n",
       " 1.0986122886681098,\n",
       " 1.3862943611198906,\n",
       " 1.6094379124341003]"
      ]
     },
     "execution_count": 31,
     "metadata": {},
     "output_type": "execute_result"
    }
   ],
   "source": [
    "log_numbers = []\n",
    "for number in numbers:\n",
    "    log_numbers.append(math.log(number))\n",
    "\n",
    "log_numbers"
   ]
  },
  {
   "cell_type": "markdown",
   "id": "56a41bdb-5660-4999-8296-5b9e155e84a9",
   "metadata": {},
   "source": [
    "This same problem occurs for `numpy` arrays as well as lists:"
   ]
  },
  {
   "cell_type": "code",
   "execution_count": 32,
   "id": "6a4dc614-7b13-490c-a285-c860267f91f9",
   "metadata": {},
   "outputs": [
    {
     "ename": "TypeError",
     "evalue": "only length-1 arrays can be converted to Python scalars",
     "output_type": "error",
     "traceback": [
      "\u001b[0;31m---------------------------------------------------------------------------\u001b[0m",
      "\u001b[0;31mTypeError\u001b[0m                                 Traceback (most recent call last)",
      "Cell \u001b[0;32mIn[32], line 3\u001b[0m\n\u001b[1;32m      1\u001b[0m example_array \u001b[38;5;241m=\u001b[39m np\u001b[38;5;241m.\u001b[39marray([\u001b[38;5;241m1\u001b[39m, \u001b[38;5;241m2\u001b[39m, \u001b[38;5;241m3\u001b[39m, \u001b[38;5;241m4\u001b[39m, \u001b[38;5;241m5\u001b[39m])\n\u001b[0;32m----> 3\u001b[0m \u001b[43mmath\u001b[49m\u001b[38;5;241;43m.\u001b[39;49m\u001b[43mlog\u001b[49m\u001b[43m(\u001b[49m\u001b[43mexample_array\u001b[49m\u001b[43m)\u001b[49m\n",
      "\u001b[0;31mTypeError\u001b[0m: only length-1 arrays can be converted to Python scalars"
     ]
    }
   ],
   "source": [
    "example_array = np.array([1, 2, 3, 4, 5])\n",
    "\n",
    "math.log(example_array)"
   ]
  },
  {
   "cell_type": "markdown",
   "id": "cfc1b39d-13d7-4626-8262-117c7c50c0f7",
   "metadata": {},
   "source": [
    "Rather than using a loop like we had to with a list, we can get around this problem in a different way:"
   ]
  },
  {
   "cell_type": "code",
   "execution_count": 33,
   "id": "3bb7169b-25c8-46ab-a286-f274026b21e0",
   "metadata": {},
   "outputs": [
    {
     "data": {
      "text/plain": [
       "array([0.        , 0.69314718, 1.09861229, 1.38629436, 1.60943791])"
      ]
     },
     "execution_count": 33,
     "metadata": {},
     "output_type": "execute_result"
    }
   ],
   "source": [
    "np.log(example_array)"
   ]
  },
  {
   "cell_type": "markdown",
   "id": "398fcf03-b2da-4434-bc94-5d3c1bfac5f1",
   "metadata": {},
   "source": [
    "Notice that we're not calling `math.log` here, but `np.log`: the `numpy` **version of the log function**. Just like the **element-wise** operations we talked about before:"
   ]
  },
  {
   "cell_type": "code",
   "execution_count": 34,
   "id": "133d24b6-f8b9-4289-9e1c-5b6f83c3484b",
   "metadata": {},
   "outputs": [
    {
     "data": {
      "text/plain": [
       "array([2, 3, 4, 5, 6])"
      ]
     },
     "execution_count": 34,
     "metadata": {},
     "output_type": "execute_result"
    }
   ],
   "source": [
    "example_array + 1"
   ]
  },
  {
   "cell_type": "markdown",
   "id": "ac951fce-c809-494a-9ae4-927fd9c9b717",
   "metadata": {},
   "source": [
    "`numpy` also allows us to apply more complex functions such as the natural logarithm **element-wise** to an **array**.\n",
    "\n",
    "```{warning}\n",
    "This is a major point of confusion for a lot of Python beginners, so let's be very clear.\n",
    "\n",
    "If you want use the `math` functions, these will only work on **single numbers** i.e. `int` and `float` objects. To perform similar calculations on **sequences of numbers**, you can use the `numpy` versions of these functions (**which have the same name**) on a `numpy` **array**.\n",
    "```\n",
    "\n",
    "To give another concrete example, let's say we want to take the exponential of a single number. We can do this with the `math` library:"
   ]
  },
  {
   "cell_type": "code",
   "execution_count": 35,
   "id": "8c0e3be5-2192-401b-a241-83317f825371",
   "metadata": {},
   "outputs": [
    {
     "data": {
      "text/plain": [
       "148.4131591025766"
      ]
     },
     "execution_count": 35,
     "metadata": {},
     "output_type": "execute_result"
    }
   ],
   "source": [
    "math.exp(5)"
   ]
  },
  {
   "cell_type": "markdown",
   "id": "1e72cb7e-5fca-44e8-aa38-56ade72ed717",
   "metadata": {},
   "source": [
    "If we want to do the same operation on **multiple numbers**, we have to use a `numpy` **array** with the `numpy` verison of the `exp` function:"
   ]
  },
  {
   "cell_type": "code",
   "execution_count": 36,
   "id": "3ebcdabf-6285-423a-aeb6-e97264b16c9d",
   "metadata": {},
   "outputs": [
    {
     "data": {
      "text/plain": [
       "array([  2.71828183,   7.3890561 ,  20.08553692,  54.59815003,\n",
       "       148.4131591 ])"
      ]
     },
     "execution_count": 36,
     "metadata": {},
     "output_type": "execute_result"
    }
   ],
   "source": [
    "numbers = [1, 2, 3, 4, 5]\n",
    "\n",
    "np.exp(numbers)"
   ]
  },
  {
   "cell_type": "markdown",
   "id": "a3bef169-d749-4c58-bfe7-63016803e828",
   "metadata": {},
   "source": [
    "To summarise, for individual numbers use `math`, for multiple numbers use `numpy`: it is not only more convenient, but very often it is much **faster** too.\n",
    "\n",
    "---\n",
    "\n",
    "A few more `numpy` functions to be aware of include the `mean`, `sum` and `std` functions:"
   ]
  },
  {
   "cell_type": "code",
   "execution_count": 37,
   "id": "1612d87b-1861-474d-abc6-683a0460fb48",
   "metadata": {},
   "outputs": [
    {
     "name": "stdout",
     "output_type": "stream",
     "text": [
      "The mean = 192.66666666666666\n",
      "The sum = 1156\n",
      "The standard deviation = 19.913702708325125\n"
     ]
    }
   ],
   "source": [
    "example_array = np.array([200, 220, 198, 181, 201, 156])\n",
    "\n",
    "mean_of_example = np.mean(example_array)\n",
    "sum_of_example = np.sum(example_array)\n",
    "std_dev_of_example = np.std(example_array)\n",
    "\n",
    "print(f'The mean = {mean_of_example}')\n",
    "print(f'The sum = {sum_of_example}')\n",
    "print(f'The standard deviation = {std_dev_of_example}')"
   ]
  },
  {
   "cell_type": "markdown",
   "id": "6dac2f39-cefd-4e12-a40d-48f8ff6053c9",
   "metadata": {},
   "source": [
    "You might be wondering why there is a `numpy` version of the `sum` function, given that the **built-in** version works just fine on `numpy` arrays:"
   ]
  },
  {
   "cell_type": "code",
   "execution_count": 38,
   "id": "703fe4a7-a242-4134-9ccf-cb7a062c784e",
   "metadata": {},
   "outputs": [
    {
     "data": {
      "text/plain": [
       "1156"
      ]
     },
     "execution_count": 38,
     "metadata": {},
     "output_type": "execute_result"
    }
   ],
   "source": [
    "sum(example_array)"
   ]
  },
  {
   "cell_type": "markdown",
   "id": "f786f1d9-6e40-4f39-b384-01758d0a391c",
   "metadata": {},
   "source": [
    "The `numpy` version of the `sum` function calculates the sum **over a given axis**. In our one-dimensional example, this makes no difference, but if we have a **two-dimensional array**:"
   ]
  },
  {
   "cell_type": "code",
   "execution_count": 39,
   "id": "69bd6466-759c-44bf-ba4f-374a538a2dc7",
   "metadata": {},
   "outputs": [
    {
     "data": {
      "text/plain": [
       "array([ 6,  8, 10, 12])"
      ]
     },
     "execution_count": 39,
     "metadata": {},
     "output_type": "execute_result"
    }
   ],
   "source": [
    "example_array = np.array([[1, 2, 3, 4], \n",
    "                          [5, 6, 7, 8]])\n",
    "\n",
    "sum(example_array)"
   ]
  },
  {
   "cell_type": "markdown",
   "id": "f831682a-ee73-45bc-a9a2-96506e80bd57",
   "metadata": {},
   "source": [
    "The built-in `sum` function is only able to add up the **rows**, whereas the `numpy` version:"
   ]
  },
  {
   "cell_type": "code",
   "execution_count": 40,
   "id": "e4b2f37a-bc24-49d7-9550-0331cc12bdea",
   "metadata": {},
   "outputs": [
    {
     "name": "stdout",
     "output_type": "stream",
     "text": [
      "Sum along axis 0 = [ 6  8 10 12]\n",
      "Sum along axis 1 = [10 26]\n",
      "Sum along all values = 36\n"
     ]
    }
   ],
   "source": [
    "option_1 = np.sum(example_array, axis=0)\n",
    "option_2 = np.sum(example_array, axis=1)\n",
    "option_3 = np.sum(example_array)\n",
    "\n",
    "print(f'Sum along axis 0 = {option_1}')\n",
    "print(f'Sum along axis 1 = {option_2}')\n",
    "print(f'Sum along all values = {option_3}')"
   ]
  },
  {
   "cell_type": "markdown",
   "id": "a005a174-4d54-4492-9c4a-b89d1e1607ed",
   "metadata": {},
   "source": [
    "Gives us control over the summation via the `axis` **keyword argument**. In this course, you almost certainly won't have to worry about the different ways in which you can sum over a `numpy` array, but for your information if you're interested:\n",
    "\n",
    "- Axis $0$ corresponds to summing across **rows** (which is what the built-in `sum` function does).\n",
    "- Axis $1$ corresponds to summing across **columns**.\n",
    "- Providing no `axis` argument at all allows us to sum **all values**.\n",
    "\n",
    "---\n",
    "\n",
    "We were introduced to the `range` function back in [lab 3](../lab_3/loops.ipynb), this allows us to generate sequences of integers:"
   ]
  },
  {
   "cell_type": "code",
   "execution_count": 41,
   "id": "9ab407cd-1b5d-4fd8-9269-2e94e4161f1f",
   "metadata": {},
   "outputs": [
    {
     "name": "stdout",
     "output_type": "stream",
     "text": [
      "0\n",
      "2\n",
      "4\n",
      "6\n",
      "8\n",
      "10\n",
      "12\n",
      "14\n",
      "16\n",
      "18\n",
      "20\n"
     ]
    }
   ],
   "source": [
    "for number in range(0, 22, 2):\n",
    "    print(number)"
   ]
  },
  {
   "cell_type": "markdown",
   "id": "f8601dc3-727f-45ae-83db-98295af4d39d",
   "metadata": {},
   "source": [
    "Here we've printed all of the even numbers between $0$ and $20$ by passing the appropriate arguments to `range` (remember that the optional third argument is the **step size** between values).\n",
    "\n",
    "`numpy` provides its own version of the `range` function which returns a `numpy` array:"
   ]
  },
  {
   "cell_type": "code",
   "execution_count": 42,
   "id": "53aac0e3-dc82-426f-ae39-7b44d4690134",
   "metadata": {},
   "outputs": [
    {
     "data": {
      "text/plain": [
       "array([ 0,  2,  4,  6,  8, 10, 12, 14, 16, 18, 20])"
      ]
     },
     "execution_count": 42,
     "metadata": {},
     "output_type": "execute_result"
    }
   ],
   "source": [
    "np.arange(0, 22, 2)"
   ]
  },
  {
   "cell_type": "markdown",
   "id": "107b8828-02e6-4c20-b63b-fe12d8b22e1d",
   "metadata": {},
   "source": [
    "The arguments passed to `np.arange` function exactly the same way as the built-in `range` function, except that rather than spitting out a sequence of `int` objects, we now get a `numpy` **array**.\n",
    "\n",
    "To go along with the `np.arange` function, we also have the `linspace` function:"
   ]
  },
  {
   "cell_type": "code",
   "execution_count": 45,
   "id": "acc55129-763b-438b-a1f4-c0b0e9b87d78",
   "metadata": {},
   "outputs": [
    {
     "data": {
      "text/plain": [
       "array([ 0.        ,  0.1010101 ,  0.2020202 ,  0.3030303 ,  0.4040404 ,\n",
       "        0.50505051,  0.60606061,  0.70707071,  0.80808081,  0.90909091,\n",
       "        1.01010101,  1.11111111,  1.21212121,  1.31313131,  1.41414141,\n",
       "        1.51515152,  1.61616162,  1.71717172,  1.81818182,  1.91919192,\n",
       "        2.02020202,  2.12121212,  2.22222222,  2.32323232,  2.42424242,\n",
       "        2.52525253,  2.62626263,  2.72727273,  2.82828283,  2.92929293,\n",
       "        3.03030303,  3.13131313,  3.23232323,  3.33333333,  3.43434343,\n",
       "        3.53535354,  3.63636364,  3.73737374,  3.83838384,  3.93939394,\n",
       "        4.04040404,  4.14141414,  4.24242424,  4.34343434,  4.44444444,\n",
       "        4.54545455,  4.64646465,  4.74747475,  4.84848485,  4.94949495,\n",
       "        5.05050505,  5.15151515,  5.25252525,  5.35353535,  5.45454545,\n",
       "        5.55555556,  5.65656566,  5.75757576,  5.85858586,  5.95959596,\n",
       "        6.06060606,  6.16161616,  6.26262626,  6.36363636,  6.46464646,\n",
       "        6.56565657,  6.66666667,  6.76767677,  6.86868687,  6.96969697,\n",
       "        7.07070707,  7.17171717,  7.27272727,  7.37373737,  7.47474747,\n",
       "        7.57575758,  7.67676768,  7.77777778,  7.87878788,  7.97979798,\n",
       "        8.08080808,  8.18181818,  8.28282828,  8.38383838,  8.48484848,\n",
       "        8.58585859,  8.68686869,  8.78787879,  8.88888889,  8.98989899,\n",
       "        9.09090909,  9.19191919,  9.29292929,  9.39393939,  9.49494949,\n",
       "        9.5959596 ,  9.6969697 ,  9.7979798 ,  9.8989899 , 10.        ])"
      ]
     },
     "execution_count": 45,
     "metadata": {},
     "output_type": "execute_result"
    }
   ],
   "source": [
    "np.linspace(0, 10, 100)"
   ]
  },
  {
   "cell_type": "markdown",
   "id": "9db95145-7dbc-4829-917d-d4563dbdd912",
   "metadata": {},
   "source": [
    "`linspace` means **linearly-spaced**, this function returns a number of values between a given start and end point, each one equally spaced apart from each other. Here we have passed the arguments $0$, $10$ and $100$:\n",
    "\n",
    "- The first argument $0$ is the start point: we would like a range of values starting from $0$ (just like the `range` function).\n",
    "- The second argument $10$ is the end point, but unlike the `range` or `arange` functions, this end point **is included in the output**.\n",
    "- The third argument $100$ is **not the step size**, but rather the **total number of values we would like**.\n",
    "\n",
    "So to put it concisely, this example computes $100$ evenly-spaced values between $0$ and $100$."
   ]
  }
 ],
 "metadata": {
  "kernelspec": {
   "display_name": "Python 3 (ipykernel)",
   "language": "python",
   "name": "python3"
  },
  "language_info": {
   "codemirror_mode": {
    "name": "ipython",
    "version": 3
   },
   "file_extension": ".py",
   "mimetype": "text/x-python",
   "name": "python",
   "nbconvert_exporter": "python",
   "pygments_lexer": "ipython3",
   "version": "3.12.0"
  }
 },
 "nbformat": 4,
 "nbformat_minor": 5
}
