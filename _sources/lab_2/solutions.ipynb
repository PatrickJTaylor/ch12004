{
 "cells": [
  {
   "cell_type": "markdown",
   "id": "04767272-e0d2-4de5-9285-42ba176ac7d4",
   "metadata": {},
   "source": [
    "# Solutions"
   ]
  },
  {
   "cell_type": "markdown",
   "id": "aadd9488-f4a8-4b3b-9e3e-8da33adcf211",
   "metadata": {},
   "source": [
    "**1.** You have been provided with some data in the form of a dictionary:\n",
    "\n",
    "```python\n",
    "electronegativities = {'group 1' : (0.98, 0.93, 0.82, 0.82, 0.79, 0.79),\n",
    "                       'group 2' : (1.57, 1.31, 1.00, 0.95, 0.89, 0.90),\n",
    "                       'group 3' : (2.04, 1.61, 1.81, 1.78, 1.62),\n",
    "                       'group 4' : (2.55, 1.90, 2.01, 1.96, 1.87),\n",
    "                       'group 5' : (3.04, 2.19, 2.18, 2.05, 2.02),\n",
    "                       'group 6' : (3.44, 2.58, 2.55, 2.10, 2.00)}\n",
    "```\n",
    "\n",
    "a) Calculate the difference between the **mean** electronegativities of the group $1$ and group $2$ elements.\n",
    "\n",
    "b) Add the [electronegativities of the group $7$ elements](https://en.wikipedia.org/wiki/Electronegativities_of_the_elements_(data_page)) to the dictionary under the key `'group 7'`. You may store the new electronegativities in a `tuple` or `list`."
   ]
  },
  {
   "cell_type": "code",
   "execution_count": 1,
   "id": "9f5ef471-83e4-4208-ae1c-ae3de23ebff4",
   "metadata": {},
   "outputs": [
    {
     "name": "stdout",
     "output_type": "stream",
     "text": [
      "The difference in the mean electronegativities is 0.2483333333333333.\n"
     ]
    }
   ],
   "source": [
    "electronegativities = {'group 1' : (0.98, 0.93, 0.82, 0.82, 0.79, 0.79),\n",
    "                       'group 2' : (1.57, 1.31, 1.00, 0.95, 0.89, 0.90),\n",
    "                       'group 3' : (2.04, 1.61, 1.81, 1.78, 1.62),\n",
    "                       'group 4' : (2.55, 1.90, 2.01, 1.96, 1.87),\n",
    "                       'group 5' : (3.04, 2.19, 2.18, 2.05, 2.02),\n",
    "                       'group 6' : (3.44, 2.58, 2.55, 2.10, 2.00)}\n",
    "\n",
    "group_1_mean = sum(electronegativities['group 1']) / len(electronegativities['group 1'])\n",
    "group_2_mean = sum(electronegativities['group 2']) / len(electronegativities['group 2'])\n",
    "\n",
    "print(f'The difference in the mean electronegativities is {group_2_mean - group_1_mean}.')"
   ]
  },
  {
   "cell_type": "code",
   "execution_count": 2,
   "id": "997e23f3-00e0-4f83-863c-107f0d8940f9",
   "metadata": {},
   "outputs": [
    {
     "name": "stdout",
     "output_type": "stream",
     "text": [
      "{'group 1': (0.98, 0.93, 0.82, 0.82, 0.79, 0.79), 'group 2': (1.57, 1.31, 1.0, 0.95, 0.89, 0.9), 'group 3': (2.04, 1.61, 1.81, 1.78, 1.62), 'group 4': (2.55, 1.9, 2.01, 1.96, 1.87), 'group 5': (3.04, 2.19, 2.18, 2.05, 2.02), 'group 6': (3.44, 2.58, 2.55, 2.1, 2.0), 'group 7': (3.98, 3.16, 2.96, 2.66, 2.2)}\n"
     ]
    }
   ],
   "source": [
    "electronegativities['group 7'] = (3.98, 3.16, 2.96, 2.66, 2.20)\n",
    "\n",
    "print(electronegativities)"
   ]
  },
  {
   "cell_type": "markdown",
   "id": "78ee2926-e425-45b1-98bc-3a552a7ec752",
   "metadata": {},
   "source": [
    "**2.** Consider the following blocks of code. Each one of them will cause an error when run. Taking each block one-by-one:\n",
    "\n",
    "- Predict which line of code will cause the error and why this line is problematic.\n",
    "\n",
    "- Run the block of code in a Jupyter notebook and see whether or not you were correct.\n",
    "\n",
    "- Modify the code to solve the problem and thus remove the error.\n",
    "\n",
    "Block 1:\n",
    "```python\n",
    "functional_groups = ('Aldehyde', 'Ketone', 'Ester', 'Ether')\n",
    "\n",
    "functional_groups.append('Amine')\n",
    "\n",
    "print(f'Here is a selection of functional groups: {functional_groups}')\n",
    "```"
   ]
  },
  {
   "cell_type": "code",
   "execution_count": 3,
   "id": "fe86483b-9551-44b5-8196-104fa600d38c",
   "metadata": {},
   "outputs": [
    {
     "name": "stdout",
     "output_type": "stream",
     "text": [
      "Here is a selection of functional groups: ['Aldehyde', 'Ketone', 'Ester', 'Ether', 'Amine']\n"
     ]
    }
   ],
   "source": [
    "functional_groups = ['Aldehyde', 'Ketone', 'Ester', 'Ether']\n",
    "\n",
    "functional_groups.append('Amine')\n",
    "\n",
    "print(f'Here is a selection of functional groups: {functional_groups}')"
   ]
  },
  {
   "cell_type": "markdown",
   "id": "ab2fe9ec-491d-411d-aa7d-213947dddc6d",
   "metadata": {},
   "source": [
    "Block 2: This code uses the Kapustinskii equation to estimate the lattice energy of NaCl:\n",
    "\n",
    "$$U_{L} = \\frac{kvz_{+}z_{-}}{r_{+} + r_{-}},$$\n",
    "\n",
    "where $k$ is a constant, $v$ is the number of ions in the formula unit, $z_{+}$ and $z_{-}$ are the charges of the cations and anions and $r_{+}$ and $r_{-}$ are the ionic radii of the cations and anions.\n",
    "```{note}\n",
    "This block also contains a problem which, whilst it **will not cause an error**, will lead to the wrong result being calculated. See if you can spot and fix this problem in addition to removing the error.\n",
    "```\n",
    "\n",
    "```python\n",
    "k = 107900 # Constant in the Kapustinskii equation in pm kJmol-1.\n",
    "\n",
    "group_1_radii = ('90', '116', '152', '166') # Lithium, Sodium, Potassium, Rubidium\n",
    "group_7_radii = ('119', '167', '182', '206') # Fluorine, Chlorine, Bromine, Iodine\n",
    "\n",
    "v = 2\n",
    "z_plus = 1\n",
    "z_minus = 1\n",
    "\n",
    "radius_Na = group_1_radii[2]\n",
    "radius_Cl = group_7_radii[2]\n",
    "\n",
    "lattice_energy = (k * v * z_plus * z_minus) / (radius_Na + radius_Cl)\n",
    "\n",
    "print(f'The lattice energy of NaCl is: {lattice_energy} kJmol-1')\n",
    "```"
   ]
  },
  {
   "cell_type": "code",
   "execution_count": 4,
   "id": "b0bf48ec-21f8-475a-ae5f-abd40839313f",
   "metadata": {},
   "outputs": [
    {
     "name": "stdout",
     "output_type": "stream",
     "text": [
      "The lattice energy of NaCl is: 762.5441696113074 kJmol-1\n"
     ]
    }
   ],
   "source": [
    "k = 107900 # Constant in the Kapustinskii equation in pm kJmol-1.\n",
    "\n",
    "group_1_radii = (90, 116, 152, 166) # Lithium, Sodium, Potassium, Rubidium\n",
    "group_7_radii = (119, 167, 182, 206) # Fluorine, Chlorine, Bromine, Iodine\n",
    "\n",
    "v = 2\n",
    "z_plus = 1\n",
    "z_minus = 1\n",
    "\n",
    "radius_Na = group_1_radii[1]\n",
    "radius_Cl = group_7_radii[1]\n",
    "\n",
    "lattice_energy = (k * v * z_plus * z_minus) / (radius_Na + radius_Cl)\n",
    "\n",
    "print(f'The lattice energy of NaCl is: {lattice_energy} kJmol-1')"
   ]
  },
  {
   "cell_type": "code",
   "execution_count": null,
   "id": "e5ee2790-8565-48bf-b1ee-6931cf3285fa",
   "metadata": {},
   "outputs": [],
   "source": []
  }
 ],
 "metadata": {
  "kernelspec": {
   "display_name": "Python 3 (ipykernel)",
   "language": "python",
   "name": "python3"
  },
  "language_info": {
   "codemirror_mode": {
    "name": "ipython",
    "version": 3
   },
   "file_extension": ".py",
   "mimetype": "text/x-python",
   "name": "python",
   "nbconvert_exporter": "python",
   "pygments_lexer": "ipython3",
   "version": "3.12.0"
  }
 },
 "nbformat": 4,
 "nbformat_minor": 5
}
