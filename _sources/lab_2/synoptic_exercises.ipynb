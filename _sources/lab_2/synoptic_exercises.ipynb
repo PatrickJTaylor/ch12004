{
 "cells": [
  {
   "cell_type": "markdown",
   "id": "04767272-e0d2-4de5-9285-42ba176ac7d4",
   "metadata": {},
   "source": [
    "# Synoptic exercises"
   ]
  },
  {
   "cell_type": "markdown",
   "id": "aadd9488-f4a8-4b3b-9e3e-8da33adcf211",
   "metadata": {},
   "source": [
    "Welcome back - time to test out your new Python skills!\n",
    "\n",
    "**1.** You have been provided with some data in the form of a dictionary:\n",
    "\n",
    "```python\n",
    "electronegativities = {'group 1' : (0.98, 0.93, 0.82, 0.82, 0.79, 0.79),\n",
    "                       'group 2' : (1.57, 1.31, 1.00, 0.95, 0.89, 0.90),\n",
    "                       'group 3' : (2.04, 1.61, 1.81, 1.78, 1.62),\n",
    "                       'group 4' : (2.55, 1.90, 2.01, 1.96, 1.87),\n",
    "                       'group 5' : (3.04, 2.19, 2.18, 2.05, 2.02),\n",
    "                       'group 6' : (3.44, 2.58, 2.55, 2.10, 2.00)}\n",
    "```\n",
    "\n",
    "a) Calculate the difference between the **mean** electronegativities of the group $1$ and group $2$ elements.\n",
    "\n",
    "b) Add the [electronegativities of the group $7$ elements](https://en.wikipedia.org/wiki/Electronegativities_of_the_elements_(data_page)) to the dictionary under the key `'group 7'`. You may store the new electronegativities in a `tuple` or `list`."
   ]
  },
  {
   "cell_type": "markdown",
   "id": "78ee2926-e425-45b1-98bc-3a552a7ec752",
   "metadata": {},
   "source": [
    "**2.** Consider the following blocks of code. Each one of them will cause an error when run. Taking each block one-by-one:\n",
    "\n",
    "- Predict which line of code will cause the error and why this line is problematic.\n",
    "\n",
    "- Run the block of code in a Jupyter notebook and see whether or not you were correct.\n",
    "\n",
    "- Modify the code to solve the problem and thus remove the error.\n",
    "\n",
    "Block 1:\n",
    "```python\n",
    "functional_groups = ('Aldehyde', 'Ketone', 'Ester', 'Ether')\n",
    "\n",
    "functional_groups.append('Amine')\n",
    "\n",
    "print(f'Here is a selection of functional groups: {functional_groups}')\n",
    "```\n",
    "\n",
    "Block 2: This code uses the Kapustinskii equation to estimate the lattice energy of NaCl:\n",
    "\n",
    "$$U_{L} = \\frac{kvz_{+}z_{-}}{r_{+} + r_{-}},$$\n",
    "\n",
    "where $k$ is a constant, $v$ is the number of ions in the formula unit, $z_{+}$ and $z_{-}$ are the charges of the cations and anions and $r_{+}$ and $r_{-}$ are the ionic radii of the cations and anions.\n",
    "```{note}\n",
    "This block also contains a problem which, whilst it **will not cause an error**, will lead to the wrong result being calculated. See if you can spot and fix this problem in addition to removing the error.\n",
    "```\n",
    "\n",
    "```python\n",
    "k = 107900 # Constant in the Kapustinskii equation in pm kJmol-1.\n",
    "\n",
    "group_1_radii = ('90', '116', '152', '166') # Lithium, Sodium, Potassium, Rubidium\n",
    "group_7_radii = ('119', '167', '182', '206') # Fluorine, Chlorine, Bromine, Iodine\n",
    "\n",
    "v = 2\n",
    "z_plus = 1\n",
    "z_minus = 1\n",
    "\n",
    "radius_Na = group_1_radii[2]\n",
    "radius_Cl = group_7_radii[2]\n",
    "\n",
    "lattice_energy = (k * v * z_plus * z_minus) / (radius_Na + radius_Cl)\n",
    "\n",
    "print(f'The lattice energy of NaCl is: {lattice_energy} kJmol-1')\n",
    "```"
   ]
  },
  {
   "cell_type": "code",
   "execution_count": null,
   "id": "e9727f44-e6db-429e-87f1-220bddbecf9b",
   "metadata": {},
   "outputs": [],
   "source": []
  }
 ],
 "metadata": {
  "kernelspec": {
   "display_name": "Python 3 (ipykernel)",
   "language": "python",
   "name": "python3"
  },
  "language_info": {
   "codemirror_mode": {
    "name": "ipython",
    "version": 3
   },
   "file_extension": ".py",
   "mimetype": "text/x-python",
   "name": "python",
   "nbconvert_exporter": "python",
   "pygments_lexer": "ipython3",
   "version": "3.11.0"
  }
 },
 "nbformat": 4,
 "nbformat_minor": 5
}
