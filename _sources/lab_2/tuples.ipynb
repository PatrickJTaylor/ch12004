{
 "cells": [
  {
   "cell_type": "markdown",
   "id": "cd46053e-fdb4-4630-a117-c748b2270c05",
   "metadata": {},
   "source": [
    "# Tuples"
   ]
  },
  {
   "cell_type": "markdown",
   "id": "b161247d-9edf-40da-a95e-36468ae9f11d",
   "metadata": {},
   "source": [
    "The second **data structure** that we will discuss is the `tuple`. A `tuple` is very similar to a `list`:"
   ]
  },
  {
   "cell_type": "code",
   "execution_count": 1,
   "id": "b0907579-83b3-4d06-bab9-973714a71137",
   "metadata": {},
   "outputs": [
    {
     "name": "stdout",
     "output_type": "stream",
     "text": [
      "(1, 2, 3, 4, 5)\n"
     ]
    }
   ],
   "source": [
    "a_tuple = (1, 2, 3, 4, 5)\n",
    "print(a_tuple)"
   ]
  },
  {
   "cell_type": "code",
   "execution_count": 2,
   "id": "d756e1b4-d447-4390-bda5-61c6826a6ac7",
   "metadata": {},
   "outputs": [
    {
     "data": {
      "text/plain": [
       "tuple"
      ]
     },
     "execution_count": 2,
     "metadata": {},
     "output_type": "execute_result"
    }
   ],
   "source": [
    "type(a_tuple)"
   ]
  },
  {
   "cell_type": "markdown",
   "id": "ef1e783f-2c05-40b1-a1b3-b45083c9a1b0",
   "metadata": {},
   "source": [
    "As you can see above, the only difference in syntax is the type of brackets, we use **square** brackets to create a `list`, whereas we use **round** brackets to create a `tuple`. We can index and slice tuples just like lists:"
   ]
  },
  {
   "cell_type": "code",
   "execution_count": 3,
   "id": "1e7899de-11e1-40a9-b1ab-23d7ad4ceb16",
   "metadata": {},
   "outputs": [
    {
     "name": "stdout",
     "output_type": "stream",
     "text": [
      "The third element of the colours tuple is: Forest Green\n",
      "The middle two elements of the colours tuple are: ('Oxblood Red', 'Forest Green')\n"
     ]
    }
   ],
   "source": [
    "colours = ('Duck Egg Blue', 'Oxblood Red', 'Forest Green', 'Royal Purple')\n",
    "\n",
    "print(f'The third element of the colours tuple is: {colours[2]}')\n",
    "print(f'The middle two elements of the colours tuple are: {colours[1:3]}')"
   ]
  },
  {
   "cell_type": "markdown",
   "id": "344b6091-fb68-4fd3-8d51-7f293d498a1c",
   "metadata": {},
   "source": [
    "At this point you might well be thinking, \"Well what's the point of a tuple if it's just like a list?\" The key difference is that tuples are **immutable**: once they have been created, they cannot be changed:"
   ]
  },
  {
   "cell_type": "code",
   "execution_count": 4,
   "id": "9808954d-0b0e-4916-9c35-34d405cad39f",
   "metadata": {},
   "outputs": [
    {
     "ename": "TypeError",
     "evalue": "'tuple' object does not support item assignment",
     "output_type": "error",
     "traceback": [
      "\u001b[0;31m---------------------------------------------------------------------------\u001b[0m",
      "\u001b[0;31mTypeError\u001b[0m                                 Traceback (most recent call last)",
      "Cell \u001b[0;32mIn[4], line 1\u001b[0m\n\u001b[0;32m----> 1\u001b[0m \u001b[43mcolours\u001b[49m\u001b[43m[\u001b[49m\u001b[38;5;241;43m2\u001b[39;49m\u001b[43m]\u001b[49m \u001b[38;5;241m=\u001b[39m \u001b[38;5;124m'\u001b[39m\u001b[38;5;124mLime Green\u001b[39m\u001b[38;5;124m'\u001b[39m\n",
      "\u001b[0;31mTypeError\u001b[0m: 'tuple' object does not support item assignment"
     ]
    }
   ],
   "source": [
    "colours[2] = 'Lime Green'"
   ]
  },
  {
   "cell_type": "markdown",
   "id": "010b2514-8733-4409-a950-108aa1e15802",
   "metadata": {},
   "source": [
    "This does not mean that we cannot do anything with tuples at all, for example we can still concatenate two of them together just like lists:"
   ]
  },
  {
   "cell_type": "code",
   "execution_count": 5,
   "id": "e5390111-5cd9-4fef-87ea-45d946082e17",
   "metadata": {},
   "outputs": [
    {
     "data": {
      "text/plain": [
       "('Physical', 'Computational', 'Organic', 'Inorganic')"
      ]
     },
     "execution_count": 5,
     "metadata": {},
     "output_type": "execute_result"
    }
   ],
   "source": [
    "tuple_1 = ('Physical', 'Computational')\n",
    "tuple_2 = ('Organic', 'Inorganic')\n",
    "\n",
    "tuple_1 + tuple_2"
   ]
  },
  {
   "cell_type": "markdown",
   "id": "188150ac-21cb-4a1b-82c7-ac65207c4e68",
   "metadata": {},
   "source": [
    "The main message is that we cannot modify the tuple itself. We can add two of them together, but we cannot change what is actually **in** a given tuple once it has been created.\n",
    "\n",
    "Of course, this all begs the question: \"Why would I ever use a tuple rather than a list?\" There are several reasons, but perhaps the most important one is that tuples are much less **error-prone**. Precisely because tuples are **immutable**, it is literally impossible for your code to accidentally modify them in an undesirable way. Using lists, it is possible (and indeed it happens quite often) that you can unintentionally mutate the contents of the list in such a way as to end up with the wrong result. The advantage of tuples is therefore that, so long as you do not **need** to change its contents, it guarantees that no matter what the rest of your code does, it will not accidentally mutate a tuple. That being said, a lot of the time we do **need** to change the contents of our data structures, so then we use lists.\n",
    "\n",
    "```{tip}\n",
    "A good rule of thumb is the following: if you **need** to use a list, because you need it to be **mutable**, then go ahead. But if you do **not** need to change the contents, then always use a tuple instead.\n",
    "```"
   ]
  },
  {
   "cell_type": "code",
   "execution_count": null,
   "id": "f133c873-6aef-4bf4-9cec-70a67e42bd6e",
   "metadata": {},
   "outputs": [],
   "source": []
  }
 ],
 "metadata": {
  "kernelspec": {
   "display_name": "Python 3 (ipykernel)",
   "language": "python",
   "name": "python3"
  },
  "language_info": {
   "codemirror_mode": {
    "name": "ipython",
    "version": 3
   },
   "file_extension": ".py",
   "mimetype": "text/x-python",
   "name": "python",
   "nbconvert_exporter": "python",
   "pygments_lexer": "ipython3",
   "version": "3.12.0"
  }
 },
 "nbformat": 4,
 "nbformat_minor": 5
}
