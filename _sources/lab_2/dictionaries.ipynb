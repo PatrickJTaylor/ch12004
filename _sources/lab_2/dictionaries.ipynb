{
 "cells": [
  {
   "cell_type": "markdown",
   "id": "ac701848-5a28-4be0-970c-565d7100459b",
   "metadata": {},
   "source": [
    "# Dictionaries"
   ]
  },
  {
   "cell_type": "markdown",
   "id": "b848db23-517f-4b62-b378-96e05cfdf62a",
   "metadata": {},
   "source": [
    "The final basic **data structure** that we will be covering in this course is the **dictionary** (of type `dict`). This collection is referred to as a \"dictionary\" because it consists of **key**-**value** pairs. In the case of a literal dictionary, there are a set of words which act as the \"keys\" and a set of definitions which act as the \"values\". In a programming context, it doesn't have to be words and definitions, but the same principle applies. Let's consider a simple example:"
   ]
  },
  {
   "cell_type": "code",
   "execution_count": 5,
   "id": "e347a851-e7c3-4615-a3f4-141eb40262cc",
   "metadata": {},
   "outputs": [
    {
     "data": {
      "text/plain": [
       "dict"
      ]
     },
     "execution_count": 5,
     "metadata": {},
     "output_type": "execute_result"
    }
   ],
   "source": [
    "group_2 = {'Be' : 4,\n",
    "           'Mg' : 12,\n",
    "           'Ca' : 20,\n",
    "           'Sr' : 38,\n",
    "           'Ba' : 56}\n",
    "\n",
    "type(group_2)"
   ]
  },
  {
   "cell_type": "markdown",
   "id": "33691a6a-8059-44be-a5b8-eb431ae145e4",
   "metadata": {},
   "source": [
    "In this example, we have created a dictionary in which the keys are the symbols of the group $2$ elements, and the values are their corresponding atomic numbers. The general syntax for creating a dictionary is a comma-separated collection of key : value pairs enclosed by **curly brackets**:\n",
    "\n",
    "```python\n",
    "name_of_dictionary = {key_1 : value_1, key_2 : value_2, key_3 : value_3}\n",
    "```\n",
    "\n",
    "Once a dictionary has been created, its **keys** can be used just to retrieve its **values**, much like an **index** in a list:"
   ]
  },
  {
   "cell_type": "code",
   "execution_count": 6,
   "id": "4c713353-b986-4772-94bb-45f6c8087db3",
   "metadata": {},
   "outputs": [
    {
     "data": {
      "text/plain": [
       "20"
      ]
     },
     "execution_count": 6,
     "metadata": {},
     "output_type": "execute_result"
    }
   ],
   "source": [
    "group_2['Ca']"
   ]
  },
  {
   "cell_type": "markdown",
   "id": "af17b22e-2d4c-4493-9f9f-8c169fda257f",
   "metadata": {},
   "source": [
    "Note that whilst this process is similar to indexing a list, dictionaries **cannot** be indexed (with an `int`) like a list:"
   ]
  },
  {
   "cell_type": "code",
   "execution_count": 7,
   "id": "b4c3509a-5380-48b1-81c0-cb5ce065830b",
   "metadata": {},
   "outputs": [
    {
     "ename": "KeyError",
     "evalue": "2",
     "output_type": "error",
     "traceback": [
      "\u001b[0;31m---------------------------------------------------------------------------\u001b[0m",
      "\u001b[0;31mKeyError\u001b[0m                                  Traceback (most recent call last)",
      "Cell \u001b[0;32mIn[7], line 1\u001b[0m\n\u001b[0;32m----> 1\u001b[0m \u001b[43mgroup_2\u001b[49m\u001b[43m[\u001b[49m\u001b[38;5;241;43m2\u001b[39;49m\u001b[43m]\u001b[49m\n",
      "\u001b[0;31mKeyError\u001b[0m: 2"
     ]
    }
   ],
   "source": [
    "group_2[2]"
   ]
  },
  {
   "cell_type": "markdown",
   "id": "031653de-fa95-435f-b718-8385427e2b1a",
   "metadata": {},
   "source": [
    "```{error}\n",
    "Aha, a new error type! This is a **KeyError**, which indicates that the key we are trying to use does not exist in the dictionary. Sure enough, the keys here are all strings of group $2$ elements, so `2` is not a valid key.\n",
    "```\n",
    "\n",
    "Unlike tuples, dictionaries are **mutable**, so we can add new key : value pairs:"
   ]
  },
  {
   "cell_type": "code",
   "execution_count": 8,
   "id": "fc2d6915-519b-4f3c-8da6-8b346bcf2225",
   "metadata": {},
   "outputs": [
    {
     "name": "stdout",
     "output_type": "stream",
     "text": [
      "{'Be': 4, 'Mg': 12, 'Ca': 20, 'Sr': 38, 'Ba': 56, 'Ra': 88}\n"
     ]
    }
   ],
   "source": [
    "group_2['Ra'] = 88\n",
    "\n",
    "print(group_2)"
   ]
  },
  {
   "cell_type": "markdown",
   "id": "8bae55fb-7b8e-45e6-938d-4f0e1d80f53a",
   "metadata": {},
   "source": [
    "We can also modify values that are already in the dictionary. For example, imagine that we wanted to replace the atomic number for Be with its atomic mass:"
   ]
  },
  {
   "cell_type": "code",
   "execution_count": 9,
   "id": "933e03ab-a6ef-4973-81b8-6f932099fc45",
   "metadata": {},
   "outputs": [
    {
     "name": "stdout",
     "output_type": "stream",
     "text": [
      "{'Be': 9.0122, 'Mg': 12, 'Ca': 20, 'Sr': 38, 'Ba': 56, 'Ra': 88}\n"
     ]
    }
   ],
   "source": [
    "group_2['Be'] = 9.0122\n",
    "\n",
    "print(group_2)"
   ]
  },
  {
   "cell_type": "markdown",
   "id": "07ad7f97-90b6-4de5-9cc7-e5a98d673ef4",
   "metadata": {},
   "source": [
    "Above we have replaced the atomic number, but there is also nothing stopping us from setting the value for the key `'Be'` to a tuple or list of **both** the atomic number and the atomic mass:"
   ]
  },
  {
   "cell_type": "code",
   "execution_count": 10,
   "id": "b7390b6d-f1d1-458a-a011-dd7fc80c0747",
   "metadata": {},
   "outputs": [
    {
     "name": "stdout",
     "output_type": "stream",
     "text": [
      "{'Be': (4, 9.0122), 'Mg': 12, 'Ca': 20, 'Sr': 38, 'Ba': 56, 'Ra': 88}\n"
     ]
    }
   ],
   "source": [
    "group_2['Be'] = (4, 9.0122)\n",
    "\n",
    "print(group_2)"
   ]
  },
  {
   "cell_type": "markdown",
   "id": "de5631d9-26b6-43a6-955e-18c8f94411c7",
   "metadata": {},
   "source": [
    "## Exercise"
   ]
  },
  {
   "cell_type": "markdown",
   "id": "31a067bd-b6ae-4171-9d1a-6747a3d7f80a",
   "metadata": {},
   "source": [
    "Create a dictionary describing some of the basic physical properties of **silicon**. For example, you could have keys like `'Symbol'`, `'Atomic Number'`, `'Atomic Mass'`, `'Melting Point'`, `'Electronegativity'` etc, with appropriate values set for each one. Test your dictionary once you have assigned it to a variable by trying to access and print different **values** with the appropriate **keys**."
   ]
  },
  {
   "cell_type": "code",
   "execution_count": null,
   "id": "106d8f45-db88-48b9-88dc-141b8b3991ee",
   "metadata": {},
   "outputs": [],
   "source": []
  }
 ],
 "metadata": {
  "kernelspec": {
   "display_name": "Python 3 (ipykernel)",
   "language": "python",
   "name": "python3"
  },
  "language_info": {
   "codemirror_mode": {
    "name": "ipython",
    "version": 3
   },
   "file_extension": ".py",
   "mimetype": "text/x-python",
   "name": "python",
   "nbconvert_exporter": "python",
   "pygments_lexer": "ipython3",
   "version": "3.12.0"
  }
 },
 "nbformat": 4,
 "nbformat_minor": 5
}
